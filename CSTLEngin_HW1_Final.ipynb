{
 "cells": [
  {
   "cell_type": "markdown",
   "metadata": {},
   "source": [
    "# Load Packages"
   ]
  },
  {
   "cell_type": "code",
   "execution_count": 1,
   "metadata": {},
   "outputs": [],
   "source": [
    "import pandas as pd\n",
    "import numpy as np\n",
    "import seaborn as sns\n",
    "import matplotlib.pyplot as plt\n",
    "import scipy.integrate as integrate"
   ]
  },
  {
   "cell_type": "markdown",
   "metadata": {},
   "source": [
    "# Load and Clean Dataframe"
   ]
  },
  {
   "cell_type": "code",
   "execution_count": 2,
   "metadata": {},
   "outputs": [],
   "source": [
    "data = pd.read_table(\"GrainSizeDistribution.dat\", sep=\"\\s+\")"
   ]
  },
  {
   "cell_type": "code",
   "execution_count": 12,
   "metadata": {},
   "outputs": [],
   "source": [
    "data.drop(['distribution', '(source', 'US', 'Army',\n",
    "       'Corps', 'of', 'Engineers)'], axis=1, inplace=True)\n",
    "data.drop([0,1,2,3], axis=0, inplace=True)\n",
    "data.rename(columns={\"Sediment\": \"GrainSize_mm\", \"grain\": \"Percent\", \"size\":\"CumulativePercCoarser\"}, inplace=True)\n",
    "data = data.astype(np.float)"
   ]
  },
  {
   "cell_type": "code",
   "execution_count": 13,
   "metadata": {},
   "outputs": [],
   "source": [
    "data['CumulativePercFiner'] = 100 - data['CumulativePercCoarser']"
   ]
  },
  {
   "cell_type": "markdown",
   "metadata": {},
   "source": [
    "# --------- Question a ---------"
   ]
  },
  {
   "cell_type": "markdown",
   "metadata": {},
   "source": [
    "### <span style=\"color:STEELBLUE\">**GIVEN:**</span> grain size (mm)\n",
    "### <span style=\"color:STEELBLUE\">**FIND:**</span> mean and median diameter  \n",
    "### <span style=\"color:STEELBLUE\">**PRINCIPLES:**</span>\n",
    "### Krumbien (1936) Phi Scale:\n",
    "### $\\phi = -\\log_2 d$\n",
    "### Otto (1939 and Inman (1952):\n",
    "### $M_{d\\phi} =  \\frac{(\\phi_{84} + \\phi_{16})}2$\n",
    "### $d_{mean} =  {2}^{-M_{d\\phi}}$\n",
    "### Sorting:\n",
    "### $\\sigma_{\\phi} = \\frac{(\\phi_{84} - \\phi_{16})}2$"
   ]
  },
  {
   "cell_type": "markdown",
   "metadata": {},
   "source": [
    "### <span style=\"color:STEELBLUE\">**SOLUTION:**</span>"
   ]
  },
  {
   "cell_type": "code",
   "execution_count": 14,
   "metadata": {},
   "outputs": [],
   "source": [
    "# Add phi scale column\n",
    "data['phi'] = -np.log2(data.GrainSize_mm)"
   ]
  },
  {
   "cell_type": "code",
   "execution_count": 15,
   "metadata": {},
   "outputs": [
    {
     "data": {
      "text/html": [
       "<div>\n",
       "<style scoped>\n",
       "    .dataframe tbody tr th:only-of-type {\n",
       "        vertical-align: middle;\n",
       "    }\n",
       "\n",
       "    .dataframe tbody tr th {\n",
       "        vertical-align: top;\n",
       "    }\n",
       "\n",
       "    .dataframe thead th {\n",
       "        text-align: right;\n",
       "    }\n",
       "</style>\n",
       "<table border=\"1\" class=\"dataframe\">\n",
       "  <thead>\n",
       "    <tr style=\"text-align: right;\">\n",
       "      <th></th>\n",
       "      <th>GrainSize_mm</th>\n",
       "      <th>Percent</th>\n",
       "      <th>CumulativePercCoarser</th>\n",
       "      <th>CumulativePercFiner</th>\n",
       "      <th>phi</th>\n",
       "    </tr>\n",
       "  </thead>\n",
       "  <tbody>\n",
       "    <tr>\n",
       "      <th>4</th>\n",
       "      <td>4.000</td>\n",
       "      <td>0.00</td>\n",
       "      <td>0.00</td>\n",
       "      <td>100.00</td>\n",
       "      <td>-2.000000</td>\n",
       "    </tr>\n",
       "    <tr>\n",
       "      <th>5</th>\n",
       "      <td>3.364</td>\n",
       "      <td>0.26</td>\n",
       "      <td>0.26</td>\n",
       "      <td>99.74</td>\n",
       "      <td>-1.750178</td>\n",
       "    </tr>\n",
       "    <tr>\n",
       "      <th>6</th>\n",
       "      <td>2.828</td>\n",
       "      <td>0.16</td>\n",
       "      <td>0.42</td>\n",
       "      <td>99.58</td>\n",
       "      <td>-1.499782</td>\n",
       "    </tr>\n",
       "    <tr>\n",
       "      <th>7</th>\n",
       "      <td>2.378</td>\n",
       "      <td>0.17</td>\n",
       "      <td>0.59</td>\n",
       "      <td>99.41</td>\n",
       "      <td>-1.249749</td>\n",
       "    </tr>\n",
       "    <tr>\n",
       "      <th>8</th>\n",
       "      <td>2.000</td>\n",
       "      <td>0.22</td>\n",
       "      <td>0.81</td>\n",
       "      <td>99.19</td>\n",
       "      <td>-1.000000</td>\n",
       "    </tr>\n",
       "  </tbody>\n",
       "</table>\n",
       "</div>"
      ],
      "text/plain": [
       "   GrainSize_mm  Percent  CumulativePercCoarser  CumulativePercFiner       phi\n",
       "4         4.000     0.00                   0.00               100.00 -2.000000\n",
       "5         3.364     0.26                   0.26                99.74 -1.750178\n",
       "6         2.828     0.16                   0.42                99.58 -1.499782\n",
       "7         2.378     0.17                   0.59                99.41 -1.249749\n",
       "8         2.000     0.22                   0.81                99.19 -1.000000"
      ]
     },
     "execution_count": 15,
     "metadata": {},
     "output_type": "execute_result"
    }
   ],
   "source": [
    "data.head()"
   ]
  },
  {
   "cell_type": "code",
   "execution_count": 16,
   "metadata": {},
   "outputs": [],
   "source": [
    "#Find percentiles\n",
    "\n",
    "# Use Cumulative Percent Coarser and interpolate\n",
    "x = [83.43, 93.35]\n",
    "y = [2.498179, 2.746616]\n",
    "\n",
    "phi_84 = np.interp(84, x, y)\n",
    "\n",
    "x = [15.71, 20.16]\n",
    "y = [1.000000, 1.251539]\n",
    "\n",
    "\n",
    "phi_16 = np.interp(16, x, y)"
   ]
  },
  {
   "cell_type": "code",
   "execution_count": 17,
   "metadata": {},
   "outputs": [
    {
     "data": {
      "text/plain": [
       "2.512454109879032"
      ]
     },
     "execution_count": 17,
     "metadata": {},
     "output_type": "execute_result"
    }
   ],
   "source": [
    "phi_84"
   ]
  },
  {
   "cell_type": "code",
   "execution_count": 18,
   "metadata": {},
   "outputs": [],
   "source": [
    "#Calculate d_mean:\n",
    "M_dphi = (phi_84 + phi_16) / 2\n",
    "d_mean = np.power(2, (-M_dphi))"
   ]
  },
  {
   "cell_type": "code",
   "execution_count": 19,
   "metadata": {},
   "outputs": [
    {
     "data": {
      "text/plain": [
       "0.29434432760858464"
      ]
     },
     "execution_count": 19,
     "metadata": {},
     "output_type": "execute_result"
    }
   ],
   "source": [
    "d_mean"
   ]
  },
  {
   "cell_type": "markdown",
   "metadata": {},
   "source": [
    "### Mean grain size is 0.29 mm"
   ]
  },
  {
   "cell_type": "code",
   "execution_count": 20,
   "metadata": {},
   "outputs": [],
   "source": [
    "# Calculate d_median:\n",
    "# phi_50 = np.percentile(data.phi, 50)\n",
    "# d_median = np.power(2, (-phi_50))\n",
    "\n",
    "x = [36.69, 54.10]\n",
    "y = [1.751465, 2.000000]\n",
    "\n",
    "phi_50 = np.interp(50, x, y)\n",
    "d_median = np.power(2, (-phi_50))"
   ]
  },
  {
   "cell_type": "code",
   "execution_count": 21,
   "metadata": {},
   "outputs": [
    {
     "data": {
      "text/plain": [
       "0.26035088344971896"
      ]
     },
     "execution_count": 21,
     "metadata": {},
     "output_type": "execute_result"
    }
   ],
   "source": [
    "d_median"
   ]
  },
  {
   "cell_type": "markdown",
   "metadata": {},
   "source": [
    "### Median grain size is 0.26 mm"
   ]
  },
  {
   "cell_type": "code",
   "execution_count": 22,
   "metadata": {},
   "outputs": [],
   "source": [
    "# Calculate sorting (standard deviation):\n",
    "std_phi = (phi_84 - phi_16) / 2"
   ]
  },
  {
   "cell_type": "code",
   "execution_count": 23,
   "metadata": {},
   "outputs": [
    {
     "data": {
      "text/plain": [
       "0.7480308403327744"
      ]
     },
     "execution_count": 23,
     "metadata": {},
     "output_type": "execute_result"
    }
   ],
   "source": [
    "std_phi\n",
    "# std_phi >= 1, BETWEEN WELL AND POORLY SORTED"
   ]
  },
  {
   "cell_type": "markdown",
   "metadata": {},
   "source": [
    "### Because the standard deviation (phi units) is 0.75, it is between well and poorly sorted"
   ]
  },
  {
   "cell_type": "markdown",
   "metadata": {},
   "source": [
    "# ------ ---  Question b --------- "
   ]
  },
  {
   "cell_type": "markdown",
   "metadata": {},
   "source": [
    "### <span style=\"color:STEELBLUE\">**GIVEN:**</span> grain size (mm), std_phi (standard deviation in phi units) = 0.75, M_dphi (mean in phi units) = 1.76\n",
    "### <span style=\"color:STEELBLUE\">**FIND:**</span> Plot grain size (in mm) distribution together with the log-normal cumulative distribution function (CDF)  \n",
    "### <span style=\"color:STEELBLUE\">**PRINCIPLES:**</span>\n",
    "### Equation 2.2 log-normal probability density function:\n",
    "### $f(\\phi) = \\frac{1}{\\sigma_\\phi \\sqrt{2\\pi}}e^-{\\frac{{(\\phi-\\mu_\\phi)}^2}{2\\sigma_\\phi^2}}$\n",
    "### Equation 2.3 CDF:\n",
    "### $P[\\phi < \\phi_g] = \\int_{-\\infty}^{\\phi_g} f(\\phi)d\\phi$"
   ]
  },
  {
   "cell_type": "markdown",
   "metadata": {},
   "source": [
    "### <span style=\"color:STEELBLUE\">**SOLUTION (CALC CDF AND PLOT):**</span>"
   ]
  },
  {
   "cell_type": "code",
   "execution_count": 24,
   "metadata": {},
   "outputs": [],
   "source": [
    "g = data['phi']\n",
    "\n",
    "# PDF \n",
    "y = ((1/(std_phi*np.sqrt(2*np.pi)))*(np.e**((-(g - M_dphi)**2)/(2 * (std_phi**2)))))\n",
    "\n",
    "# CDF\n",
    "y_int = integrate.cumtrapz(y, initial = 0)"
   ]
  },
  {
   "cell_type": "code",
   "execution_count": 25,
   "metadata": {},
   "outputs": [],
   "source": [
    "# convert from phi to mm \n",
    "y_int_mm = np.power(2, (-y_int))"
   ]
  },
  {
   "cell_type": "code",
   "execution_count": 26,
   "metadata": {},
   "outputs": [
    {
     "data": {
      "text/plain": [
       "Text(0.5, 1.0, 'Grain size (mm) distribution together with the \\n log-normal cumulative distribution function (CDF)')"
      ]
     },
     "execution_count": 26,
     "metadata": {},
     "output_type": "execute_result"
    },
    {
     "data": {
      "image/png": "[encoded data removed]",
      "text/plain": [
       "<Figure size 432x288 with 1 Axes>"
      ]
     },
     "metadata": {},
     "output_type": "display_data"
    }
   ],
   "source": [
    "x = data['GrainSize_mm']\n",
    "\n",
    "y1 = y_int_mm * 100\n",
    "y2 = data['CumulativePercFiner']\n",
    "\n",
    "plt.plot(x,y1, label = \"CDF\")\n",
    "plt.plot(x,y2, label = \"Grain Size Distribution\")\n",
    "\n",
    "plt.legend()\n",
    "plt.xscale('log')\n",
    "plt.gca().invert_xaxis()\n",
    "plt.xlabel('Log Grain Size (mm)')\n",
    "plt.ylabel(\"Percent Finer Than\")\n",
    "plt.title('Grain size (mm) distribution together with the \\n log-normal cumulative distribution function (CDF)', fontsize = 14)\n"
   ]
  },
  {
   "cell_type": "markdown",
   "metadata": {},
   "source": [
    "## Discussion:\n",
    "The grain size distribution is slight skewed towards smaller grain sizes. The curve is smooth and suggests that the sample is well-graded. "
   ]
  },
  {
   "cell_type": "markdown",
   "metadata": {},
   "source": [
    "# --------- Question c --------- "
   ]
  },
  {
   "cell_type": "markdown",
   "metadata": {},
   "source": [
    "### <span style=\"color:STEELBLUE\">**GIVEN:**</span> $s_{quartz} = 2.65$;  $\\rho_{seawater} = 1025  kg/m^3$; $\\mu_{seawater} = 0.00114 Ns/m^2$\n",
    "### <span style=\"color:STEELBLUE\">**FIND:**</span> Plot the fall velocity (cm/s) in seawater versus percent finer than\n",
    "### <span style=\"color:STEELBLUE\">**PRINCIPLES:**</span>\n",
    "### Equation 2.11 fall velocity:\n",
    "### $ w = \\sqrt{\\frac{4(\\rho_s - \\rho) g d}{3 \\rho C_D}}$ \n",
    "### Reynolds Number:\n",
    "### $Re = \\frac{\\rho w d}{\\mu}$\n",
    "### Equation 2.13 approximation for a sphere's drag coefficient :\n",
    "### $ C_D = \\frac{24}{Re} \\sqrt{(1 + \\frac{3 Re}{16})}$  \n",
    "\n"
   ]
  },
  {
   "cell_type": "markdown",
   "metadata": {},
   "source": [
    "### <span style=\"color:STEELBLUE\">**SOLUTION: Sample Calc; d = 0.5 mm**</span>"
   ]
  },
  {
   "cell_type": "code",
   "execution_count": 43,
   "metadata": {},
   "outputs": [],
   "source": [
    "#define parameters\n",
    "d = 0.5\n",
    "\n",
    "SG_s = 2.65 #specific gravity for quartz\n",
    "g = 9.81 #gravitational accel in m/s**2\n",
    "rho_w = 1030 #density of seawater in kg/m**3 at 15.6 degC and 35 ppt from Fundamentals of Fluid Mechanics by Munson et al.\n",
    "mu = 1.2*10**(-3) #dynamic viscoity of water in N*s/m**2 rom Fundamentals of Fluid Mechanics by Munson et al."
   ]
  },
  {
   "cell_type": "code",
   "execution_count": 44,
   "metadata": {},
   "outputs": [],
   "source": [
    "sol = [0]\n",
    "solindex = 0\n",
    "\n",
    "iteration = 0\n",
    "C_D = 10 # input initial CD guess\n",
    "C_D = initial_guess_C_D\n",
    "\n",
    "_break = True\n",
    "\n",
    "while _break == True: \n",
    "    previous_guess = C_D\n",
    "    w = ((4*(SG_s-1)*g*d)/(3*C_D)* (1/1000))**(0.5)\n",
    "    Re = rho_w*(1/1000)*w*d/mu\n",
    "    C_D = 24/Re*(1+(3*Re/16))**(0.5)\n",
    "    error = abs(C_D-previous_guess) # calculate error\n",
    "    if (error <= 0.000000001) or (error == 0): # break when the error threshold is met\n",
    "        _break = False\n",
    "    iteration += 1\n",
    "\n",
    "sol[solindex] = w #converged solution added\n",
    "solindex += 1 "
   ]
  },
  {
   "cell_type": "code",
   "execution_count": 45,
   "metadata": {},
   "outputs": [
    {
     "data": {
      "text/plain": [
       "0.07341827087628008"
      ]
     },
     "execution_count": 45,
     "metadata": {},
     "output_type": "execute_result"
    }
   ],
   "source": [
    "sol[0] # in m/s"
   ]
  },
  {
   "cell_type": "markdown",
   "metadata": {},
   "source": [
    "___________"
   ]
  },
  {
   "cell_type": "code",
   "execution_count": 30,
   "metadata": {},
   "outputs": [
    {
     "name": "stdout",
     "output_type": "stream",
     "text": [
      "w is   0.1038797381590847 * C_D ^ (- 1/2) m/s\n"
     ]
    }
   ],
   "source": [
    "# Base fall velocity \n",
    "w = np.sqrt((4/3)* (2.65 - 1) * 9.81 * (0.5) * (1/1000))\n",
    "print (\"w is   {} * C_D ^ (- 1/2) m/s\".format(w))"
   ]
  },
  {
   "cell_type": "code",
   "execution_count": 31,
   "metadata": {},
   "outputs": [
    {
     "name": "stdout",
     "output_type": "stream",
     "text": [
      "Re is   449.5614035087719 * w (m/s)\n"
     ]
    }
   ],
   "source": [
    "# Reynolds number (sewater)\n",
    "# Density of seawater 1025\n",
    "# Viscosity of seawater .00114\n",
    "\n",
    "Re = ((1025) * (0.5) * (1/1000)) / (0.00114)\n",
    "print (\"Re is   {} * w (m/s)\".format(Re))"
   ]
  },
  {
   "cell_type": "markdown",
   "metadata": {},
   "source": [
    "#### Iterate 1"
   ]
  },
  {
   "cell_type": "code",
   "execution_count": 32,
   "metadata": {},
   "outputs": [
    {
     "name": "stdout",
     "output_type": "stream",
     "text": [
      "w2 is 0.07345406728017176 m/s\n"
     ]
    }
   ],
   "source": [
    "# Iterate with C_D, guess C_D = 2\n",
    "w2 = w / np.sqrt(2)\n",
    "print (\"w2 is {} m/s\".format(w2))"
   ]
  },
  {
   "cell_type": "code",
   "execution_count": 33,
   "metadata": {},
   "outputs": [
    {
     "name": "stdout",
     "output_type": "stream",
     "text": [
      "Re2 is 33.02211357990178\n"
     ]
    }
   ],
   "source": [
    "Re2 = (Re * w2)\n",
    "print (\"Re2 is {}\".format(Re2))"
   ]
  },
  {
   "cell_type": "code",
   "execution_count": 34,
   "metadata": {},
   "outputs": [
    {
     "name": "stdout",
     "output_type": "stream",
     "text": [
      "CD is 1.9490390236439714\n"
     ]
    }
   ],
   "source": [
    "CD = (24/Re2) * np.sqrt(1 + ((3*Re2)/(16)))\n",
    "print (\"CD is {}\".format(CD))"
   ]
  },
  {
   "cell_type": "markdown",
   "metadata": {},
   "source": [
    "---------"
   ]
  },
  {
   "cell_type": "markdown",
   "metadata": {},
   "source": [
    "#### Iterate 2"
   ]
  },
  {
   "cell_type": "code",
   "execution_count": 35,
   "metadata": {},
   "outputs": [
    {
     "name": "stdout",
     "output_type": "stream",
     "text": [
      "w3 is 0.07440816234970565 m/s\n"
     ]
    }
   ],
   "source": [
    "# Iterate with C_D, C_D = 1.1055931228942726\n",
    "w3 = (w / np.sqrt(CD))\n",
    "print (\"w3 is {} m/s\".format(w3))"
   ]
  },
  {
   "cell_type": "code",
   "execution_count": 36,
   "metadata": {},
   "outputs": [
    {
     "name": "stdout",
     "output_type": "stream",
     "text": [
      "Re3 is 33.45103789844223\n"
     ]
    }
   ],
   "source": [
    "Re3 = (Re * w3)\n",
    "print (\"Re3 is {}\".format(Re3))"
   ]
  },
  {
   "cell_type": "code",
   "execution_count": 37,
   "metadata": {},
   "outputs": [
    {
     "name": "stdout",
     "output_type": "stream",
     "text": [
      "CD2 is 1.9347758504361243\n"
     ]
    }
   ],
   "source": [
    "CD2 = (24/Re3) * np.sqrt(1 + ((3*Re3)/(16)))\n",
    "print (\"CD2 is {}\".format(CD2))"
   ]
  },
  {
   "cell_type": "markdown",
   "metadata": {},
   "source": [
    "-------"
   ]
  },
  {
   "cell_type": "markdown",
   "metadata": {},
   "source": [
    "### Iterate 3"
   ]
  },
  {
   "cell_type": "code",
   "execution_count": 38,
   "metadata": {},
   "outputs": [
    {
     "name": "stdout",
     "output_type": "stream",
     "text": [
      "w4 is 0.07468192732197794 m/s\n"
     ]
    }
   ],
   "source": [
    "# Iterate with C_D, C_D = 1.5191487630679061\n",
    "\n",
    "w4 = (w / np.sqrt(CD2))\n",
    "print (\"w4 is {} m/s\".format(w4))"
   ]
  },
  {
   "cell_type": "code",
   "execution_count": 39,
   "metadata": {},
   "outputs": [
    {
     "name": "stdout",
     "output_type": "stream",
     "text": [
      "Re4 is 33.5741120636085\n"
     ]
    }
   ],
   "source": [
    "Re4 = (Re * w4)\n",
    "print (\"Re4 is {}\".format(Re4))"
   ]
  },
  {
   "cell_type": "code",
   "execution_count": 40,
   "metadata": {},
   "outputs": [
    {
     "name": "stdout",
     "output_type": "stream",
     "text": [
      "CD3 is 1.9307395831211043\n"
     ]
    }
   ],
   "source": [
    "CD3 = (24/Re4) * np.sqrt(1 + ((3*Re4)/(16)))\n",
    "print (\"CD3 is {}\".format(CD3))"
   ]
  },
  {
   "cell_type": "markdown",
   "metadata": {},
   "source": [
    "### For the sample calculation, with d = 0.5 mm, the fall velocity is 0.075 m/s or 7.5 cm/s"
   ]
  },
  {
   "cell_type": "markdown",
   "metadata": {},
   "source": [
    "-----------"
   ]
  },
  {
   "cell_type": "markdown",
   "metadata": {},
   "source": [
    "# Solve for all data "
   ]
  },
  {
   "cell_type": "code",
   "execution_count": 41,
   "metadata": {},
   "outputs": [],
   "source": [
    "grains = data['GrainSize_mm'] "
   ]
  },
  {
   "cell_type": "code",
   "execution_count": 44,
   "metadata": {},
   "outputs": [],
   "source": [
    "w_result = []\n",
    "Re_result = []\n",
    "\n",
    "for g in grains:\n",
    "    w = np.sqrt((4/3)* (2.65 - 1) * 9.81 * (g) * (1/1000))\n",
    "    w_result.append(w)\n",
    "    Re = ((1025) * (g) * (1/1000)) / (0.00114)\n",
    "    Re_result.append(Re)"
   ]
  },
  {
   "cell_type": "code",
   "execution_count": 45,
   "metadata": {},
   "outputs": [],
   "source": [
    "# Iterate\n",
    "CD=10\n",
    "w2_result = []\n",
    "for w in w_result:\n",
    "    w2 = w / np.sqrt(CD)\n",
    "    w2_result.append(w2)\n"
   ]
  },
  {
   "cell_type": "code",
   "execution_count": 46,
   "metadata": {},
   "outputs": [],
   "source": [
    "df = pd.DataFrame({'w_base_m_s': w_result, 'Re_base':Re_result, 'w2_m_s': w2_result})"
   ]
  },
  {
   "cell_type": "code",
   "execution_count": 47,
   "metadata": {},
   "outputs": [],
   "source": [
    "df['Re2'] = df['Re_base'] * df['w2_m_s']"
   ]
  },
  {
   "cell_type": "code",
   "execution_count": 48,
   "metadata": {},
   "outputs": [],
   "source": [
    "df['CD2'] = (24/df['Re2']) * np.sqrt(1 + ((3*df['Re2'])/(16)))"
   ]
  },
  {
   "cell_type": "code",
   "execution_count": 49,
   "metadata": {},
   "outputs": [],
   "source": [
    "df['w3_m_s'] = df['w_base_m_s'] / np.sqrt(df['CD2'])"
   ]
  },
  {
   "cell_type": "code",
   "execution_count": 50,
   "metadata": {},
   "outputs": [],
   "source": [
    "df['Re3'] = df['Re_base'] * df['w3_m_s']"
   ]
  },
  {
   "cell_type": "code",
   "execution_count": 51,
   "metadata": {},
   "outputs": [],
   "source": [
    "df['CD3'] = (24/df['Re3']) * np.sqrt(1 + ((3*df['Re3'])/(16)))"
   ]
  },
  {
   "cell_type": "code",
   "execution_count": 52,
   "metadata": {},
   "outputs": [],
   "source": [
    "df['w4_m_s'] = df['w_base_m_s'] / np.sqrt(df['CD3'])"
   ]
  },
  {
   "cell_type": "code",
   "execution_count": 53,
   "metadata": {},
   "outputs": [],
   "source": [
    "df['Re4'] = df['Re_base'] * df['w4_m_s']"
   ]
  },
  {
   "cell_type": "code",
   "execution_count": 54,
   "metadata": {},
   "outputs": [],
   "source": [
    "df['CD4'] = (24/df['Re4']) * np.sqrt(1 + ((3*df['Re4'])/(16)))"
   ]
  },
  {
   "cell_type": "code",
   "execution_count": 55,
   "metadata": {},
   "outputs": [],
   "source": [
    "df['w5_m_s'] = df['w_base_m_s'] / np.sqrt(df['CD4'])"
   ]
  },
  {
   "cell_type": "code",
   "execution_count": 56,
   "metadata": {},
   "outputs": [],
   "source": [
    "df['Re5'] = df['Re_base'] * df['w5_m_s']"
   ]
  },
  {
   "cell_type": "code",
   "execution_count": 57,
   "metadata": {},
   "outputs": [],
   "source": [
    "df['CD5'] = (24/df['Re5']) * np.sqrt(1 + ((3*df['Re5'])/(16)))"
   ]
  },
  {
   "cell_type": "code",
   "execution_count": 58,
   "metadata": {},
   "outputs": [],
   "source": [
    "df['w6_m_s'] = df['w_base_m_s'] / np.sqrt(df['CD5'])"
   ]
  },
  {
   "cell_type": "code",
   "execution_count": 59,
   "metadata": {},
   "outputs": [],
   "source": [
    "df['Re6'] = df['Re_base'] * df['w6_m_s']"
   ]
  },
  {
   "cell_type": "code",
   "execution_count": 60,
   "metadata": {},
   "outputs": [],
   "source": [
    "df['CD6'] = (24/df['Re6']) * np.sqrt(1 + ((3*df['Re6'])/(16)))"
   ]
  },
  {
   "cell_type": "code",
   "execution_count": 61,
   "metadata": {},
   "outputs": [],
   "source": [
    "df['w7_m_s'] = df['w_base_m_s'] / np.sqrt(df['CD6'])"
   ]
  },
  {
   "cell_type": "code",
   "execution_count": 69,
   "metadata": {},
   "outputs": [],
   "source": [
    "# Convert fall velocities from m/s to cm/s and add to data frame\n",
    "data.reset_index(inplace=True)\n",
    "data['w_cm_s'] = df['w7_m_s'] * 100"
   ]
  },
  {
   "cell_type": "code",
   "execution_count": 75,
   "metadata": {},
   "outputs": [
    {
     "data": {
      "text/html": [
       "<div>\n",
       "<style scoped>\n",
       "    .dataframe tbody tr th:only-of-type {\n",
       "        vertical-align: middle;\n",
       "    }\n",
       "\n",
       "    .dataframe tbody tr th {\n",
       "        vertical-align: top;\n",
       "    }\n",
       "\n",
       "    .dataframe thead th {\n",
       "        text-align: right;\n",
       "    }\n",
       "</style>\n",
       "<table border=\"1\" class=\"dataframe\">\n",
       "  <thead>\n",
       "    <tr style=\"text-align: right;\">\n",
       "      <th></th>\n",
       "      <th>index</th>\n",
       "      <th>GrainSize_mm</th>\n",
       "      <th>Percent</th>\n",
       "      <th>CumulativePercCoarser</th>\n",
       "      <th>CumulativePercFiner</th>\n",
       "      <th>phi</th>\n",
       "      <th>w_cm_s</th>\n",
       "      <th>GrainSize_cm</th>\n",
       "    </tr>\n",
       "  </thead>\n",
       "  <tbody>\n",
       "    <tr>\n",
       "      <th>0</th>\n",
       "      <td>4</td>\n",
       "      <td>4.000</td>\n",
       "      <td>0.00</td>\n",
       "      <td>0.00</td>\n",
       "      <td>100.00</td>\n",
       "      <td>-2.000000</td>\n",
       "      <td>62.673921</td>\n",
       "      <td>0.4000</td>\n",
       "    </tr>\n",
       "    <tr>\n",
       "      <th>1</th>\n",
       "      <td>5</td>\n",
       "      <td>3.364</td>\n",
       "      <td>0.26</td>\n",
       "      <td>0.26</td>\n",
       "      <td>99.74</td>\n",
       "      <td>-1.750178</td>\n",
       "      <td>52.695555</td>\n",
       "      <td>0.3364</td>\n",
       "    </tr>\n",
       "    <tr>\n",
       "      <th>2</th>\n",
       "      <td>6</td>\n",
       "      <td>2.828</td>\n",
       "      <td>0.16</td>\n",
       "      <td>0.42</td>\n",
       "      <td>99.58</td>\n",
       "      <td>-1.499782</td>\n",
       "      <td>44.282112</td>\n",
       "      <td>0.2828</td>\n",
       "    </tr>\n",
       "    <tr>\n",
       "      <th>3</th>\n",
       "      <td>7</td>\n",
       "      <td>2.378</td>\n",
       "      <td>0.17</td>\n",
       "      <td>0.59</td>\n",
       "      <td>99.41</td>\n",
       "      <td>-1.249749</td>\n",
       "      <td>37.214095</td>\n",
       "      <td>0.2378</td>\n",
       "    </tr>\n",
       "    <tr>\n",
       "      <th>4</th>\n",
       "      <td>8</td>\n",
       "      <td>2.000</td>\n",
       "      <td>0.22</td>\n",
       "      <td>0.81</td>\n",
       "      <td>99.19</td>\n",
       "      <td>-1.000000</td>\n",
       "      <td>31.271864</td>\n",
       "      <td>0.2000</td>\n",
       "    </tr>\n",
       "    <tr>\n",
       "      <th>5</th>\n",
       "      <td>9</td>\n",
       "      <td>1.682</td>\n",
       "      <td>0.22</td>\n",
       "      <td>1.03</td>\n",
       "      <td>98.97</td>\n",
       "      <td>-0.750178</td>\n",
       "      <td>26.266996</td>\n",
       "      <td>0.1682</td>\n",
       "    </tr>\n",
       "    <tr>\n",
       "      <th>6</th>\n",
       "      <td>10</td>\n",
       "      <td>1.414</td>\n",
       "      <td>0.48</td>\n",
       "      <td>1.51</td>\n",
       "      <td>98.49</td>\n",
       "      <td>-0.499782</td>\n",
       "      <td>22.042285</td>\n",
       "      <td>0.1414</td>\n",
       "    </tr>\n",
       "    <tr>\n",
       "      <th>7</th>\n",
       "      <td>11</td>\n",
       "      <td>1.189</td>\n",
       "      <td>0.76</td>\n",
       "      <td>2.27</td>\n",
       "      <td>97.73</td>\n",
       "      <td>-0.249749</td>\n",
       "      <td>18.487592</td>\n",
       "      <td>0.1189</td>\n",
       "    </tr>\n",
       "    <tr>\n",
       "      <th>8</th>\n",
       "      <td>12</td>\n",
       "      <td>1.000</td>\n",
       "      <td>0.83</td>\n",
       "      <td>3.10</td>\n",
       "      <td>96.90</td>\n",
       "      <td>-0.000000</td>\n",
       "      <td>15.492621</td>\n",
       "      <td>0.1000</td>\n",
       "    </tr>\n",
       "    <tr>\n",
       "      <th>9</th>\n",
       "      <td>13</td>\n",
       "      <td>0.841</td>\n",
       "      <td>1.59</td>\n",
       "      <td>4.69</td>\n",
       "      <td>95.31</td>\n",
       "      <td>0.249822</td>\n",
       "      <td>12.962643</td>\n",
       "      <td>0.0841</td>\n",
       "    </tr>\n",
       "    <tr>\n",
       "      <th>10</th>\n",
       "      <td>14</td>\n",
       "      <td>0.707</td>\n",
       "      <td>2.10</td>\n",
       "      <td>6.79</td>\n",
       "      <td>93.21</td>\n",
       "      <td>0.500218</td>\n",
       "      <td>10.818537</td>\n",
       "      <td>0.0707</td>\n",
       "    </tr>\n",
       "    <tr>\n",
       "      <th>11</th>\n",
       "      <td>15</td>\n",
       "      <td>0.595</td>\n",
       "      <td>2.73</td>\n",
       "      <td>9.52</td>\n",
       "      <td>90.48</td>\n",
       "      <td>0.749038</td>\n",
       "      <td>9.013115</td>\n",
       "      <td>0.0595</td>\n",
       "    </tr>\n",
       "    <tr>\n",
       "      <th>12</th>\n",
       "      <td>16</td>\n",
       "      <td>0.500</td>\n",
       "      <td>6.19</td>\n",
       "      <td>15.71</td>\n",
       "      <td>84.29</td>\n",
       "      <td>1.000000</td>\n",
       "      <td>7.466875</td>\n",
       "      <td>0.0500</td>\n",
       "    </tr>\n",
       "    <tr>\n",
       "      <th>13</th>\n",
       "      <td>17</td>\n",
       "      <td>0.420</td>\n",
       "      <td>4.45</td>\n",
       "      <td>20.16</td>\n",
       "      <td>79.84</td>\n",
       "      <td>1.251539</td>\n",
       "      <td>6.148806</td>\n",
       "      <td>0.0420</td>\n",
       "    </tr>\n",
       "    <tr>\n",
       "      <th>14</th>\n",
       "      <td>18</td>\n",
       "      <td>0.354</td>\n",
       "      <td>7.09</td>\n",
       "      <td>27.25</td>\n",
       "      <td>72.75</td>\n",
       "      <td>1.498179</td>\n",
       "      <td>5.045678</td>\n",
       "      <td>0.0354</td>\n",
       "    </tr>\n",
       "    <tr>\n",
       "      <th>15</th>\n",
       "      <td>19</td>\n",
       "      <td>0.297</td>\n",
       "      <td>9.44</td>\n",
       "      <td>36.69</td>\n",
       "      <td>63.31</td>\n",
       "      <td>1.751465</td>\n",
       "      <td>4.078026</td>\n",
       "      <td>0.0297</td>\n",
       "    </tr>\n",
       "    <tr>\n",
       "      <th>16</th>\n",
       "      <td>20</td>\n",
       "      <td>0.250</td>\n",
       "      <td>17.41</td>\n",
       "      <td>54.10</td>\n",
       "      <td>45.90</td>\n",
       "      <td>2.000000</td>\n",
       "      <td>3.268669</td>\n",
       "      <td>0.0250</td>\n",
       "    </tr>\n",
       "    <tr>\n",
       "      <th>17</th>\n",
       "      <td>21</td>\n",
       "      <td>0.210</td>\n",
       "      <td>13.82</td>\n",
       "      <td>67.92</td>\n",
       "      <td>32.08</td>\n",
       "      <td>2.251539</td>\n",
       "      <td>2.574114</td>\n",
       "      <td>0.0210</td>\n",
       "    </tr>\n",
       "    <tr>\n",
       "      <th>18</th>\n",
       "      <td>22</td>\n",
       "      <td>0.177</td>\n",
       "      <td>15.51</td>\n",
       "      <td>83.43</td>\n",
       "      <td>16.57</td>\n",
       "      <td>2.498179</td>\n",
       "      <td>2.003295</td>\n",
       "      <td>0.0177</td>\n",
       "    </tr>\n",
       "    <tr>\n",
       "      <th>19</th>\n",
       "      <td>23</td>\n",
       "      <td>0.149</td>\n",
       "      <td>9.92</td>\n",
       "      <td>93.35</td>\n",
       "      <td>6.65</td>\n",
       "      <td>2.746616</td>\n",
       "      <td>1.529766</td>\n",
       "      <td>0.0149</td>\n",
       "    </tr>\n",
       "    <tr>\n",
       "      <th>20</th>\n",
       "      <td>24</td>\n",
       "      <td>0.125</td>\n",
       "      <td>4.83</td>\n",
       "      <td>98.18</td>\n",
       "      <td>1.82</td>\n",
       "      <td>3.000000</td>\n",
       "      <td>1.142582</td>\n",
       "      <td>0.0125</td>\n",
       "    </tr>\n",
       "    <tr>\n",
       "      <th>21</th>\n",
       "      <td>25</td>\n",
       "      <td>0.105</td>\n",
       "      <td>1.55</td>\n",
       "      <td>99.73</td>\n",
       "      <td>0.27</td>\n",
       "      <td>3.251539</td>\n",
       "      <td>0.842958</td>\n",
       "      <td>0.0105</td>\n",
       "    </tr>\n",
       "    <tr>\n",
       "      <th>22</th>\n",
       "      <td>26</td>\n",
       "      <td>0.088</td>\n",
       "      <td>0.16</td>\n",
       "      <td>99.89</td>\n",
       "      <td>0.11</td>\n",
       "      <td>3.506353</td>\n",
       "      <td>0.612332</td>\n",
       "      <td>0.0088</td>\n",
       "    </tr>\n",
       "    <tr>\n",
       "      <th>23</th>\n",
       "      <td>27</td>\n",
       "      <td>0.074</td>\n",
       "      <td>0.09</td>\n",
       "      <td>99.98</td>\n",
       "      <td>0.02</td>\n",
       "      <td>3.756331</td>\n",
       "      <td>0.443812</td>\n",
       "      <td>0.0074</td>\n",
       "    </tr>\n",
       "    <tr>\n",
       "      <th>24</th>\n",
       "      <td>28</td>\n",
       "      <td>0.063</td>\n",
       "      <td>0.01</td>\n",
       "      <td>99.99</td>\n",
       "      <td>0.01</td>\n",
       "      <td>3.988504</td>\n",
       "      <td>0.327436</td>\n",
       "      <td>0.0063</td>\n",
       "    </tr>\n",
       "    <tr>\n",
       "      <th>25</th>\n",
       "      <td>29</td>\n",
       "      <td>0.053</td>\n",
       "      <td>0.01</td>\n",
       "      <td>100.00</td>\n",
       "      <td>0.00</td>\n",
       "      <td>4.237864</td>\n",
       "      <td>0.235312</td>\n",
       "      <td>0.0053</td>\n",
       "    </tr>\n",
       "  </tbody>\n",
       "</table>\n",
       "</div>"
      ],
      "text/plain": [
       "    index  GrainSize_mm  Percent  CumulativePercCoarser  CumulativePercFiner  \\\n",
       "0       4         4.000     0.00                   0.00               100.00   \n",
       "1       5         3.364     0.26                   0.26                99.74   \n",
       "2       6         2.828     0.16                   0.42                99.58   \n",
       "3       7         2.378     0.17                   0.59                99.41   \n",
       "4       8         2.000     0.22                   0.81                99.19   \n",
       "5       9         1.682     0.22                   1.03                98.97   \n",
       "6      10         1.414     0.48                   1.51                98.49   \n",
       "7      11         1.189     0.76                   2.27                97.73   \n",
       "8      12         1.000     0.83                   3.10                96.90   \n",
       "9      13         0.841     1.59                   4.69                95.31   \n",
       "10     14         0.707     2.10                   6.79                93.21   \n",
       "11     15         0.595     2.73                   9.52                90.48   \n",
       "12     16         0.500     6.19                  15.71                84.29   \n",
       "13     17         0.420     4.45                  20.16                79.84   \n",
       "14     18         0.354     7.09                  27.25                72.75   \n",
       "15     19         0.297     9.44                  36.69                63.31   \n",
       "16     20         0.250    17.41                  54.10                45.90   \n",
       "17     21         0.210    13.82                  67.92                32.08   \n",
       "18     22         0.177    15.51                  83.43                16.57   \n",
       "19     23         0.149     9.92                  93.35                 6.65   \n",
       "20     24         0.125     4.83                  98.18                 1.82   \n",
       "21     25         0.105     1.55                  99.73                 0.27   \n",
       "22     26         0.088     0.16                  99.89                 0.11   \n",
       "23     27         0.074     0.09                  99.98                 0.02   \n",
       "24     28         0.063     0.01                  99.99                 0.01   \n",
       "25     29         0.053     0.01                 100.00                 0.00   \n",
       "\n",
       "         phi     w_cm_s  GrainSize_cm  \n",
       "0  -2.000000  62.673921        0.4000  \n",
       "1  -1.750178  52.695555        0.3364  \n",
       "2  -1.499782  44.282112        0.2828  \n",
       "3  -1.249749  37.214095        0.2378  \n",
       "4  -1.000000  31.271864        0.2000  \n",
       "5  -0.750178  26.266996        0.1682  \n",
       "6  -0.499782  22.042285        0.1414  \n",
       "7  -0.249749  18.487592        0.1189  \n",
       "8  -0.000000  15.492621        0.1000  \n",
       "9   0.249822  12.962643        0.0841  \n",
       "10  0.500218  10.818537        0.0707  \n",
       "11  0.749038   9.013115        0.0595  \n",
       "12  1.000000   7.466875        0.0500  \n",
       "13  1.251539   6.148806        0.0420  \n",
       "14  1.498179   5.045678        0.0354  \n",
       "15  1.751465   4.078026        0.0297  \n",
       "16  2.000000   3.268669        0.0250  \n",
       "17  2.251539   2.574114        0.0210  \n",
       "18  2.498179   2.003295        0.0177  \n",
       "19  2.746616   1.529766        0.0149  \n",
       "20  3.000000   1.142582        0.0125  \n",
       "21  3.251539   0.842958        0.0105  \n",
       "22  3.506353   0.612332        0.0088  \n",
       "23  3.756331   0.443812        0.0074  \n",
       "24  3.988504   0.327436        0.0063  \n",
       "25  4.237864   0.235312        0.0053  "
      ]
     },
     "execution_count": 75,
     "metadata": {},
     "output_type": "execute_result"
    }
   ],
   "source": [
    "data"
   ]
  },
  {
   "cell_type": "code",
   "execution_count": 76,
   "metadata": {},
   "outputs": [],
   "source": [
    "# Convert grain size from mm to cm and add to dataframe\n",
    "data['GrainSize_cm'] = data['GrainSize_mm'] / 10"
   ]
  },
  {
   "cell_type": "code",
   "execution_count": 98,
   "metadata": {},
   "outputs": [
    {
     "data": {
      "text/plain": [
       "Text(0.5, 1.0, 'Fall velocity (cm/s) in seawater versus \\n percent finer than')"
      ]
     },
     "execution_count": 98,
     "metadata": {},
     "output_type": "execute_result"
    },
    {
     "data": {
      "image/png": "[encoded data removed]",
      "text/plain": [
       "<Figure size 432x288 with 1 Axes>"
      ]
     },
     "metadata": {},
     "output_type": "display_data"
    }
   ],
   "source": [
    "x = data['w_cm_s']\n",
    "y = data['CumulativePercFiner']\n",
    "\n",
    "plt.plot(x,y)\n",
    "\n",
    "plt.xlabel('Fall velocity (cm/s)')\n",
    "plt.ylabel(\"Percent Finer Than\")\n",
    "plt.title('Fall velocity (cm/s) in seawater versus \\n percent finer than', fontsize = 14)\n",
    "\n"
   ]
  },
  {
   "cell_type": "code",
   "execution_count": 100,
   "metadata": {},
   "outputs": [
    {
     "data": {
      "text/plain": [
       "Text(0.5, 1.0, 'Fall velocity (cm/s) in seawater versus \\n percent finer than, log-scale')"
      ]
     },
     "execution_count": 100,
     "metadata": {},
     "output_type": "execute_result"
    },
    {
     "data": {
      "image/png": "[encoded data removed]",
      "text/plain": [
       "<Figure size 432x288 with 1 Axes>"
      ]
     },
     "metadata": {},
     "output_type": "display_data"
    }
   ],
   "source": [
    "x = data['w_cm_s']\n",
    "y = data['CumulativePercFiner']\n",
    "\n",
    "plt.plot(x,y)\n",
    "\n",
    "plt.xscale('log')\n",
    "plt.yscale('log')\n",
    "\n",
    "plt.xlabel('Fall velocity (cm/s)')\n",
    "plt.ylabel(\"Percent Finer Than\")\n",
    "\n",
    "plt.title('Fall velocity (cm/s) in seawater versus \\n percent finer than, log-scale', fontsize = 14)\n"
   ]
  },
  {
   "cell_type": "markdown",
   "metadata": {},
   "source": [
    "## Discussion:\n",
    "The fall velocity increases rapidly as percent finer than increases. Maximum fall veloicty was 62.7 cm /s for the grain size of 4 mm. The smallest grain size had a fall velocity of 0.2 cm/s which is incredibly slow, this sediment would be effectively suspended. This theoretical approach of computing the fall velocity required some assumptions. Namely, we are approximating the drag coefficient for sediment that is (1) perfectly spherical, (2) in water that is perfectly still  and that (3) entirely made of quartz. We need to assume that the sediment is comprised of perfect spheres so that we can assume that the drag and lift forces are orhogonal and the forces go to 0. In reality, this calculation is idealized. The sediment grains may be irregular and may not be perfectly smooth spheres, resulting in an unequal balance of forces and the true fall velocity curve would appear less smooth. We are also assuming the sediment is at terminal veloicty and therefore falling through smooth water. However, if these data are derived from an oceanic setting, wave motions and prevailing currents would also affect the velocity calculations. While quartz typically makes up 70% of beach minerals, also know that coastal sediment can be made of a mix of other minerals including feldspar, shell, coral, etc. Therefore, assuming a consistent specific gravity of 2.65 (quartz) is inconsistent with reality. "
   ]
  }
 ],
 "metadata": {
  "kernelspec": {
   "display_name": "Python 3",
   "language": "python",
   "name": "python3"
  },
  "language_info": {
   "codemirror_mode": {
    "name": "ipython",
    "version": 3
   },
   "file_extension": ".py",
   "mimetype": "text/x-python",
   "name": "python",
   "nbconvert_exporter": "python",
   "pygments_lexer": "ipython3",
   "version": "3.6.5"
  }
 },
 "nbformat": 4,
 "nbformat_minor": 4
}
