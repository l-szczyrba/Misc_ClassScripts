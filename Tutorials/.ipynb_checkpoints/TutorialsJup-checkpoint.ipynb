{
 "cells": [
  {
   "cell_type": "code",
   "execution_count": 1,
   "metadata": {},
   "outputs": [
    {
     "name": "stdout",
     "output_type": "stream",
     "text": [
      "34\n",
      "[34, 56, 0, 53]\n"
     ]
    }
   ],
   "source": [
    "myList = [34, 56, 74, 53]\n",
    "print(myList[0])\n",
    "myList[2] = 0\n",
    "print(myList)\n"
   ]
  },
  {
   "cell_type": "code",
   "execution_count": 2,
   "metadata": {},
   "outputs": [
    {
     "name": "stdout",
     "output_type": "stream",
     "text": [
      "['Hello', 'string', 'world!']\n",
      "[['Hello', 'string', 'world!']]\n"
     ]
    }
   ],
   "source": [
    "message = \"Hello string world!\"\n",
    "print(message.split())\n",
    "list = [message.split()]\n",
    "print(list)"
   ]
  },
  {
   "cell_type": "code",
   "execution_count": 3,
   "metadata": {},
   "outputs": [
    {
     "name": "stdout",
     "output_type": "stream",
     "text": [
      " 0 in binary is 00000000\n",
      " 1 in binary is 00000001\n",
      " 2 in binary is 00000010\n",
      " 3 in binary is 00000011\n",
      " 4 in binary is 00000100\n",
      " 5 in binary is 00000101\n",
      " 6 in binary is 00000110\n",
      " 7 in binary is 00000111\n",
      " 8 in binary is 00001000\n",
      " 9 in binary is 00001001\n",
      "10 in binary is 00001010\n",
      "11 in binary is 00001011\n",
      "12 in binary is 00001100\n",
      "13 in binary is 00001101\n",
      "14 in binary is 00001110\n",
      "15 in binary is 00001111\n",
      "16 in binary is 00010000\n"
     ]
    }
   ],
   "source": [
    "for i in range (17):\n",
    "    print(\"{0:>2} in binary is {0:>08b}\".format(i))"
   ]
  },
  {
   "cell_type": "code",
   "execution_count": 4,
   "metadata": {},
   "outputs": [
    {
     "name": "stdout",
     "output_type": "stream",
     "text": [
      " 0 in hex is 00\n",
      " 1 in hex is 01\n",
      " 2 in hex is 02\n",
      " 3 in hex is 03\n",
      " 4 in hex is 04\n",
      " 5 in hex is 05\n",
      " 6 in hex is 06\n",
      " 7 in hex is 07\n",
      " 8 in hex is 08\n",
      " 9 in hex is 09\n",
      "10 in hex is 0a\n",
      "11 in hex is 0b\n",
      "12 in hex is 0c\n",
      "13 in hex is 0d\n",
      "14 in hex is 0e\n",
      "15 in hex is 0f\n",
      "16 in hex is 10\n",
      "32\n",
      "10\n",
      "320\n",
      "42\n"
     ]
    }
   ],
   "source": [
    "for i in range (17):\n",
    "    print(\"{0:>2} in hex is {0:>02x}\".format(i))\n",
    "x = 0x20\n",
    "y = 0x0a\n",
    "\n",
    "print(x)\n",
    "print(y)\n",
    "print(x * y)\n",
    "\n",
    "print(0b00101010)"
   ]
  },
  {
   "cell_type": "markdown",
   "metadata": {},
   "source": [
    "## MACHINE LEARNING IRIS"
   ]
  },
  {
   "cell_type": "code",
   "execution_count": 5,
   "metadata": {},
   "outputs": [
    {
     "name": "stdout",
     "output_type": "stream",
     "text": [
      "[1, 1, 1, 2, 0, 1, 2, 1, 1, 1, 2, 2, 0, 1, 2, 1, 0, 1, 0, 1, 0, 2, 1, 2, 2, 2, 2, 2, 0, 1, 0, 1, 2, 0, 0, 1, 1, 2, 1, 1, 2, 1, 0, 0, 0, 2, 1, 0, 0, 1, 0, 1, 2, 1, 2, 1, 1, 1, 0, 1, 1, 0, 1, 1, 1, 0, 2, 0, 1, 1, 0, 1, 2, 1, 2]\n",
      "0.386666666667\n"
     ]
    }
   ],
   "source": [
    "import random\n",
    "\n",
    "class ScrappyKNN():\n",
    "    def fit(self, X_train, y_train):\n",
    "        self.X_train = X_train\n",
    "        self.y_train = y_train\n",
    "        \n",
    "    def predict(self, X_test):\n",
    "        predictions = []\n",
    "        for row in X_test:\n",
    "            label = random.choice(self.y_train)\n",
    "            predictions.append(label)\n",
    "            \n",
    "        return predictions\n",
    "\n",
    "from sklearn import datasets\n",
    "iris = datasets.load_iris()\n",
    "\n",
    "X = iris.data\n",
    "y = iris.target\n",
    "\n",
    "from sklearn.model_selection import train_test_split\n",
    "X_train, X_test, y_train, y_test = train_test_split(X, y, test_size= .5)\n",
    "\n",
    "# from sklearn import tree\n",
    "# my_classifier = tree.DecisionTreeClassifier()\n",
    "\n",
    "# from sklearn.neighbors import KNeighborsClassifier\n",
    "my_classifier = ScrappyKNN()\n",
    "\n",
    "my_classifier.fit(X_train, y_train)\n",
    "\n",
    "predictions = my_classifier.predict(X_test)\n",
    "print(predictions)\n",
    "\n",
    "from sklearn.metrics import accuracy_score\n",
    "print(accuracy_score(y_test, predictions))\n"
   ]
  },
  {
   "cell_type": "code",
   "execution_count": 6,
   "metadata": {},
   "outputs": [
    {
     "name": "stdout",
     "output_type": "stream",
     "text": [
      "[2, 0, 0, 0, 1, 1, 2, 2, 2, 1, 2, 0, 0, 1, 0, 0, 0, 0, 2, 1, 2, 0, 2, 2, 1, 0, 1, 0, 0, 1, 1, 1, 1, 2, 0, 1, 2, 0, 1, 2, 1, 0, 0, 1, 0, 1, 2, 2, 0, 1, 2, 1, 2, 2, 2, 1, 0, 1, 2, 2, 1, 0, 0, 1, 2, 1, 2, 2, 1, 2, 1, 1, 2, 0, 2]\n",
      "0.933333333333\n"
     ]
    }
   ],
   "source": [
    "from scipy.spatial import distance\n",
    "\n",
    "def euc(a,b):\n",
    "    return distance.euclidean(a, b)\n",
    "\n",
    "class ScrappyKNN():\n",
    "    \n",
    "    def fit(self, X_train, y_train):\n",
    "        self.X_train = X_train\n",
    "        self.y_train = y_train\n",
    "        \n",
    "    def predict(self, X_test):\n",
    "        predictions = []\n",
    "        for row in X_test:\n",
    "            label = self.closest(row)\n",
    "            predictions.append(label)\n",
    "            \n",
    "        return predictions\n",
    "    \n",
    "    def closest(self, row):\n",
    "        best_dist = euc(row, self.X_train[0])\n",
    "        best_index = 0\n",
    "        for i in range(1, len(self.X_train)):\n",
    "            dist = euc(row, self.X_train[i])\n",
    "            if dist < best_dist:\n",
    "                best_dist = dist\n",
    "                best_index = i\n",
    "                \n",
    "        return self.y_train[best_index]\n",
    "\n",
    "from sklearn import datasets\n",
    "iris = datasets.load_iris()\n",
    "\n",
    "X = iris.data\n",
    "y = iris.target\n",
    "\n",
    "from sklearn.model_selection import train_test_split\n",
    "X_train, X_test, y_train, y_test = train_test_split(X, y, test_size= .5)\n",
    "\n",
    "# from sklearn import tree\n",
    "# my_classifier = tree.DecisionTreeClassifier()\n",
    "\n",
    "# from sklearn.neighbors import KNeighborsClassifier\n",
    "my_classifier = ScrappyKNN()\n",
    "\n",
    "my_classifier.fit(X_train, y_train)\n",
    "\n",
    "predictions = my_classifier.predict(X_test)\n",
    "print(predictions)\n",
    "\n",
    "from sklearn.metrics import accuracy_score\n",
    "print(accuracy_score(y_test, predictions))"
   ]
  },
  {
   "cell_type": "markdown",
   "metadata": {},
   "source": [
    "## Dictionary Practice"
   ]
  },
  {
   "cell_type": "code",
   "execution_count": 7,
   "metadata": {},
   "outputs": [
    {
     "name": "stdout",
     "output_type": "stream",
     "text": [
      "274877906944\n"
     ]
    }
   ],
   "source": [
    "print(2**38)"
   ]
  },
  {
   "cell_type": "code",
   "execution_count": 8,
   "metadata": {},
   "outputs": [
    {
     "name": "stdout",
     "output_type": "stream",
     "text": [
      "{'orange': 'a sweet, orange citrus fruit', 'apple': 'good for making cider', 'lemon': 'a sour yellow citru', 'grape': 'a small sweet fruit', 'lime': 'sour, green'}\n",
      "good for making cider\n"
     ]
    }
   ],
   "source": [
    "fruit = {\"orange\": \"a sweet, orange citrus fruit\", \n",
    "         \"apple\": \"good for making cider\", \n",
    "         \"lemon\": \"a sour yellow citru\", \n",
    "         \"grape\": \"a small sweet fruit\",\n",
    "         \"lime\": \"sour, green\"}\n",
    "print(fruit)\n",
    "print(fruit[\"apple\"])\n",
    "                       \n",
    "# while True:\n",
    "#     dict_key = input(\"Please enter a fruit: \")\n",
    "#     if dict_key == \"quit\":\n",
    "#         break\n",
    "#     description = fruit.get(dict_key)\n",
    "#     print(description)\n",
    "                                                                                                                                                            "
   ]
  },
  {
   "cell_type": "code",
   "execution_count": 9,
   "metadata": {},
   "outputs": [
    {
     "name": "stdout",
     "output_type": "stream",
     "text": [
      "250\n",
      "red\n"
     ]
    }
   ],
   "source": [
    "bike = {\"make\":\"Honda\",\n",
    "        \"model\":\"250 dream\",\n",
    "        \"color\": \"red\",\n",
    "        \"engine_size\": 250}\n",
    "print(bike[\"engine_size\"])\n",
    "print(bike[\"color\"])\n"
   ]
  },
  {
   "cell_type": "code",
   "execution_count": 10,
   "metadata": {},
   "outputs": [
    {
     "name": "stdout",
     "output_type": "stream",
     "text": [
      "1\n",
      "4\n",
      "9\n",
      "16\n",
      "25\n"
     ]
    }
   ],
   "source": [
    "x = 0\n",
    "for i in range(1, 10, 2):\n",
    "    x = x + i\n",
    "    print(x)\n",
    "\n",
    "\n",
    "    "
   ]
  },
  {
   "cell_type": "code",
   "execution_count": null,
   "metadata": {},
   "outputs": [],
   "source": []
  },
  {
   "cell_type": "markdown",
   "metadata": {},
   "source": [
    "## MACHINE LEARNING!!!!"
   ]
  },
  {
   "cell_type": "markdown",
   "metadata": {},
   "source": [
    "## Linear regression"
   ]
  },
  {
   "cell_type": "code",
   "execution_count": 11,
   "metadata": {},
   "outputs": [],
   "source": [
    "import pandas as pd\n",
    "import numpy as np\n",
    "import matplotlib.pyplot as plt\n",
    "from sklearn import linear_model"
   ]
  },
  {
   "cell_type": "code",
   "execution_count": 12,
   "metadata": {},
   "outputs": [
    {
     "data": {
      "text/html": [
       "<div>\n",
       "<style scoped>\n",
       "    .dataframe tbody tr th:only-of-type {\n",
       "        vertical-align: middle;\n",
       "    }\n",
       "\n",
       "    .dataframe tbody tr th {\n",
       "        vertical-align: top;\n",
       "    }\n",
       "\n",
       "    .dataframe thead th {\n",
       "        text-align: right;\n",
       "    }\n",
       "</style>\n",
       "<table border=\"1\" class=\"dataframe\">\n",
       "  <thead>\n",
       "    <tr style=\"text-align: right;\">\n",
       "      <th></th>\n",
       "      <th>area</th>\n",
       "      <th>price</th>\n",
       "    </tr>\n",
       "  </thead>\n",
       "  <tbody>\n",
       "    <tr>\n",
       "      <th>0</th>\n",
       "      <td>2600</td>\n",
       "      <td>550000</td>\n",
       "    </tr>\n",
       "    <tr>\n",
       "      <th>1</th>\n",
       "      <td>3000</td>\n",
       "      <td>565000</td>\n",
       "    </tr>\n",
       "    <tr>\n",
       "      <th>2</th>\n",
       "      <td>3200</td>\n",
       "      <td>610000</td>\n",
       "    </tr>\n",
       "    <tr>\n",
       "      <th>3</th>\n",
       "      <td>3600</td>\n",
       "      <td>680000</td>\n",
       "    </tr>\n",
       "    <tr>\n",
       "      <th>4</th>\n",
       "      <td>4000</td>\n",
       "      <td>725000</td>\n",
       "    </tr>\n",
       "  </tbody>\n",
       "</table>\n",
       "</div>"
      ],
      "text/plain": [
       "   area   price\n",
       "0  2600  550000\n",
       "1  3000  565000\n",
       "2  3200  610000\n",
       "3  3600  680000\n",
       "4  4000  725000"
      ]
     },
     "execution_count": 12,
     "metadata": {},
     "output_type": "execute_result"
    }
   ],
   "source": [
    "homeprice = {'area': [2600, 3000, 3200, 3600, 4000],\n",
    "             'price': [550000, 565000, 610000,680000, 725000]}\n",
    "df = pd.DataFrame.from_dict(homeprice)\n",
    "df"
   ]
  },
  {
   "cell_type": "code",
   "execution_count": 13,
   "metadata": {},
   "outputs": [
    {
     "data": {
      "text/plain": [
       "<matplotlib.collections.PathCollection at 0x112e9b588>"
      ]
     },
     "execution_count": 13,
     "metadata": {},
     "output_type": "execute_result"
    },
    {
     "data": {
      "image/png": "[encoded data removed]",
      "text/plain": [
       "<matplotlib.figure.Figure at 0x10d1b6748>"
      ]
     },
     "metadata": {},
     "output_type": "display_data"
    }
   ],
   "source": [
    "plt.xlabel('area')\n",
    "plt.ylabel('price')\n",
    "%matplotlib inline\n",
    "plt.scatter(df.area, df.price, color = 'red', marker = '+')\n"
   ]
  },
  {
   "cell_type": "code",
   "execution_count": 14,
   "metadata": {},
   "outputs": [
    {
     "name": "stderr",
     "output_type": "stream",
     "text": [
      "/usr/local/lib/python3.6/site-packages/sklearn/linear_model/base.py:509: RuntimeWarning: internal gelsd driver lwork query error, required iwork dimension not returned. This is likely the result of LAPACK bug 0038, fixed in LAPACK 3.2.2 (released July 21, 2010). Falling back to 'gelss' driver.\n",
      "  linalg.lstsq(X, y)\n"
     ]
    },
    {
     "data": {
      "text/plain": [
       "LinearRegression(copy_X=True, fit_intercept=True, n_jobs=1, normalize=False)"
      ]
     },
     "execution_count": 14,
     "metadata": {},
     "output_type": "execute_result"
    }
   ],
   "source": [
    "reg = linear_model.LinearRegression()\n",
    "reg.fit(df[['area']], df.price)"
   ]
  },
  {
   "cell_type": "code",
   "execution_count": 15,
   "metadata": {},
   "outputs": [
    {
     "data": {
      "text/plain": [
       "array([ 628715.75342466])"
      ]
     },
     "execution_count": 15,
     "metadata": {},
     "output_type": "execute_result"
    }
   ],
   "source": [
    "reg.predict(3300)"
   ]
  },
  {
   "cell_type": "code",
   "execution_count": 16,
   "metadata": {},
   "outputs": [
    {
     "data": {
      "text/plain": [
       "array([ 135.78767123])"
      ]
     },
     "execution_count": 16,
     "metadata": {},
     "output_type": "execute_result"
    }
   ],
   "source": [
    "reg.coef_"
   ]
  },
  {
   "cell_type": "code",
   "execution_count": 17,
   "metadata": {},
   "outputs": [
    {
     "data": {
      "text/plain": [
       "180616.43835616432"
      ]
     },
     "execution_count": 17,
     "metadata": {},
     "output_type": "execute_result"
    }
   ],
   "source": [
    "reg.intercept_"
   ]
  },
  {
   "cell_type": "code",
   "execution_count": 18,
   "metadata": {},
   "outputs": [
    {
     "data": {
      "text/plain": [
       "628715.7534151643"
      ]
     },
     "execution_count": 18,
     "metadata": {},
     "output_type": "execute_result"
    }
   ],
   "source": [
    "#y = m * x + b\n",
    "135.78767123*3300 + 180616.43835616432"
   ]
  },
  {
   "cell_type": "code",
   "execution_count": 19,
   "metadata": {},
   "outputs": [
    {
     "data": {
      "text/html": [
       "<div>\n",
       "<style scoped>\n",
       "    .dataframe tbody tr th:only-of-type {\n",
       "        vertical-align: middle;\n",
       "    }\n",
       "\n",
       "    .dataframe tbody tr th {\n",
       "        vertical-align: top;\n",
       "    }\n",
       "\n",
       "    .dataframe thead th {\n",
       "        text-align: right;\n",
       "    }\n",
       "</style>\n",
       "<table border=\"1\" class=\"dataframe\">\n",
       "  <thead>\n",
       "    <tr style=\"text-align: right;\">\n",
       "      <th></th>\n",
       "      <th>area</th>\n",
       "    </tr>\n",
       "  </thead>\n",
       "  <tbody>\n",
       "    <tr>\n",
       "      <th>0</th>\n",
       "      <td>100</td>\n",
       "    </tr>\n",
       "    <tr>\n",
       "      <th>1</th>\n",
       "      <td>1500</td>\n",
       "    </tr>\n",
       "    <tr>\n",
       "      <th>2</th>\n",
       "      <td>2300</td>\n",
       "    </tr>\n",
       "  </tbody>\n",
       "</table>\n",
       "</div>"
      ],
      "text/plain": [
       "   area\n",
       "0   100\n",
       "1  1500\n",
       "2  2300"
      ]
     },
     "execution_count": 19,
     "metadata": {},
     "output_type": "execute_result"
    }
   ],
   "source": [
    "area = {'area':[100, 1500, 2300, 3540, 4120, 4560, 5490, 3460, 4750, 2300, 9000, 8600, 7100]}\n",
    "d = pd.DataFrame(area)\n",
    "d.head(3)\n"
   ]
  },
  {
   "cell_type": "code",
   "execution_count": 20,
   "metadata": {},
   "outputs": [
    {
     "ename": "NameError",
     "evalue": "name 'p' is not defined",
     "output_type": "error",
     "traceback": [
      "\u001b[0;31m---------------------------------------------------------------------------\u001b[0m",
      "\u001b[0;31mNameError\u001b[0m                                 Traceback (most recent call last)",
      "\u001b[0;32m<ipython-input-20-51e2d8c98962>\u001b[0m in \u001b[0;36m<module>\u001b[0;34m()\u001b[0m\n\u001b[0;32m----> 1\u001b[0;31m \u001b[0mp\u001b[0m \u001b[0;34m=\u001b[0m \u001b[0mreg\u001b[0m\u001b[0;34m.\u001b[0m\u001b[0mpredict\u001b[0m\u001b[0;34m(\u001b[0m\u001b[0mp\u001b[0m\u001b[0;34m)\u001b[0m\u001b[0;34m\u001b[0m\u001b[0m\n\u001b[0m",
      "\u001b[0;31mNameError\u001b[0m: name 'p' is not defined"
     ]
    }
   ],
   "source": [
    "p = reg.predict(p)"
   ]
  },
  {
   "cell_type": "code",
   "execution_count": null,
   "metadata": {},
   "outputs": [],
   "source": [
    "d['prices'] = p\n",
    "d "
   ]
  },
  {
   "cell_type": "code",
   "execution_count": null,
   "metadata": {},
   "outputs": [],
   "source": [
    "plt.xlabel('area')\n",
    "plt.ylabel('price')\n",
    "%matplotlib inline\n",
    "plt.scatter(df.area, df.price, color = 'red', marker = '+')\n",
    "plt.plot(df.area,reg.predict(df[['area']]), color = 'blue')"
   ]
  },
  {
   "cell_type": "code",
   "execution_count": null,
   "metadata": {
    "scrolled": true
   },
   "outputs": [],
   "source": [
    "df = pd.read_csv('/Users/lszczyrba/Project_3.6.3/HelloWorld/ML/canada_per_capita_income.csv')\n",
    "df.head(5)\n",
    "print(list(df))\n",
    "df.rename(index=str, columns={'year':'Year', 'per capita income (US$)': 'Income'}, inplace = True)"
   ]
  },
  {
   "cell_type": "code",
   "execution_count": null,
   "metadata": {},
   "outputs": [],
   "source": [
    "print(list(df))\n",
    "plt.xlabel('Year')\n",
    "plt.ylabel('Income')\n",
    "%matplotlib inline\n",
    "plt.scatter(df.Year, df.Income, color = 'red', marker = '+')\n"
   ]
  },
  {
   "cell_type": "code",
   "execution_count": null,
   "metadata": {},
   "outputs": [],
   "source": [
    "reg = linear_model.LinearRegression()\n",
    "reg.fit(df[['Year']], df.Income)"
   ]
  },
  {
   "cell_type": "code",
   "execution_count": null,
   "metadata": {},
   "outputs": [],
   "source": [
    "p = reg.predict(2010)\n",
    "p"
   ]
  },
  {
   "cell_type": "code",
   "execution_count": null,
   "metadata": {},
   "outputs": [],
   "source": [
    "print(list(df))\n",
    "plt.xlabel('Year')\n",
    "plt.ylabel('Income')\n",
    "%matplotlib inline\n",
    "plt.scatter(df.Year, df.Income, color = 'red', marker = '+')\n",
    "plt.plot(df.Year,reg.predict(df[['Year']]), color = 'blue')"
   ]
  },
  {
   "cell_type": "markdown",
   "metadata": {},
   "source": [
    "## Mulitvariate linear regression model"
   ]
  },
  {
   "cell_type": "code",
   "execution_count": null,
   "metadata": {},
   "outputs": [],
   "source": [
    "NJprice = {'area': [2600, 3000, 3200, 3600, 4000],\n",
    "           'bedrooms': [3, 4, 0, 3, 5],\n",
    "           'age' : [20, 15, 18, 30, 8],\n",
    "           'price': [550000, 565000, 610000,595000, 725000]}"
   ]
  },
  {
   "cell_type": "code",
   "execution_count": null,
   "metadata": {},
   "outputs": [],
   "source": [
    "df = pd.DataFrame.from_dict(NJprice)\n",
    "df.loc[df['bedrooms'] == 0,'bedrooms'] = np.nan #replace the 0 with an NaN\n",
    "df"
   ]
  },
  {
   "cell_type": "code",
   "execution_count": null,
   "metadata": {},
   "outputs": [],
   "source": [
    "#fill NaN with median\n",
    "import math\n",
    "median_bedrooms = math.floor(df.bedrooms.median())\n",
    "median_bedrooms"
   ]
  },
  {
   "cell_type": "code",
   "execution_count": null,
   "metadata": {},
   "outputs": [],
   "source": [
    "df.bedrooms = df.bedrooms.fillna(median_bedrooms)\n",
    "df"
   ]
  },
  {
   "cell_type": "code",
   "execution_count": null,
   "metadata": {},
   "outputs": [],
   "source": [
    "reg = linear_model.LinearRegression()\n",
    "reg.fit(df[['area', 'bedrooms', 'age']], df.price) \n",
    "#two brackets calls to an existing dataframe, independent variables go\n",
    "#in the brackets and dependent goes outside "
   ]
  },
  {
   "cell_type": "code",
   "execution_count": null,
   "metadata": {},
   "outputs": [],
   "source": [
    "print(reg.coef_)\n",
    "(df.columns.values) \n"
   ]
  },
  {
   "cell_type": "code",
   "execution_count": null,
   "metadata": {},
   "outputs": [],
   "source": [
    "reg.intercept_"
   ]
  },
  {
   "cell_type": "code",
   "execution_count": null,
   "metadata": {},
   "outputs": [],
   "source": [
    "reg.predict([[3000, 3, 30]])"
   ]
  },
  {
   "cell_type": "code",
   "execution_count": null,
   "metadata": {},
   "outputs": [],
   "source": [
    "\n",
    "\n"
   ]
  },
  {
   "cell_type": "code",
   "execution_count": null,
   "metadata": {},
   "outputs": [],
   "source": [
    "import sys\n",
    "!{sys.executable} -m pip install word2number"
   ]
  },
  {
   "cell_type": "code",
   "execution_count": null,
   "metadata": {},
   "outputs": [],
   "source": [
    "import word2number\n",
    "from word2number import w2n"
   ]
  },
  {
   "cell_type": "code",
   "execution_count": null,
   "metadata": {},
   "outputs": [],
   "source": [
    "df = pd.read_csv('/Users/lszczyrba/Project_3.6.3/HelloWorld/ML/hiring.csv')"
   ]
  },
  {
   "cell_type": "code",
   "execution_count": null,
   "metadata": {},
   "outputs": [],
   "source": [
    "df\n",
    "df.columns.values\n",
    "df.rename(index=str, columns={'year':'Year', \n",
    "                              'test_score(out of 10)': 'testscore', \n",
    "                              'interview_score(out of 10)': 'interviewscore',\n",
    "                              'salary($)':'salary'}, inplace = True)\n",
    "df"
   ]
  },
  {
   "cell_type": "code",
   "execution_count": null,
   "metadata": {},
   "outputs": [],
   "source": [
    "df.experience = df.experience.fillna('zero')\n",
    "df\n",
    "median_score = math.floor(df.testscore.median())\n",
    "df.testscore = df.testscore.fillna(median_score)\n",
    "df"
   ]
  },
  {
   "cell_type": "code",
   "execution_count": null,
   "metadata": {},
   "outputs": [],
   "source": [
    "df ['experience'] = df['experience'].apply(w2n.word_to_num)\n",
    "df"
   ]
  },
  {
   "cell_type": "code",
   "execution_count": null,
   "metadata": {},
   "outputs": [],
   "source": [
    "reg = linear_model.LinearRegression()\n",
    "reg.fit(df[['experience', 'testscore', 'interviewscore']], df.salary)"
   ]
  },
  {
   "cell_type": "code",
   "execution_count": null,
   "metadata": {},
   "outputs": [],
   "source": [
    "print(reg.coef_)\n",
    "print(reg.intercept_)"
   ]
  },
  {
   "cell_type": "code",
   "execution_count": null,
   "metadata": {},
   "outputs": [],
   "source": [
    "reg.predict([[2, 9, 6]])"
   ]
  },
  {
   "cell_type": "code",
   "execution_count": null,
   "metadata": {},
   "outputs": [],
   "source": [
    "reg.predict([[12, 10, 10]])"
   ]
  },
  {
   "cell_type": "markdown",
   "metadata": {},
   "source": [
    "## Gradient Descent and Cost Function\n"
   ]
  },
  {
   "cell_type": "code",
   "execution_count": null,
   "metadata": {},
   "outputs": [],
   "source": [
    "import numpy as np\n",
    "def gradient_descent(x,y):\n",
    "    m_curr = b_curr = 0\n",
    "    iterates = 10000\n",
    "    n = len(x)\n",
    "    learning_rate = 0.01\n",
    "    \n",
    "    for i in range(iterates):\n",
    "        y_predicted = m_curr * x + b_curr\n",
    "        cost = (1/n) * sum([val**2 for val in (y-y_predicted)])\n",
    "        md = -(2/n)*sum(x*(y-y_predicted))\n",
    "        bd = -(2/n)*sum((y-y_predicted))\n",
    "        m_curr = m_curr - learning_rate * md\n",
    "        b_curr = b_curr - learning_rate * bd\n",
    "        print(\"m {}, b {}, cost{}, iteration {}\".format(m_curr,b_curr, cost, i))\n",
    "     \n",
    "x = np.array([1,2,3,4,5])\n",
    "y = [5,7,9,11,13]\n",
    "\n",
    "gradient_descent(x,y)"
   ]
  },
  {
   "cell_type": "code",
   "execution_count": null,
   "metadata": {},
   "outputs": [],
   "source": [
    "import numpy as np\n",
    "import matplotlib.pyplot as plt"
   ]
  },
  {
   "cell_type": "code",
   "execution_count": null,
   "metadata": {},
   "outputs": [],
   "source": [
    "%matplotlib inline\n",
    "def gradient_descent(x,y):\n",
    "    m_curr = b_curr = 0\n",
    "    rate = 0.01\n",
    "    n = len(x)\n",
    "    plt.scatter(x,y,color='red',marker='+',linewidth='5')\n",
    "    for i in range(1000):\n",
    "        y_predicted = m_curr * x + b_curr\n",
    "        #print (m_curr,b_curr, i)\n",
    "        plt.plot(x,y_predicted,color='green')\n",
    "        md = -(2/n)*sum(x*(y-y_predicted))\n",
    "        yd = -(2/n)*sum(y-y_predicted)\n",
    "        m_curr = m_curr - rate * md\n",
    "        b_curr = b_curr - rate * yd\n",
    "        \n",
    "x = np.array([1,2,3,4,5])\n",
    "y = np.array([5,7,9,11,13])\n",
    "\n",
    "gradient_descent(x,y)"
   ]
  },
  {
   "cell_type": "code",
   "execution_count": null,
   "metadata": {},
   "outputs": [],
   "source": [
    "guest_list = ['Bill Nye', 'Thomas Jefferson', 'Martin Luther King Jr']\n",
    "for i in range(len(guest_list)):\n",
    "    print(\"Dear {}, please come to dinner\".format(guest_list[i]))\n",
    "    \n",
    "    for guest in guest_list:\n",
    "        print(\"Dear {}, please come to dinner\".format(guest))\n",
    "        \n",
    "print(guest_list[1] + \" can't make it\")\n",
    "del guest_list[1]\n",
    "guest_list.insert(1, 'George Mason')\n",
    "print(guest_list)"
   ]
  },
  {
   "cell_type": "code",
   "execution_count": null,
   "metadata": {},
   "outputs": [],
   "source": [
    "squares = []\n",
    "for value in range (1,11):\n",
    "    square = value**2\n",
    "    squares.append(square)\n",
    "print(squares)\n",
    "\n",
    "bettersquare = []\n",
    "for bettervalue in range(1,11):\n",
    "    bettersquare.append(bettervalue**2)\n",
    "print(bettersquare)\n",
    "\n",
    "##list comprehension##\n",
    "evenbettersquare = [value**2 for value in range (1,11)]\n",
    "print(evenbettersquare)\n",
    "\n",
    "lists = []\n",
    "for i in range (1,21):\n",
    "    lists.append(i)\n",
    "print(lists)\n",
    "\n",
    "\n"
   ]
  },
  {
   "cell_type": "code",
   "execution_count": null,
   "metadata": {},
   "outputs": [],
   "source": [
    "million = []\n",
    "for i in range (1,1000000):\n",
    "    million.append(i)\n",
    "    \n",
    "sum(million)"
   ]
  },
  {
   "cell_type": "code",
   "execution_count": null,
   "metadata": {},
   "outputs": [],
   "source": [
    "threes = []\n",
    "for i in range (0,30,3):\n",
    "    threes.append(i)\n",
    "    print(i)"
   ]
  },
  {
   "cell_type": "code",
   "execution_count": null,
   "metadata": {},
   "outputs": [],
   "source": [
    "threecubed = [value**3 for value in range (1,11)]\n",
    "print(threecubed)"
   ]
  },
  {
   "cell_type": "code",
   "execution_count": null,
   "metadata": {},
   "outputs": [],
   "source": [
    "list = [\"lab\", \"retriever\", \"cattledog\", \"pug\"]\n",
    "bestdogs = list[2:]\n",
    "print(bestdogs)\n",
    "bestestdog = list[3]\n",
    "print(bestestdog)\n",
    "list[0] = \"bulldog\"\n",
    "print(list)"
   ]
  },
  {
   "cell_type": "code",
   "execution_count": null,
   "metadata": {},
   "outputs": [],
   "source": [
    "tuple = (\"pug\", \"cattledog\")\n",
    "print(tuple)\n",
    "for dog in tuple:\n",
    "    print(dog)"
   ]
  },
  {
   "cell_type": "code",
   "execution_count": null,
   "metadata": {},
   "outputs": [],
   "source": [
    "cars = ['bmw', 'audi', 'mazda', 'subaru']\n",
    "\n",
    "for car in cars:\n",
    "    if car == 'bmw':\n",
    "        print(car.upper())\n",
    "    else:\n",
    "        print(car.title())"
   ]
  },
  {
   "cell_type": "code",
   "execution_count": null,
   "metadata": {},
   "outputs": [],
   "source": [
    "requested_topping = 'pepperoni'\n",
    "\n",
    "if requested_topping != 'achnovies':\n",
    "    print(\"{} please! And hold the anchovies!\".format(requested_topping))\n",
    "    \n",
    "topping_list = ['pepperoni', 'cheese', 'peppers', 'anchovies']\n",
    "\n",
    "if 'anchovies' in topping_list:\n",
    "    print(\"EW, {} are SO gross\".format(topping_list[-1]))"
   ]
  },
  {
   "cell_type": "code",
   "execution_count": null,
   "metadata": {},
   "outputs": [],
   "source": [
    "age = int(input())\n",
    "\n",
    "if age < 21:\n",
    "    print(\"You are {} years too young to drink\".format(21 - age))\n",
    "else:\n",
    "    print(\"Have fun partying\")"
   ]
  },
  {
   "cell_type": "code",
   "execution_count": null,
   "metadata": {},
   "outputs": [],
   "source": [
    "age = int(input())\n",
    "\n",
    "if age <4:\n",
    "    price = 0\n",
    "elif 4 < age < 13:\n",
    "    price = 5\n",
    "else:\n",
    "    price = 10\n",
    "    \n",
    "print(\"The price is $\" + str(price) + \".\")"
   ]
  },
  {
   "cell_type": "code",
   "execution_count": null,
   "metadata": {},
   "outputs": [],
   "source": [
    "list = [\"lab\", \"retriever\", \"cattledog\", \"pug\"]\n",
    "\n",
    "for dog in list:\n",
    "    if dog == 'pug':\n",
    "        print(\"Ted is absolutely the bestest dog ever\")\n",
    "    else:\n",
    "        print(\"This \" + dog + \" is the best!\")"
   ]
  },
  {
   "cell_type": "code",
   "execution_count": null,
   "metadata": {},
   "outputs": [],
   "source": [
    "list = [\"lab\", \"retriever\", \"cattledog\", \"pug\"]\n",
    "favoritedog = input(\"What is your favorite dog? \")\n",
    "\n",
    "if favoritedog in list:\n",
    "    print(\"you have a good choice in dogs\")\n",
    "else:\n",
    "    print(\"you like terrible dogs\")"
   ]
  },
  {
   "cell_type": "code",
   "execution_count": null,
   "metadata": {},
   "outputs": [],
   "source": [
    "numbers = [1,2,3,4,5,6,7,8,9]\n",
    "\n",
    "for number in numbers:\n",
    "    if number == 1 or number == 2 or number ==3: \n",
    "        print(str(number) + \"st\")\n",
    "    else:\n",
    "        print(str(number) + \"th\")"
   ]
  },
  {
   "cell_type": "code",
   "execution_count": null,
   "metadata": {},
   "outputs": [],
   "source": [
    "username = ['ls', 'jp', 'jj']\n",
    "youruser = input(\"Please choose a username: \")\n",
    "\n",
    "if youruser in username:\n",
    "    print(\"Please choose a different name, {} has already been selected.\".format(youruser))\n",
    "else:\n",
    "    print(\"Succes!\")\n"
   ]
  },
  {
   "cell_type": "code",
   "execution_count": null,
   "metadata": {},
   "outputs": [],
   "source": [
    "dogs = {'pug': 'piggy piggy piggy', 'cattle dog': 'I herd you'}\n",
    "print(dogs)\n",
    "dogs['hound'] = 'Sniff everything'\n",
    "print(dogs)\n"
   ]
  },
  {
   "cell_type": "code",
   "execution_count": null,
   "metadata": {},
   "outputs": [],
   "source": [
    "alien = {'x_position': 0, 'y_position':25, 'speed': 'medium'}\n",
    "if alien['speed'] == 'slow':\n",
    "    x_increment = 1\n",
    "elif alien['speed'] == 'medium':\n",
    "    x_increment = 2\n",
    "else:\n",
    "    x_increment =3\n",
    "\n",
    "alien['x_position'] = x_increment + alien['x_position']\n",
    "print(\"new position is \" + str(alien['x_position']))"
   ]
  },
  {
   "cell_type": "code",
   "execution_count": null,
   "metadata": {},
   "outputs": [],
   "source": [
    "# del alien['speed']\n",
    "print(alien)"
   ]
  },
  {
   "cell_type": "code",
   "execution_count": null,
   "metadata": {},
   "outputs": [],
   "source": [
    "python = {'dicitonary': 'chaneable', 'list':'square brackets', 'variable':'like x'}\n",
    "print(python['dicitonary'], python['list'])"
   ]
  },
  {
   "cell_type": "code",
   "execution_count": null,
   "metadata": {},
   "outputs": [],
   "source": [
    "user = {\n",
    "    'username':'ls',\n",
    "    'firstname':'laura',\n",
    "    'lastname':'szczyrba'\n",
    "    }\n",
    "\n",
    "for key, value in user.items(): \n",
    "    print(\" \")\n",
    "    print(\"Key \" + key)\n",
    "    print(\"Value \" + value)\n",
    "    "
   ]
  },
  {
   "cell_type": "code",
   "execution_count": null,
   "metadata": {},
   "outputs": [],
   "source": [
    "for a, b in user.items():\n",
    "    print(a)\n",
    "    print(b)\n",
    "print(' ')\n",
    "for a in user:\n",
    "    print(a)\n",
    "print(\" \")\n",
    "for a in user.keys():\n",
    "    print(a)\n",
    "print(\" \")  \n",
    "for a in user.values():\n",
    "    print(a)"
   ]
  },
  {
   "cell_type": "code",
   "execution_count": null,
   "metadata": {},
   "outputs": [],
   "source": [
    "rivers = {\n",
    "    'nile': 'egypt',\n",
    "    'new': 'west virginia',\n",
    "    'mississippi': 'louisiana'\n",
    "    }\n",
    "rivers['rio grande'] = 'new mexico'"
   ]
  },
  {
   "cell_type": "code",
   "execution_count": null,
   "metadata": {},
   "outputs": [],
   "source": [
    "for key, value in rivers.items():\n",
    "    print('The ' + key + ' is in ' + value)"
   ]
  },
  {
   "cell_type": "code",
   "execution_count": null,
   "metadata": {},
   "outputs": [],
   "source": [
    "for a in rivers:\n",
    "    print(a)"
   ]
  },
  {
   "cell_type": "code",
   "execution_count": null,
   "metadata": {},
   "outputs": [],
   "source": [
    "for b in rivers.values():\n",
    "    print(b)"
   ]
  },
  {
   "cell_type": "code",
   "execution_count": null,
   "metadata": {},
   "outputs": [],
   "source": [
    "\n",
    "if 'oklahoma' not in rivers:\n",
    "    print('this is not a good river')"
   ]
  },
  {
   "cell_type": "code",
   "execution_count": null,
   "metadata": {},
   "outputs": [],
   "source": [
    "aliens = []\n",
    "\n",
    "for alien_number in range(30):\n",
    "    new_alien = {'color':'green', 'points': 5, 'speed':'slow'}\n",
    "    aliens.append(new_alien)\n",
    "for alien in aliens[:5]:\n",
    "    print(alien)\n",
    "    \n",
    "print(\"Total number of alien is \" + str(len(aliens)))"
   ]
  },
  {
   "cell_type": "code",
   "execution_count": null,
   "metadata": {},
   "outputs": [],
   "source": [
    "for alien in aliens:\n",
    "    if alien['color'] == 'green':\n",
    "        alien['color']='yellow'\n",
    "        alien['points']= 10\n",
    "        alien['speed']='fast'\n",
    "    \n",
    "\n",
    "print(aliens)       "
   ]
  },
  {
   "cell_type": "code",
   "execution_count": null,
   "metadata": {},
   "outputs": [],
   "source": [
    "pizza = {\n",
    "    'crust':'thin',\n",
    "    'toppings':['pepperoni', 'cheese']\n",
    "    }\n",
    "\n",
    "print('you ordered a ' + pizza['crust']+ \" pizza with \")\n",
    "\n",
    "for topping in pizza['toppings']:\n",
    "    print(topping)"
   ]
  },
  {
   "cell_type": "code",
   "execution_count": null,
   "metadata": {},
   "outputs": [],
   "source": [
    "ted = {\n",
    "    'breed':'pug',\n",
    "    'owner':'Chris'\n",
    "    }\n",
    "bodie = {\n",
    "    'breed':'ACD',\n",
    "    'owner':'Laura'\n",
    "    }\n",
    "dogs = [ted, bodie]\n",
    "print(dogs)\n",
    "\n",
    "for dog in dogs:\n",
    "    print(dog.values())"
   ]
  },
  {
   "cell_type": "code",
   "execution_count": null,
   "metadata": {},
   "outputs": [],
   "source": [
    "message = input(\"what would you like to say? \")\n",
    "print(message)"
   ]
  },
  {
   "cell_type": "code",
   "execution_count": null,
   "metadata": {},
   "outputs": [],
   "source": [
    "prompt = 'welcome to the webpage, we would like to customize this experience for you! '\n",
    "prompt += 'what is your name? '\n",
    "\n",
    "name = input(prompt)"
   ]
  },
  {
   "cell_type": "code",
   "execution_count": null,
   "metadata": {},
   "outputs": [],
   "source": [
    "number = int(input(\"What number woudl you like? \"))\n",
    "\n",
    "if number % 2 == 0:\n",
    "    print('{} is even!'.format(number))\n",
    "else:\n",
    "    print('{} is odd'.format(number))"
   ]
  },
  {
   "cell_type": "code",
   "execution_count": null,
   "metadata": {},
   "outputs": [],
   "source": [
    "number = 1\n",
    "while number <= 5:\n",
    "    print(number)\n",
    "    number += 1"
   ]
  },
  {
   "cell_type": "code",
   "execution_count": null,
   "metadata": {},
   "outputs": [],
   "source": [
    "prompt = ('tell me somehting about yourself, to quit, type \"quit\"'')\n",
    "while flag = True:\n",
    "          message = input(prompt)\n",
    "          \n",
    "          if message == 'quit':\n",
    "          flag = false\n",
    "          \n",
    "          else:\n",
    "          print(message)"
   ]
  },
  {
   "cell_type": "code",
   "execution_count": null,
   "metadata": {},
   "outputs": [],
   "source": [
    "def greeting(name):\n",
    "    print(\"Hello, {}!\".format(name))\n",
    "    \n",
    "greeting('Laura')\n",
    "    "
   ]
  },
  {
   "cell_type": "code",
   "execution_count": null,
   "metadata": {},
   "outputs": [],
   "source": [
    "def favorite_book(book, author):\n",
    "    print(\"My favorite book is: \" + book.title() + \" by \" + author.title())\n",
    "favorite_book(\"harry potter\", \"JK rowling\")"
   ]
  },
  {
   "cell_type": "code",
   "execution_count": null,
   "metadata": {},
   "outputs": [],
   "source": [
    "def describe_animal(pet_name, animal_type='dog'):\n",
    "    print(\"I have a \" + animal_type + \".\")\n",
    "    print(\"my \" + animal_type + \"'s name is \" + pet_name.title() + \".\")\n",
    "describe_animal(pet_name = \"Willie\", animal_type=\"cat\")"
   ]
  },
  {
   "cell_type": "code",
   "execution_count": null,
   "metadata": {},
   "outputs": [],
   "source": [
    "describe_animal(\"Bodie\")"
   ]
  },
  {
   "cell_type": "code",
   "execution_count": null,
   "metadata": {},
   "outputs": [],
   "source": [
    "def formatted_name(first_name, last_name, middle_name = ''):\n",
    "    if middle_name:\n",
    "        full_name = first_name + ' ' + middle_name + ' ' + last_name\n",
    "    else:\n",
    "        full_name = first_name + ' ' + last_name\n",
    "    return full_name.title()\n",
    "musician = formatted_name('jimi', 'hendrix', middle_name = 'jones')\n",
    "print(musician)\n"
   ]
  },
  {
   "cell_type": "code",
   "execution_count": null,
   "metadata": {},
   "outputs": [],
   "source": [
    "def dict_name(first, last, age = ''):\n",
    "    person = {'First': first, 'Last': last}\n",
    "    if age:\n",
    "        person['Age'] = age\n",
    "    return person\n",
    "musician = dict_name('jimi', 'hendrix', 27)\n",
    "print(musician)"
   ]
  },
  {
   "cell_type": "code",
   "execution_count": null,
   "metadata": {},
   "outputs": [],
   "source": [
    "def formatted_name(first_name, last_name):\n",
    "    full_name = first_name + ' ' + last_name\n",
    "    return full_name.title()\n",
    "\n",
    "while True:\n",
    "    print(\"enter 'q' at anytime to quit\")\n",
    "    \n",
    "    f_name = input(\"What is your first name? \")\n",
    "    if f_name == 'q':\n",
    "        break\n",
    "        \n",
    "    l_name = input(\"What is your last name? \")\n",
    "    if l_name == 'q':\n",
    "        break\n",
    "        \n",
    "    formatting = formatted_name(f_name, l_name)\n",
    "    print(\"Hello \" + formatting)\n",
    "        \n",
    "    "
   ]
  },
  {
   "cell_type": "code",
   "execution_count": null,
   "metadata": {},
   "outputs": [],
   "source": [
    "# def places(city, country):\n",
    "#     place = city + ' ' + country\n",
    "#     return place\n",
    "# while True:\n",
    "#     print(\"enter 'q' at anytime to quit\")\n",
    "    \n",
    "#     ci = input(\"enter a city\")\n",
    "#     if ci == 'q':\n",
    "#         break\n",
    "        \n",
    "#     co = input(\"enter a country\")\n",
    "#     if co == 'q':\n",
    "#         break\n",
    "        \n",
    "#     location = places(ci, co)\n",
    "\n",
    "def places(city, country):\n",
    "    combo = city + ', ' + country\n",
    "    return combo.title()\n",
    "\n",
    "places('toronto', 'canada')\n",
    "    "
   ]
  },
  {
   "cell_type": "code",
   "execution_count": null,
   "metadata": {},
   "outputs": [],
   "source": [
    "def album(name, year, artist, tracks = ''):\n",
    "    album_info = {'Name': name, \"Year\": year, \"Artist\": artist}\n",
    "    if tracks:\n",
    "            album_info = {'Name': name, \"Year\": year, \"Artist\": artist, \"NumberTracks\": tracks}\n",
    "    return album_info\n",
    "first_album = album(\"American Idiot\", \"2000\", \"Green Day\", 13)\n",
    "print(first_album)"
   ]
  },
  {
   "cell_type": "code",
   "execution_count": null,
   "metadata": {},
   "outputs": [],
   "source": [
    "def greet(names):\n",
    "    for name in names:\n",
    "        name = name.title()\n",
    "        print(\"Hello {}!\".format(name))\n",
    "    \n",
    "usernames = [\"chris\", \"laura\", \"christine\"]\n",
    "greet(usernames)"
   ]
  },
  {
   "cell_type": "code",
   "execution_count": null,
   "metadata": {},
   "outputs": [],
   "source": [
    "def show_magicians(magicians):\n",
    "    \"\"\"Print the name of each magician in the list.\"\"\"\n",
    "    for magician in magicians:\n",
    "        print(magician)\n",
    "\n",
    "def make_great(magicians):\n",
    "    \"\"\"Add 'the Great!' to each magician's name.\"\"\"\n",
    "    # Build a new list to hold the great musicians.\n",
    "    great_magicians = []\n",
    "\n",
    "    # Make each magician great, and add it to great_magicians.\n",
    "    while magicians:\n",
    "        magician = magicians.pop()\n",
    "        great_magician = magician + ' the Great'\n",
    "        great_magicians.append(great_magician)\n",
    "\n",
    "    # Add the great magicians back into magicians.\n",
    "    for great_magician in great_magicians:\n",
    "        magicians.append(great_magician)\n",
    "\n",
    "magicians = ['Harry Houdini', 'David Blaine', 'Teller']\n",
    "show_magicians(magicians)\n",
    "\n",
    "\n",
    "make_great(magicians)\n",
    "show_magicians(magicians)"
   ]
  },
  {
   "cell_type": "code",
   "execution_count": null,
   "metadata": {},
   "outputs": [],
   "source": [
    "def make_pizza(size, *toppings):\n",
    "    print(\"make a {} inch pizza with: \".format(size))\n",
    "    for topping in toppings:\n",
    "        print(\"-\" + topping)\n",
    "        \n",
    "make_pizza(12, 'pepperonie', 'cheese', 'peppers')"
   ]
  },
  {
   "cell_type": "code",
   "execution_count": null,
   "metadata": {},
   "outputs": [],
   "source": [
    "def build_profile(first, last, **user_info):\n",
    "    profile = {}\n",
    "    profile[\"FirstName\"] = first\n",
    "    profile[\"LastName\"] = last\n",
    "    for key, value in user_info.items():\n",
    "        profile[key] = value\n",
    "    return profile\n",
    "\n",
    "user_profile = build_profile('Laura', 'Szczurba', height = '5.6', weight = '140')\n",
    "print(user_profile)"
   ]
  },
  {
   "cell_type": "code",
   "execution_count": null,
   "metadata": {},
   "outputs": [],
   "source": [
    "def make_sandwich(*items):\n",
    "    \"\"\"Make a sandwich with the given items.\"\"\"\n",
    "    print(\"\\nI'll make you a great sandwich:\")\n",
    "    for item in items:\n",
    "        print(\"  ...adding \" + item + \" to your sandwich.\")\n",
    "    print(\"Your sandwich is ready!\")\n",
    "\n",
    "make_sandwich('roast beef', 'cheddar cheese', 'lettuce', 'honey dijon')\n",
    "make_sandwich('turkey', 'apple slices', 'honey mustard')\n",
    "make_sandwich('peanut butter', 'strawberry jam')"
   ]
  },
  {
   "cell_type": "code",
   "execution_count": null,
   "metadata": {},
   "outputs": [],
   "source": [
    "def car(manufacturer, model_name, **options):\n",
    "    car_dict = {\n",
    "        'Manufacturer': manufacturer.title(),\n",
    "        'Model': model_name.title()\n",
    "        }\n",
    "    for option, value in options.items():\n",
    "        car_dict[option] = value\n",
    "        \n",
    "    return car_dict\n",
    "\n",
    "my_accord = car('honda', 'accord', year=1991, color='white',\n",
    "        headlights='popup')\n",
    "print(my_accord)\n",
    "        "
   ]
  },
  {
   "cell_type": "code",
   "execution_count": null,
   "metadata": {},
   "outputs": [],
   "source": []
  },
  {
   "cell_type": "code",
   "execution_count": 29,
   "metadata": {},
   "outputs": [],
   "source": [
    "class Dog():\n",
    "    \n",
    "    def __init__(self, name, age):\n",
    "        self.name = name\n",
    "        self.age = age\n",
    "        \n",
    "    def sit(self):\n",
    "        print(self.name.title() + \" is now sitting.\")\n",
    "        \n",
    "    def roll_over(self):\n",
    "        print(self.name.title() + \" rolled over!\")"
   ]
  },
  {
   "cell_type": "code",
   "execution_count": 30,
   "metadata": {},
   "outputs": [
    {
     "name": "stdout",
     "output_type": "stream",
     "text": [
      "My dog's name is Willie.\n",
      "My dog is 6 years old.\n"
     ]
    }
   ],
   "source": [
    "my_dog = Dog('willie', 6)\n",
    "\n",
    "print(\"My dog's name is \" + my_dog.name.title() + \".\")\n",
    "print(\"My dog is \" + str(my_dog.age) + \" years old.\")"
   ]
  },
  {
   "cell_type": "code",
   "execution_count": 31,
   "metadata": {},
   "outputs": [
    {
     "data": {
      "text/plain": [
       "'willie'"
      ]
     },
     "execution_count": 31,
     "metadata": {},
     "output_type": "execute_result"
    }
   ],
   "source": [
    "my_dog.name\n"
   ]
  },
  {
   "cell_type": "code",
   "execution_count": 32,
   "metadata": {},
   "outputs": [
    {
     "name": "stdout",
     "output_type": "stream",
     "text": [
      "Willie is now sitting.\n"
     ]
    }
   ],
   "source": [
    "my_dog.sit()"
   ]
  },
  {
   "cell_type": "code",
   "execution_count": 33,
   "metadata": {},
   "outputs": [],
   "source": [
    "your_dog = Dog('Bodie', 1)"
   ]
  },
  {
   "cell_type": "code",
   "execution_count": 34,
   "metadata": {},
   "outputs": [
    {
     "name": "stdout",
     "output_type": "stream",
     "text": [
      "Bodie rolled over!\n"
     ]
    }
   ],
   "source": [
    "your_dog.roll_over()"
   ]
  },
  {
   "cell_type": "code",
   "execution_count": 43,
   "metadata": {},
   "outputs": [],
   "source": [
    "class Restaurant():\n",
    "    \n",
    "    def __init__(self, restaurant_name, cuisine_type):\n",
    "        self.restaurant_name = restaurant_name\n",
    "        self.cuisine_type = cuisine_type\n",
    "    \n",
    "    def describe_restaurant(self):\n",
    "        print(\"Welcome to \" + self.restaurant_name.title())\n",
    "        print(\"Here we serve \" + self.cuisine_type)\n",
    "        \n",
    "    def open_restaurant(self):\n",
    "        print(self.restaurant_name.title() + \" is now open!\")\n",
    "        "
   ]
  },
  {
   "cell_type": "code",
   "execution_count": 45,
   "metadata": {},
   "outputs": [
    {
     "name": "stdout",
     "output_type": "stream",
     "text": [
      "Welcome to Ninja Cafe\n",
      "Here we serve poke bowls\n",
      "Ninja Cafe is now open!\n"
     ]
    },
    {
     "data": {
      "text/plain": [
       "'ninja cafe'"
      ]
     },
     "execution_count": 45,
     "metadata": {},
     "output_type": "execute_result"
    }
   ],
   "source": [
    "restaurant = Restaurant(\"ninja cafe\", \"poke bowls\")\n",
    "restaurant.describe_restaurant()\n",
    "restaurant.open_restaurant()\n",
    "restaurant.restaurant_name"
   ]
  },
  {
   "cell_type": "code",
   "execution_count": 60,
   "metadata": {},
   "outputs": [
    {
     "name": "stdout",
     "output_type": "stream",
     "text": [
      "2016 Audi A4\n",
      "This car has 25 miles on it.\n"
     ]
    }
   ],
   "source": [
    "class Car():\n",
    "    \n",
    "    def __init__(self, make, model, year):\n",
    "        self.make = make\n",
    "        self.model = model\n",
    "        self.year = year\n",
    "        self.odometer_reading = 0\n",
    "        \n",
    "    def get_descriptive_name(self):\n",
    "        long_name = str(self.year) + ' ' + self.make + ' ' + self.model\n",
    "        return long_name.title()\n",
    "    \n",
    "    def read_odometer(self):\n",
    "        print(\"This car has \" + str(self.odometer_reading)+ \" miles on it.\")\n",
    "        \n",
    "    def update_odometer(self, mileage):\n",
    "        if mileage >= self.odometer_reading:\n",
    "            self.odometer_reading = mileage\n",
    "        else:\n",
    "            print(\"You can't roll back the odometer!\")\n",
    "            \n",
    "    def increment_odometer(self, miles):\n",
    "        self.odometer_reading += miles\n",
    "    \n",
    "my_new_car = Car('audi', 'a4', 2016)\n",
    "print(my_new_car.get_descriptive_name())\n",
    "\n",
    "my_new_car.update_odometer(25)\n",
    "my_new_car.read_odometer()"
   ]
  },
  {
   "cell_type": "code",
   "execution_count": 59,
   "metadata": {},
   "outputs": [
    {
     "name": "stdout",
     "output_type": "stream",
     "text": [
      "You can't roll back the odometer!\n"
     ]
    }
   ],
   "source": [
    "my_new_car.update_odometer(5)"
   ]
  },
  {
   "cell_type": "code",
   "execution_count": 61,
   "metadata": {},
   "outputs": [
    {
     "name": "stdout",
     "output_type": "stream",
     "text": [
      "This car has 23500 miles on it.\n",
      "This car has 23600 miles on it.\n"
     ]
    }
   ],
   "source": [
    "my_used_car = Car('subaru', 'outback', 2013)\n",
    "my_used_car.update_odometer(23500)\n",
    "my_used_car.read_odometer()\n",
    "\n",
    "my_used_car.increment_odometer(100)\n",
    "my_used_car.read_odometer()"
   ]
  },
  {
   "cell_type": "code",
   "execution_count": 65,
   "metadata": {},
   "outputs": [
    {
     "name": "stdout",
     "output_type": "stream",
     "text": [
      "2016 Tesla Model S\n",
      "This car has a 70 -kWh battery.\n"
     ]
    }
   ],
   "source": [
    "class ElectricCar(Car):\n",
    "    def __init__(self, make, model, year):\n",
    "        super().__init__(make, model, year)\n",
    "        self.battery_size = 70\n",
    "        \n",
    "    def describe_battery(self):\n",
    "        print(\"This car has a \" + str(self.battery_size) + \" -kWh battery.\")\n",
    "\n",
    "my_tesla = ElectricCar('tesla', 'model s', 2016)\n",
    "print(my_tesla.get_descriptive_name())\n",
    "my_tesla.describe_battery()"
   ]
  },
  {
   "cell_type": "code",
   "execution_count": 67,
   "metadata": {},
   "outputs": [
    {
     "name": "stdout",
     "output_type": "stream",
     "text": [
      "2.5\n"
     ]
    }
   ],
   "source": [
    "try:\n",
    "    print(5/2)\n",
    "except ZeroDivisionError:\n",
    "    print(\"You can't divide by zero\")"
   ]
  },
  {
   "cell_type": "code",
   "execution_count": 68,
   "metadata": {},
   "outputs": [
    {
     "data": {
      "text/plain": [
       "['Alice', 'in', 'Wonderland']"
      ]
     },
     "execution_count": 68,
     "metadata": {},
     "output_type": "execute_result"
    }
   ],
   "source": [
    "title = \"Alice in Wonderland\"\n",
    "title.split()"
   ]
  },
  {
   "cell_type": "code",
   "execution_count": 1,
   "metadata": {},
   "outputs": [
    {
     "name": "stdout",
     "output_type": "stream",
     "text": [
      "Please enter a number: t\n",
      "No, a number, not a character: \n",
      "Please enter a number: 1\n",
      "Please enter another number: t\n",
      "No, a number, not a character: \n",
      "Please enter another number: 2\n",
      "3\n"
     ]
    }
   ],
   "source": [
    "try: \n",
    "    x = int(input(\"Please enter a number: \"))\n",
    "except ValueError:\n",
    "    print(\"No, a number, not a character: \")\n",
    "    x = int(input(\"Please enter a number: \"))\n",
    "try: \n",
    "    y = int(input(\"Please enter another number: \"))\n",
    "except ValueError:\n",
    "    print(\"No, a number, not a character: \")\n",
    "    y = int(input(\"Please enter another number: \"))\n",
    "    \n",
    "    \n",
    "result = x+y\n",
    "print(result)\n",
    "\n",
    "\n",
    "    \n"
   ]
  },
  {
   "cell_type": "code",
   "execution_count": null,
   "metadata": {},
   "outputs": [],
   "source": []
  },
  {
   "cell_type": "code",
   "execution_count": null,
   "metadata": {},
   "outputs": [],
   "source": []
  }
 ],
 "metadata": {
  "kernelspec": {
   "display_name": "Python 3",
   "language": "python",
   "name": "python3"
  },
  "language_info": {
   "codemirror_mode": {
    "name": "ipython",
    "version": 3
   },
   "file_extension": ".py",
   "mimetype": "text/x-python",
   "name": "python",
   "nbconvert_exporter": "python",
   "pygments_lexer": "ipython3",
   "version": "3.6.5"
  }
 },
 "nbformat": 4,
 "nbformat_minor": 1
}
