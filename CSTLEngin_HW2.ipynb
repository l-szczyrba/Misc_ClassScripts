{
 "cells": [
  {
   "cell_type": "code",
   "execution_count": 238,
   "metadata": {},
   "outputs": [],
   "source": [
    "import math\n",
    "import pandas as pd\n",
    "import numpy as np\n",
    "import matplotlib.pyplot as plt"
   ]
  },
  {
   "cell_type": "code",
   "execution_count": 239,
   "metadata": {},
   "outputs": [],
   "source": [
    "pi = math.pi\n",
    "g = 9.81 #m/s^2\n",
    "rho = 1030 #kg/m^2"
   ]
  },
  {
   "cell_type": "markdown",
   "metadata": {},
   "source": [
    "-----------------\n"
   ]
  },
  {
   "cell_type": "markdown",
   "metadata": {},
   "source": [
    "Question 2"
   ]
  },
  {
   "cell_type": "markdown",
   "metadata": {},
   "source": [
    "Given: \\\n",
    "wave height = 3.50 m \\\n",
    "period = 10.0-s \\\n",
    "depth = 30.0 m\n",
    "\n",
    "Find:  \\\n",
    "(a) wavelength approximated with Fenton and McKee \\\n",
    "(b) wavelength assuming deepwater \\\n",
    "(c) wavelength exactly with linear dispersion"
   ]
  },
  {
   "cell_type": "markdown",
   "metadata": {},
   "source": [
    "Solution:"
   ]
  },
  {
   "cell_type": "markdown",
   "metadata": {},
   "source": [
    "(a)"
   ]
  },
  {
   "cell_type": "code",
   "execution_count": 240,
   "metadata": {},
   "outputs": [],
   "source": [
    "H = 3.50 #m\n",
    "h = 30.0 #m\n",
    "T = 10.0 #-s"
   ]
  },
  {
   "cell_type": "code",
   "execution_count": 241,
   "metadata": {},
   "outputs": [
    {
     "data": {
      "text/plain": [
       "136.59749917235396"
      ]
     },
     "execution_count": 241,
     "metadata": {},
     "output_type": "execute_result"
    }
   ],
   "source": [
    "L1 = ((g*T**2)/(2*pi))*(math.tanh((((2*pi)/T)*((h/g)**0.5))**(3/2)))**(2/3) #fenton mckee\n",
    "L1"
   ]
  },
  {
   "cell_type": "code",
   "execution_count": 242,
   "metadata": {},
   "outputs": [
    {
     "name": "stdout",
     "output_type": "stream",
     "text": [
      "The wavelength, approximated by Fenton and Mckee, is  137 m\n"
     ]
    }
   ],
   "source": [
    "print('The wavelength, approximated by Fenton and Mckee, is {0: .0f} m'.format(L1))"
   ]
  },
  {
   "cell_type": "markdown",
   "metadata": {},
   "source": [
    "----------------\n",
    "(b)"
   ]
  },
  {
   "cell_type": "code",
   "execution_count": 243,
   "metadata": {},
   "outputs": [
    {
     "data": {
      "text/plain": [
       "156.13099917314932"
      ]
     },
     "execution_count": 243,
     "metadata": {},
     "output_type": "execute_result"
    }
   ],
   "source": [
    "L2 = (g * (T**2)) / (2 * pi)\n",
    "L2"
   ]
  },
  {
   "cell_type": "code",
   "execution_count": 244,
   "metadata": {},
   "outputs": [
    {
     "name": "stdout",
     "output_type": "stream",
     "text": [
      "The wavelength, assuming deepwater limit, is  156 m\n"
     ]
    }
   ],
   "source": [
    "print('The wavelength, assuming deepwater limit, is {0: .0f} m'.format(L2))"
   ]
  },
  {
   "cell_type": "markdown",
   "metadata": {},
   "source": [
    "------------------\n",
    "(c)"
   ]
  },
  {
   "cell_type": "code",
   "execution_count": 245,
   "metadata": {},
   "outputs": [],
   "source": [
    "# Dispersion iteration\n",
    "# code source: adapted with help from Steven Hoagland\n",
    "\n",
    "sol = [0]\n",
    "solindex = 0\n",
    "\n",
    "iteration = 0\n",
    "initial_guess = 57.9 # input initial wavelength guess\n",
    "L = initial_guess\n",
    "\n",
    "_break = True\n",
    "\n",
    "while _break == True: \n",
    "    previous_guess = L\n",
    "    k = (2*pi)/L\n",
    "    L = ((g * (T**2)) / (2*pi)) * math.tanh(k * h)\n",
    "    error = abs(L-previous_guess) # calculate errorp\n",
    "    if (error <= 0.000000001) or (error == 0): # break when the error threshold is met\n",
    "        _break = False\n",
    "    iteration += 1\n",
    "\n",
    "sol[solindex] = L #converged solution added\n",
    "solindex += 1"
   ]
  },
  {
   "cell_type": "code",
   "execution_count": 246,
   "metadata": {},
   "outputs": [
    {
     "data": {
      "text/plain": [
       "137.29489294688142"
      ]
     },
     "execution_count": 246,
     "metadata": {},
     "output_type": "execute_result"
    }
   ],
   "source": [
    "L3 = sol[0]\n",
    "L3"
   ]
  },
  {
   "cell_type": "code",
   "execution_count": 247,
   "metadata": {},
   "outputs": [
    {
     "name": "stdout",
     "output_type": "stream",
     "text": [
      "The wavelength, solved by dispersion, is  137 m\n"
     ]
    }
   ],
   "source": [
    "print('The wavelength, solved by dispersion, is {0: .0f} m'.format(L3))"
   ]
  },
  {
   "cell_type": "markdown",
   "metadata": {},
   "source": [
    "---------\n",
    "Discussion: \\\n",
    "The Fenton and McKee approximation si accurate to the fully solved dispersion equation by 0.5%. This is a good approximation and is in line with the theory that the approximation is valid within an error of 2%. \n",
    "The approximation assuming deepwater limit, however, has an error of 13.7%. This is probbably because, in order to assume deepwater, the depth/wavelength must be greater than 1/2. However, when we divide depth (30.0 m) by wavelength (137 m), the result is ~ 1/5. Thus, the wave is actually intermediate and cannot be treated with calculations assuming deepwater."
   ]
  },
  {
   "cell_type": "markdown",
   "metadata": {},
   "source": [
    "-----------\n",
    "-----------\n",
    "-----------\n",
    "-----------"
   ]
  },
  {
   "cell_type": "markdown",
   "metadata": {},
   "source": [
    "Question 3"
   ]
  },
  {
   "cell_type": "code",
   "execution_count": 278,
   "metadata": {},
   "outputs": [],
   "source": [
    "# assume deepwater L = ((g*T**2)/(2*pi))"
   ]
  },
  {
   "cell_type": "code",
   "execution_count": 279,
   "metadata": {},
   "outputs": [],
   "source": [
    "H_0 = 4.00 #m\n",
    "T = 17.0 #s\n",
    "h_0 = 200 #m\n",
    "alpha_0 = 40.0\n",
    "\n",
    "z = -8.00 # m"
   ]
  },
  {
   "cell_type": "code",
   "execution_count": 280,
   "metadata": {},
   "outputs": [],
   "source": [
    "# solve"
   ]
  },
  {
   "cell_type": "code",
   "execution_count": 281,
   "metadata": {},
   "outputs": [],
   "source": [
    "L_0 = ((g*T**2)/(2*pi))"
   ]
  },
  {
   "cell_type": "code",
   "execution_count": 282,
   "metadata": {},
   "outputs": [
    {
     "data": {
      "text/plain": [
       "451.2185876104016"
      ]
     },
     "execution_count": 282,
     "metadata": {},
     "output_type": "execute_result"
    }
   ],
   "source": [
    "L_0"
   ]
  },
  {
   "cell_type": "code",
   "execution_count": 283,
   "metadata": {},
   "outputs": [],
   "source": [
    "df = pd.DataFrame(columns=['x'], data = [0,L_0/4, L_0/2, (3*L_0)/4, L_0])"
   ]
  },
  {
   "cell_type": "code",
   "execution_count": 284,
   "metadata": {},
   "outputs": [],
   "source": [
    "# at time = 0\n",
    "df['eta'] = [2.00, 0, -2.00, 0, 2.00] # m "
   ]
  },
  {
   "cell_type": "code",
   "execution_count": 285,
   "metadata": {},
   "outputs": [
    {
     "data": {
      "text/html": [
       "<div>\n",
       "<style scoped>\n",
       "    .dataframe tbody tr th:only-of-type {\n",
       "        vertical-align: middle;\n",
       "    }\n",
       "\n",
       "    .dataframe tbody tr th {\n",
       "        vertical-align: top;\n",
       "    }\n",
       "\n",
       "    .dataframe thead th {\n",
       "        text-align: right;\n",
       "    }\n",
       "</style>\n",
       "<table border=\"1\" class=\"dataframe\">\n",
       "  <thead>\n",
       "    <tr style=\"text-align: right;\">\n",
       "      <th></th>\n",
       "      <th>x</th>\n",
       "      <th>eta</th>\n",
       "    </tr>\n",
       "  </thead>\n",
       "  <tbody>\n",
       "    <tr>\n",
       "      <th>0</th>\n",
       "      <td>0.000000</td>\n",
       "      <td>2.0</td>\n",
       "    </tr>\n",
       "    <tr>\n",
       "      <th>1</th>\n",
       "      <td>112.804647</td>\n",
       "      <td>0.0</td>\n",
       "    </tr>\n",
       "    <tr>\n",
       "      <th>2</th>\n",
       "      <td>225.609294</td>\n",
       "      <td>-2.0</td>\n",
       "    </tr>\n",
       "    <tr>\n",
       "      <th>3</th>\n",
       "      <td>338.413941</td>\n",
       "      <td>0.0</td>\n",
       "    </tr>\n",
       "    <tr>\n",
       "      <th>4</th>\n",
       "      <td>451.218588</td>\n",
       "      <td>2.0</td>\n",
       "    </tr>\n",
       "  </tbody>\n",
       "</table>\n",
       "</div>"
      ],
      "text/plain": [
       "            x  eta\n",
       "0    0.000000  2.0\n",
       "1  112.804647  0.0\n",
       "2  225.609294 -2.0\n",
       "3  338.413941  0.0\n",
       "4  451.218588  2.0"
      ]
     },
     "execution_count": 285,
     "metadata": {},
     "output_type": "execute_result"
    }
   ],
   "source": [
    "df"
   ]
  },
  {
   "cell_type": "code",
   "execution_count": 286,
   "metadata": {},
   "outputs": [],
   "source": [
    "# solve at z = -8.00"
   ]
  },
  {
   "cell_type": "code",
   "execution_count": 287,
   "metadata": {},
   "outputs": [],
   "source": [
    "a_freq = (2 * math.pi)/T #s^-1\n",
    "k = (2*math.pi)/L_0 # m^-1"
   ]
  },
  {
   "cell_type": "code",
   "execution_count": 288,
   "metadata": {},
   "outputs": [],
   "source": [
    "df['u'] = a_freq*((math.cosh(k*(h_0+z)))/(math.sinh(k*h_0)))* df['eta'] # m/s"
   ]
  },
  {
   "cell_type": "code",
   "execution_count": 289,
   "metadata": {},
   "outputs": [
    {
     "data": {
      "text/html": [
       "<div>\n",
       "<style scoped>\n",
       "    .dataframe tbody tr th:only-of-type {\n",
       "        vertical-align: middle;\n",
       "    }\n",
       "\n",
       "    .dataframe tbody tr th {\n",
       "        vertical-align: top;\n",
       "    }\n",
       "\n",
       "    .dataframe thead th {\n",
       "        text-align: right;\n",
       "    }\n",
       "</style>\n",
       "<table border=\"1\" class=\"dataframe\">\n",
       "  <thead>\n",
       "    <tr style=\"text-align: right;\">\n",
       "      <th></th>\n",
       "      <th>x</th>\n",
       "      <th>eta</th>\n",
       "      <th>u</th>\n",
       "    </tr>\n",
       "  </thead>\n",
       "  <tbody>\n",
       "    <tr>\n",
       "      <th>0</th>\n",
       "      <td>0.000000</td>\n",
       "      <td>2.0</td>\n",
       "      <td>0.666963</td>\n",
       "    </tr>\n",
       "    <tr>\n",
       "      <th>1</th>\n",
       "      <td>112.804647</td>\n",
       "      <td>0.0</td>\n",
       "      <td>0.000000</td>\n",
       "    </tr>\n",
       "    <tr>\n",
       "      <th>2</th>\n",
       "      <td>225.609294</td>\n",
       "      <td>-2.0</td>\n",
       "      <td>-0.666963</td>\n",
       "    </tr>\n",
       "    <tr>\n",
       "      <th>3</th>\n",
       "      <td>338.413941</td>\n",
       "      <td>0.0</td>\n",
       "      <td>0.000000</td>\n",
       "    </tr>\n",
       "    <tr>\n",
       "      <th>4</th>\n",
       "      <td>451.218588</td>\n",
       "      <td>2.0</td>\n",
       "      <td>0.666963</td>\n",
       "    </tr>\n",
       "  </tbody>\n",
       "</table>\n",
       "</div>"
      ],
      "text/plain": [
       "            x  eta         u\n",
       "0    0.000000  2.0  0.666963\n",
       "1  112.804647  0.0  0.000000\n",
       "2  225.609294 -2.0 -0.666963\n",
       "3  338.413941  0.0  0.000000\n",
       "4  451.218588  2.0  0.666963"
      ]
     },
     "execution_count": 289,
     "metadata": {},
     "output_type": "execute_result"
    }
   ],
   "source": [
    "df"
   ]
  },
  {
   "cell_type": "code",
   "execution_count": 290,
   "metadata": {},
   "outputs": [],
   "source": [
    "df['p'] = (rho*g*df['eta'])*((np.cosh(k*(h_0+z)))/np.cosh(k*h_0)) - (rho*g*z) # Pa"
   ]
  },
  {
   "cell_type": "code",
   "execution_count": 291,
   "metadata": {},
   "outputs": [
    {
     "data": {
      "text/html": [
       "<div>\n",
       "<style scoped>\n",
       "    .dataframe tbody tr th:only-of-type {\n",
       "        vertical-align: middle;\n",
       "    }\n",
       "\n",
       "    .dataframe tbody tr th {\n",
       "        vertical-align: top;\n",
       "    }\n",
       "\n",
       "    .dataframe thead th {\n",
       "        text-align: right;\n",
       "    }\n",
       "</style>\n",
       "<table border=\"1\" class=\"dataframe\">\n",
       "  <thead>\n",
       "    <tr style=\"text-align: right;\">\n",
       "      <th></th>\n",
       "      <th>x</th>\n",
       "      <th>eta</th>\n",
       "      <th>u</th>\n",
       "      <th>p</th>\n",
       "    </tr>\n",
       "  </thead>\n",
       "  <tbody>\n",
       "    <tr>\n",
       "      <th>0</th>\n",
       "      <td>0.000000</td>\n",
       "      <td>2.0</td>\n",
       "      <td>0.666963</td>\n",
       "      <td>98929.764468</td>\n",
       "    </tr>\n",
       "    <tr>\n",
       "      <th>1</th>\n",
       "      <td>112.804647</td>\n",
       "      <td>0.0</td>\n",
       "      <td>0.000000</td>\n",
       "      <td>80834.400000</td>\n",
       "    </tr>\n",
       "    <tr>\n",
       "      <th>2</th>\n",
       "      <td>225.609294</td>\n",
       "      <td>-2.0</td>\n",
       "      <td>-0.666963</td>\n",
       "      <td>62739.035532</td>\n",
       "    </tr>\n",
       "    <tr>\n",
       "      <th>3</th>\n",
       "      <td>338.413941</td>\n",
       "      <td>0.0</td>\n",
       "      <td>0.000000</td>\n",
       "      <td>80834.400000</td>\n",
       "    </tr>\n",
       "    <tr>\n",
       "      <th>4</th>\n",
       "      <td>451.218588</td>\n",
       "      <td>2.0</td>\n",
       "      <td>0.666963</td>\n",
       "      <td>98929.764468</td>\n",
       "    </tr>\n",
       "  </tbody>\n",
       "</table>\n",
       "</div>"
      ],
      "text/plain": [
       "            x  eta         u             p\n",
       "0    0.000000  2.0  0.666963  98929.764468\n",
       "1  112.804647  0.0  0.000000  80834.400000\n",
       "2  225.609294 -2.0 -0.666963  62739.035532\n",
       "3  338.413941  0.0  0.000000  80834.400000\n",
       "4  451.218588  2.0  0.666963  98929.764468"
      ]
     },
     "execution_count": 291,
     "metadata": {},
     "output_type": "execute_result"
    }
   ],
   "source": [
    "df"
   ]
  },
  {
   "cell_type": "code",
   "execution_count": 292,
   "metadata": {},
   "outputs": [],
   "source": [
    "# do for all z's now"
   ]
  },
  {
   "cell_type": "code",
   "execution_count": 293,
   "metadata": {},
   "outputs": [],
   "source": [
    "numbers = np.arange(0, -201, -1).tolist()"
   ]
  },
  {
   "cell_type": "code",
   "execution_count": 294,
   "metadata": {},
   "outputs": [],
   "source": [
    "df_crest = pd.DataFrame(columns=['z'], data=numbers)"
   ]
  },
  {
   "cell_type": "code",
   "execution_count": 295,
   "metadata": {},
   "outputs": [],
   "source": [
    "df_crest['x'] = 0\n",
    "df_crest['eta'] = 2.00"
   ]
  },
  {
   "cell_type": "code",
   "execution_count": 296,
   "metadata": {},
   "outputs": [],
   "source": [
    "df_crest['u'] = a_freq*((np.cosh(k*(h_0+df_crest['z'])))/(np.sinh(k*h_0)))* df_crest['eta'] # m/s\n",
    "df_crest['p'] = (rho*g*df_crest['eta'])*((np.cosh(k*(h_0+df_crest['z'])))/np.cosh(k*h_0)) - (rho*g*df_crest['z']) # Pa"
   ]
  },
  {
   "cell_type": "code",
   "execution_count": 297,
   "metadata": {},
   "outputs": [
    {
     "data": {
      "text/html": [
       "<div>\n",
       "<style scoped>\n",
       "    .dataframe tbody tr th:only-of-type {\n",
       "        vertical-align: middle;\n",
       "    }\n",
       "\n",
       "    .dataframe tbody tr th {\n",
       "        vertical-align: top;\n",
       "    }\n",
       "\n",
       "    .dataframe thead th {\n",
       "        text-align: right;\n",
       "    }\n",
       "</style>\n",
       "<table border=\"1\" class=\"dataframe\">\n",
       "  <thead>\n",
       "    <tr style=\"text-align: right;\">\n",
       "      <th></th>\n",
       "      <th>z</th>\n",
       "      <th>x</th>\n",
       "      <th>eta</th>\n",
       "      <th>u</th>\n",
       "      <th>p</th>\n",
       "    </tr>\n",
       "  </thead>\n",
       "  <tbody>\n",
       "    <tr>\n",
       "      <th>0</th>\n",
       "      <td>0</td>\n",
       "      <td>0</td>\n",
       "      <td>2.0</td>\n",
       "      <td>0.744853</td>\n",
       "      <td>20208.600000</td>\n",
       "    </tr>\n",
       "    <tr>\n",
       "      <th>1</th>\n",
       "      <td>-1</td>\n",
       "      <td>0</td>\n",
       "      <td>2.0</td>\n",
       "      <td>0.734632</td>\n",
       "      <td>30035.583498</td>\n",
       "    </tr>\n",
       "    <tr>\n",
       "      <th>2</th>\n",
       "      <td>-2</td>\n",
       "      <td>0</td>\n",
       "      <td>2.0</td>\n",
       "      <td>0.724553</td>\n",
       "      <td>39866.431806</td>\n",
       "    </tr>\n",
       "    <tr>\n",
       "      <th>3</th>\n",
       "      <td>-3</td>\n",
       "      <td>0</td>\n",
       "      <td>2.0</td>\n",
       "      <td>0.714615</td>\n",
       "      <td>49701.091898</td>\n",
       "    </tr>\n",
       "    <tr>\n",
       "      <th>4</th>\n",
       "      <td>-4</td>\n",
       "      <td>0</td>\n",
       "      <td>2.0</td>\n",
       "      <td>0.704815</td>\n",
       "      <td>59539.511491</td>\n",
       "    </tr>\n",
       "  </tbody>\n",
       "</table>\n",
       "</div>"
      ],
      "text/plain": [
       "   z  x  eta         u             p\n",
       "0  0  0  2.0  0.744853  20208.600000\n",
       "1 -1  0  2.0  0.734632  30035.583498\n",
       "2 -2  0  2.0  0.724553  39866.431806\n",
       "3 -3  0  2.0  0.714615  49701.091898\n",
       "4 -4  0  2.0  0.704815  59539.511491"
      ]
     },
     "execution_count": 297,
     "metadata": {},
     "output_type": "execute_result"
    }
   ],
   "source": [
    "df_crest.head()"
   ]
  },
  {
   "cell_type": "code",
   "execution_count": 298,
   "metadata": {},
   "outputs": [
    {
     "data": {
      "image/png": "[encoded data removed]",
      "text/plain": [
       "<Figure size 432x288 with 2 Axes>"
      ]
     },
     "metadata": {},
     "output_type": "display_data"
    }
   ],
   "source": [
    "y = df_crest['z']\n",
    "data1 = df_crest['u']\n",
    "data2 = df_crest['p']\n",
    "\n",
    "fig, ax1 = plt.subplots()\n",
    "\n",
    "color = 'tab:red'\n",
    "ax1.set_xlabel('Elevation below mean sea level (m)')\n",
    "ax1.set_ylabel('Horizontal velocity (m/s)', color=color)\n",
    "ax1.plot(y, data1, color=color)\n",
    "ax1.tick_params(axis='y', labelcolor=color)\n",
    "\n",
    "ax2 = ax1.twinx()  # instantiate a second axes that shares the same x-axis\n",
    "\n",
    "color = 'tab:blue'\n",
    "ax2.set_ylabel('Pressure (Pa)', color=color)  # we already handled the x-label with ax1\n",
    "ax2.plot(y, data2, color=color)\n",
    "ax2.tick_params(axis='y', labelcolor=color)\n",
    "\n",
    "plt.gca().invert_xaxis()\n",
    "\n",
    "plt.title('Horizontal Velocity and Pressure Vs. Elevation at Crest')\n",
    "\n",
    "fig.tight_layout()  # otherwise the right y-label is slightly clipped\n",
    "plt.show()"
   ]
  },
  {
   "cell_type": "code",
   "execution_count": 299,
   "metadata": {},
   "outputs": [],
   "source": [
    "df_dc = pd.DataFrame(columns=['z'], data=numbers)\n",
    "df_dc['x'] = 112.804647\n",
    "df_dc['eta'] = 0\n",
    "\n",
    "df_dc['u'] = a_freq*((np.cosh(k*(h_0+df_dc['z'])))/(np.sinh(k*h_0)))* df_dc['eta'] # m/s\n",
    "df_dc['p'] = (rho*g*df_dc['eta'])*((np.cosh(k*(h_0+df_dc['z'])))/np.cosh(k*h_0)) - (rho*g*df_dc['z']) # Pa"
   ]
  },
  {
   "cell_type": "code",
   "execution_count": 300,
   "metadata": {},
   "outputs": [
    {
     "data": {
      "text/html": [
       "<div>\n",
       "<style scoped>\n",
       "    .dataframe tbody tr th:only-of-type {\n",
       "        vertical-align: middle;\n",
       "    }\n",
       "\n",
       "    .dataframe tbody tr th {\n",
       "        vertical-align: top;\n",
       "    }\n",
       "\n",
       "    .dataframe thead th {\n",
       "        text-align: right;\n",
       "    }\n",
       "</style>\n",
       "<table border=\"1\" class=\"dataframe\">\n",
       "  <thead>\n",
       "    <tr style=\"text-align: right;\">\n",
       "      <th></th>\n",
       "      <th>z</th>\n",
       "      <th>x</th>\n",
       "      <th>eta</th>\n",
       "      <th>u</th>\n",
       "      <th>p</th>\n",
       "    </tr>\n",
       "  </thead>\n",
       "  <tbody>\n",
       "    <tr>\n",
       "      <th>0</th>\n",
       "      <td>0</td>\n",
       "      <td>112.804647</td>\n",
       "      <td>0</td>\n",
       "      <td>0.0</td>\n",
       "      <td>0.0</td>\n",
       "    </tr>\n",
       "    <tr>\n",
       "      <th>1</th>\n",
       "      <td>-1</td>\n",
       "      <td>112.804647</td>\n",
       "      <td>0</td>\n",
       "      <td>0.0</td>\n",
       "      <td>10104.3</td>\n",
       "    </tr>\n",
       "    <tr>\n",
       "      <th>2</th>\n",
       "      <td>-2</td>\n",
       "      <td>112.804647</td>\n",
       "      <td>0</td>\n",
       "      <td>0.0</td>\n",
       "      <td>20208.6</td>\n",
       "    </tr>\n",
       "    <tr>\n",
       "      <th>3</th>\n",
       "      <td>-3</td>\n",
       "      <td>112.804647</td>\n",
       "      <td>0</td>\n",
       "      <td>0.0</td>\n",
       "      <td>30312.9</td>\n",
       "    </tr>\n",
       "    <tr>\n",
       "      <th>4</th>\n",
       "      <td>-4</td>\n",
       "      <td>112.804647</td>\n",
       "      <td>0</td>\n",
       "      <td>0.0</td>\n",
       "      <td>40417.2</td>\n",
       "    </tr>\n",
       "  </tbody>\n",
       "</table>\n",
       "</div>"
      ],
      "text/plain": [
       "   z           x  eta    u        p\n",
       "0  0  112.804647    0  0.0      0.0\n",
       "1 -1  112.804647    0  0.0  10104.3\n",
       "2 -2  112.804647    0  0.0  20208.6\n",
       "3 -3  112.804647    0  0.0  30312.9\n",
       "4 -4  112.804647    0  0.0  40417.2"
      ]
     },
     "execution_count": 300,
     "metadata": {},
     "output_type": "execute_result"
    }
   ],
   "source": [
    "df_dc.head()"
   ]
  },
  {
   "cell_type": "code",
   "execution_count": 301,
   "metadata": {},
   "outputs": [
    {
     "data": {
      "image/png": "[encoded data removed]",
      "text/plain": [
       "<Figure size 432x288 with 2 Axes>"
      ]
     },
     "metadata": {},
     "output_type": "display_data"
    }
   ],
   "source": [
    "y = df_dc['z']\n",
    "data1 = df_dc['u']\n",
    "data2 = df_dc['p']\n",
    "\n",
    "fig, ax1 = plt.subplots()\n",
    "\n",
    "color = 'tab:red'\n",
    "ax1.set_xlabel('Elevation below mean sea level (m)')\n",
    "ax1.set_ylabel('Horizontal velocity (m/s)', color=color)\n",
    "ax1.plot(y, data1, color=color)\n",
    "ax1.tick_params(axis='y', labelcolor=color)\n",
    "\n",
    "ax2 = ax1.twinx()  # instantiate a second axes that shares the same x-axis\n",
    "\n",
    "color = 'tab:blue'\n",
    "ax2.set_ylabel('Pressure (Pa)', color=color)  # we already handled the x-label with ax1\n",
    "ax2.plot(y, data2, color=color)\n",
    "ax2.tick_params(axis='y', labelcolor=color)\n",
    "\n",
    "plt.gca().invert_xaxis()\n",
    "\n",
    "plt.title('Horizontal Velocity and Pressure Vs. Elevation at Zero Downcrossing')\n",
    "\n",
    "fig.tight_layout()  # otherwise the right y-label is slightly clipped\n",
    "plt.show()"
   ]
  },
  {
   "cell_type": "code",
   "execution_count": 302,
   "metadata": {},
   "outputs": [],
   "source": [
    "df_trough = pd.DataFrame(columns=['z'], data=numbers)\n",
    "df_trough['x'] = 225.609294\n",
    "df_trough['eta'] = -2.00\n",
    "\n",
    "df_trough['u'] = a_freq*((np.cosh(k*(h_0+df_trough['z'])))/(np.sinh(k*h_0)))* df_trough['eta'] # m/s\n",
    "df_trough['p'] = (rho*g*df_trough['eta'])*((np.cosh(k*(h_0+df_trough['z'])))/np.cosh(k*h_0)) - (rho*g*df_trough['z']) # Pa"
   ]
  },
  {
   "cell_type": "code",
   "execution_count": 303,
   "metadata": {},
   "outputs": [
    {
     "data": {
      "text/html": [
       "<div>\n",
       "<style scoped>\n",
       "    .dataframe tbody tr th:only-of-type {\n",
       "        vertical-align: middle;\n",
       "    }\n",
       "\n",
       "    .dataframe tbody tr th {\n",
       "        vertical-align: top;\n",
       "    }\n",
       "\n",
       "    .dataframe thead th {\n",
       "        text-align: right;\n",
       "    }\n",
       "</style>\n",
       "<table border=\"1\" class=\"dataframe\">\n",
       "  <thead>\n",
       "    <tr style=\"text-align: right;\">\n",
       "      <th></th>\n",
       "      <th>z</th>\n",
       "      <th>x</th>\n",
       "      <th>eta</th>\n",
       "      <th>u</th>\n",
       "      <th>p</th>\n",
       "    </tr>\n",
       "  </thead>\n",
       "  <tbody>\n",
       "    <tr>\n",
       "      <th>0</th>\n",
       "      <td>0</td>\n",
       "      <td>225.609294</td>\n",
       "      <td>-2.0</td>\n",
       "      <td>-0.744853</td>\n",
       "      <td>-20208.600000</td>\n",
       "    </tr>\n",
       "    <tr>\n",
       "      <th>1</th>\n",
       "      <td>-1</td>\n",
       "      <td>225.609294</td>\n",
       "      <td>-2.0</td>\n",
       "      <td>-0.734632</td>\n",
       "      <td>-9826.983498</td>\n",
       "    </tr>\n",
       "    <tr>\n",
       "      <th>2</th>\n",
       "      <td>-2</td>\n",
       "      <td>225.609294</td>\n",
       "      <td>-2.0</td>\n",
       "      <td>-0.724553</td>\n",
       "      <td>550.768194</td>\n",
       "    </tr>\n",
       "    <tr>\n",
       "      <th>3</th>\n",
       "      <td>-3</td>\n",
       "      <td>225.609294</td>\n",
       "      <td>-2.0</td>\n",
       "      <td>-0.714615</td>\n",
       "      <td>10924.708102</td>\n",
       "    </tr>\n",
       "    <tr>\n",
       "      <th>4</th>\n",
       "      <td>-4</td>\n",
       "      <td>225.609294</td>\n",
       "      <td>-2.0</td>\n",
       "      <td>-0.704815</td>\n",
       "      <td>21294.888509</td>\n",
       "    </tr>\n",
       "  </tbody>\n",
       "</table>\n",
       "</div>"
      ],
      "text/plain": [
       "   z           x  eta         u             p\n",
       "0  0  225.609294 -2.0 -0.744853 -20208.600000\n",
       "1 -1  225.609294 -2.0 -0.734632  -9826.983498\n",
       "2 -2  225.609294 -2.0 -0.724553    550.768194\n",
       "3 -3  225.609294 -2.0 -0.714615  10924.708102\n",
       "4 -4  225.609294 -2.0 -0.704815  21294.888509"
      ]
     },
     "execution_count": 303,
     "metadata": {},
     "output_type": "execute_result"
    }
   ],
   "source": [
    "df_trough.head()"
   ]
  },
  {
   "cell_type": "code",
   "execution_count": 304,
   "metadata": {},
   "outputs": [
    {
     "data": {
      "image/png": "[encoded data removed]",
      "text/plain": [
       "<Figure size 432x288 with 2 Axes>"
      ]
     },
     "metadata": {},
     "output_type": "display_data"
    }
   ],
   "source": [
    "y = df_trough['z']\n",
    "data1 = df_trough['u']\n",
    "data2 = df_trough['p']\n",
    "\n",
    "fig, ax1 = plt.subplots()\n",
    "\n",
    "color = 'tab:red'\n",
    "ax1.set_xlabel('Elevation below mean sea level (m)')\n",
    "ax1.set_ylabel('Horizontal velocity (m/s)', color=color)\n",
    "ax1.plot(y, data1, color=color)\n",
    "ax1.tick_params(axis='y', labelcolor=color)\n",
    "\n",
    "ax2 = ax1.twinx()  # instantiate a second axes that shares the same x-axis\n",
    "\n",
    "color = 'tab:blue'\n",
    "ax2.set_ylabel('Pressure (Pa)', color=color)  # we already handled the x-label with ax1\n",
    "ax2.plot(y, data2, color=color)\n",
    "ax2.tick_params(axis='y', labelcolor=color)\n",
    "\n",
    "plt.gca().invert_xaxis()\n",
    "plt.title('Horizontal Velocity and Pressure Vs. Elevation at Trough')\n",
    "\n",
    "fig.tight_layout()  # otherwise the right y-label is slightly clipped\n",
    "plt.show()"
   ]
  },
  {
   "cell_type": "code",
   "execution_count": 305,
   "metadata": {},
   "outputs": [],
   "source": [
    "df_uc = pd.DataFrame(columns=['z'], data=numbers)\n",
    "df_uc['x'] = 338.413941\n",
    "df_uc['eta'] = 0\n",
    "\n",
    "df_uc['u'] = a_freq*((np.cosh(k*(h_0+df_uc['z'])))/(np.sinh(k*h_0)))* df_uc['eta'] # m/s\n",
    "df_uc['p'] = (rho*g*df_uc['eta'])*((np.cosh(k*(h_0+df_uc['z'])))/np.cosh(k*h_0)) - (rho*g*df_uc['z']) # Pa"
   ]
  },
  {
   "cell_type": "code",
   "execution_count": 306,
   "metadata": {},
   "outputs": [
    {
     "data": {
      "text/html": [
       "<div>\n",
       "<style scoped>\n",
       "    .dataframe tbody tr th:only-of-type {\n",
       "        vertical-align: middle;\n",
       "    }\n",
       "\n",
       "    .dataframe tbody tr th {\n",
       "        vertical-align: top;\n",
       "    }\n",
       "\n",
       "    .dataframe thead th {\n",
       "        text-align: right;\n",
       "    }\n",
       "</style>\n",
       "<table border=\"1\" class=\"dataframe\">\n",
       "  <thead>\n",
       "    <tr style=\"text-align: right;\">\n",
       "      <th></th>\n",
       "      <th>z</th>\n",
       "      <th>x</th>\n",
       "      <th>eta</th>\n",
       "      <th>u</th>\n",
       "      <th>p</th>\n",
       "    </tr>\n",
       "  </thead>\n",
       "  <tbody>\n",
       "    <tr>\n",
       "      <th>0</th>\n",
       "      <td>0</td>\n",
       "      <td>338.413941</td>\n",
       "      <td>0</td>\n",
       "      <td>0.0</td>\n",
       "      <td>0.0</td>\n",
       "    </tr>\n",
       "    <tr>\n",
       "      <th>1</th>\n",
       "      <td>-1</td>\n",
       "      <td>338.413941</td>\n",
       "      <td>0</td>\n",
       "      <td>0.0</td>\n",
       "      <td>10104.3</td>\n",
       "    </tr>\n",
       "    <tr>\n",
       "      <th>2</th>\n",
       "      <td>-2</td>\n",
       "      <td>338.413941</td>\n",
       "      <td>0</td>\n",
       "      <td>0.0</td>\n",
       "      <td>20208.6</td>\n",
       "    </tr>\n",
       "    <tr>\n",
       "      <th>3</th>\n",
       "      <td>-3</td>\n",
       "      <td>338.413941</td>\n",
       "      <td>0</td>\n",
       "      <td>0.0</td>\n",
       "      <td>30312.9</td>\n",
       "    </tr>\n",
       "    <tr>\n",
       "      <th>4</th>\n",
       "      <td>-4</td>\n",
       "      <td>338.413941</td>\n",
       "      <td>0</td>\n",
       "      <td>0.0</td>\n",
       "      <td>40417.2</td>\n",
       "    </tr>\n",
       "  </tbody>\n",
       "</table>\n",
       "</div>"
      ],
      "text/plain": [
       "   z           x  eta    u        p\n",
       "0  0  338.413941    0  0.0      0.0\n",
       "1 -1  338.413941    0  0.0  10104.3\n",
       "2 -2  338.413941    0  0.0  20208.6\n",
       "3 -3  338.413941    0  0.0  30312.9\n",
       "4 -4  338.413941    0  0.0  40417.2"
      ]
     },
     "execution_count": 306,
     "metadata": {},
     "output_type": "execute_result"
    }
   ],
   "source": [
    "df_uc.head()"
   ]
  },
  {
   "cell_type": "code",
   "execution_count": 307,
   "metadata": {},
   "outputs": [
    {
     "data": {
      "image/png": "[encoded data removed]",
      "text/plain": [
       "<Figure size 432x288 with 2 Axes>"
      ]
     },
     "metadata": {},
     "output_type": "display_data"
    }
   ],
   "source": [
    "y = df_uc['z']\n",
    "data1 = df_uc['u']\n",
    "data2 = df_uc['p']\n",
    "\n",
    "fig, ax1 = plt.subplots()\n",
    "\n",
    "color = 'tab:red'\n",
    "ax1.set_xlabel('Elevation below mean sea level (m)')\n",
    "ax1.set_ylabel('Horizontal velocity (m/s)', color=color)\n",
    "ax1.plot(y, data1, color=color)\n",
    "ax1.tick_params(axis='y', labelcolor=color)\n",
    "\n",
    "ax2 = ax1.twinx()  # instantiate a second axes that shares the same x-axis\n",
    "\n",
    "color = 'tab:blue'\n",
    "ax2.set_ylabel('Pressure (Pa)', color=color)  # we already handled the x-label with ax1\n",
    "ax2.plot(y, data2, color=color)\n",
    "ax2.tick_params(axis='y', labelcolor=color)\n",
    "\n",
    "plt.gca().invert_xaxis()\n",
    "plt.title('Horizontal Velocity and Pressure Vs. Elevation at Zero Upcrossing')\n",
    "\n",
    "fig.tight_layout()  # otherwise the right y-label is slightly clipped\n",
    "plt.show()"
   ]
  },
  {
   "cell_type": "markdown",
   "metadata": {},
   "source": [
    "### Discuss\n",
    "The horizontal velocity was positive at the crest, 0 at the zero upcrossing and zero downcrossing, and then negative at the trough. If you watch a wave tank, this horizontal orbital motion makes sense. It was in phase with the free surface elevation, u was maximum when eta was maximum. The pressure was slightly higher throughout the water column under the wave crest compared with the trough or zero down/upcrossings. \n",
    "\n",
    "Because of the deepwater assumption, the horizontal velocity is not supposed to interact with bottom friction forces. However, you can see in the graph that at the approximate value of 100 m below the mean water line, the curve has an elbow and the horizontal velocity sharply slows down. This appears as though the horizontal bottom velocity is \"feeling\" the bottom and therefore the deepwater assumption is not valid.\n",
    "\n",
    "In order for the deepwater assumption to be valid, k*h>pi and h/L > 1/2. In this problem, k*h is 2.8 and h/L is 0.44, so the limits are not met and the deepwater assumption may not be valid. However, when solving for the exact solution of wavelength (below), using the dispersion equations, I found the wavelength to be 447.9, whiloe assuming deepwater I found an answer of 451.2. This is an error of less than 1% and tells me that the deepwater assumption coudl be adequate, depending on the application and accuracy needs. "
   ]
  },
  {
   "cell_type": "code",
   "execution_count": 317,
   "metadata": {},
   "outputs": [],
   "source": [
    "sol = [0]\n",
    "solindex = 0\n",
    "\n",
    "iteration = 0\n",
    "initial_guess = 451.2185876104016 # input initial wavelength guess\n",
    "L = initial_guess\n",
    "\n",
    "_break = True\n",
    "\n",
    "while _break == True: \n",
    "    previous_guess = L\n",
    "    k = (2*pi)/L\n",
    "    L = ((g * (T**2)) / (2*pi)) * math.tanh(k * h_0)\n",
    "    error = abs(L-previous_guess) # calculate error\n",
    "    if (error <= 0.000000001) or (error == 0): # break when the error threshold is met\n",
    "        _break = False\n",
    "    iteration += 1\n",
    "\n",
    "sol[solindex] = L #converged solution added\n",
    "solindex += 1"
   ]
  },
  {
   "cell_type": "code",
   "execution_count": 318,
   "metadata": {},
   "outputs": [
    {
     "data": {
      "text/plain": [
       "447.92960167657566"
      ]
     },
     "execution_count": 318,
     "metadata": {},
     "output_type": "execute_result"
    }
   ],
   "source": [
    "sol[0]"
   ]
  },
  {
   "cell_type": "markdown",
   "metadata": {},
   "source": [
    "-----------\n",
    "-----------\n",
    "-----------\n",
    "-----------"
   ]
  },
  {
   "cell_type": "markdown",
   "metadata": {},
   "source": [
    "Question 4"
   ]
  },
  {
   "cell_type": "code",
   "execution_count": 396,
   "metadata": {},
   "outputs": [],
   "source": [
    "H_0 = 4.00 # m\n",
    "h_0 = 200 # m\n",
    "L_0 = 451.2185876104016 # m (solution from above)\n",
    "\n",
    "h_1 = 8.00 # m\n",
    "\n",
    "alpha_0_deg = 40.0 # degrees\n",
    "alpha_0_rad = (alpha_0_deg * math.pi) / 180\n",
    "\n",
    "T = 17.0 #s\n",
    "a_freq = (2 * math.pi)/T #s^-1"
   ]
  },
  {
   "cell_type": "code",
   "execution_count": 397,
   "metadata": {},
   "outputs": [],
   "source": [
    "# calc L_1 assume shallow\n",
    "L_1 = T * math.sqrt(g * h_1)"
   ]
  },
  {
   "cell_type": "code",
   "execution_count": 398,
   "metadata": {},
   "outputs": [
    {
     "data": {
      "text/plain": [
       "150.6011952143807"
      ]
     },
     "execution_count": 398,
     "metadata": {},
     "output_type": "execute_result"
    }
   ],
   "source": [
    "L_1"
   ]
  },
  {
   "cell_type": "code",
   "execution_count": 337,
   "metadata": {},
   "outputs": [],
   "source": [
    "# # calc L_1 with iteration\n",
    "# L_1_guess = ((g*T**2)/(2*pi))*(math.tanh((((2*pi)/T)*((h_1/g)**0.5))**(3/2)))**(2/3) # (m) first guess with fenton and mckee"
   ]
  },
  {
   "cell_type": "code",
   "execution_count": 338,
   "metadata": {},
   "outputs": [
    {
     "data": {
      "text/plain": [
       "149.3725748179091"
      ]
     },
     "execution_count": 338,
     "metadata": {},
     "output_type": "execute_result"
    }
   ],
   "source": [
    "# L_1_guess"
   ]
  },
  {
   "cell_type": "code",
   "execution_count": 339,
   "metadata": {},
   "outputs": [],
   "source": [
    "# sol = [0]\n",
    "# solindex = 0\n",
    "\n",
    "# iteration = 0\n",
    "# initial_guess = L_1_guess # input initial wavelength guess\n",
    "# L = initial_guess\n",
    "\n",
    "# _break = True\n",
    "\n",
    "# while _break == True: \n",
    "#     previous_guess = L\n",
    "#     k = (2*pi)/L\n",
    "#     L = ((g * (T**2)) / (2*pi)) * math.tanh(k * h_1)  # INPUT CORRECT h\n",
    "#     error = abs(L-previous_guess) # calculate error\n",
    "#     if (error <= 0.000000001) or (error == 0): # break when the error threshold is met\n",
    "#         _break = False\n",
    "#     iteration += 1\n",
    "\n",
    "# sol[solindex] = L #converged solution added\n",
    "# solindex += 1 "
   ]
  },
  {
   "cell_type": "code",
   "execution_count": 340,
   "metadata": {},
   "outputs": [
    {
     "data": {
      "text/plain": [
       "147.80032847773637"
      ]
     },
     "execution_count": 340,
     "metadata": {},
     "output_type": "execute_result"
    }
   ],
   "source": [
    "# L_1 = sol[0]\n",
    "# L_1"
   ]
  },
  {
   "cell_type": "code",
   "execution_count": 381,
   "metadata": {},
   "outputs": [],
   "source": [
    "# solve\n",
    "k_1 = (2*math.pi)/L_1 # m^-1"
   ]
  },
  {
   "cell_type": "code",
   "execution_count": 382,
   "metadata": {},
   "outputs": [],
   "source": [
    "alpha_1_rad = (L_1/L_0)*math.sin(alpha_0_rad)"
   ]
  },
  {
   "cell_type": "markdown",
   "metadata": {},
   "source": [
    "Kr = ((math.cos(alpha_0_rad))/math.cos(alpha_1_rad))**(0.5)"
   ]
  },
  {
   "cell_type": "code",
   "execution_count": 383,
   "metadata": {},
   "outputs": [],
   "source": [
    "n_1 = 0.5*(1 + (2*k_1*h_1)/(math.sinh(2*k_1*h_1)))\n",
    "n_0 = 0.5"
   ]
  },
  {
   "cell_type": "code",
   "execution_count": 384,
   "metadata": {},
   "outputs": [],
   "source": [
    "Ks = math.sqrt((n_0 * L_0)/(n_1 * L_1))"
   ]
  },
  {
   "cell_type": "code",
   "execution_count": 385,
   "metadata": {},
   "outputs": [],
   "source": [
    "H_1 = H_0*Ks*Kr"
   ]
  },
  {
   "cell_type": "code",
   "execution_count": 386,
   "metadata": {},
   "outputs": [
    {
     "data": {
      "text/plain": [
       "4.413559008330478"
      ]
     },
     "execution_count": 386,
     "metadata": {},
     "output_type": "execute_result"
    }
   ],
   "source": [
    "H_1 # m "
   ]
  },
  {
   "cell_type": "code",
   "execution_count": 387,
   "metadata": {},
   "outputs": [
    {
     "name": "stdout",
     "output_type": "stream",
     "text": [
      "The wave height when the wave reaches a depth of 8.00 m is  4.41 m \n"
     ]
    }
   ],
   "source": [
    "print('The wave height when the wave reaches a depth of 8.00 m is {0: .2f} m '.format(H_1))"
   ]
  },
  {
   "cell_type": "markdown",
   "metadata": {},
   "source": [
    "### DISCUSS\n",
    "When assuming shallow water, the wave height calcualted is 4.41. When soliving with the dispersion equations, the wave height calculated is 4.46. This results in an error of 1.1%. In order for the shallow water limit to be valid, h/L < 1/20, this means you either need to have a shallow depth of a long wavelength. When dividing h/L for htis problem, the result is 0.053, which is very close to meeting the limit needed, therefore the shallow water assumption is valid. The solution makes sense because the wave increased in height and the wavelength compressed due to shoaling as the wave entered shallow waters."
   ]
  },
  {
   "cell_type": "markdown",
   "metadata": {},
   "source": [
    "-----------\n",
    "-----------\n",
    "-----------\n",
    "-----------"
   ]
  },
  {
   "cell_type": "markdown",
   "metadata": {},
   "source": [
    "Question 5"
   ]
  },
  {
   "cell_type": "code",
   "execution_count": 208,
   "metadata": {},
   "outputs": [],
   "source": [
    "h = 5.00 #m\n",
    "T = 15.0 #s\n",
    "H_A = 2.00 #m"
   ]
  },
  {
   "cell_type": "code",
   "execution_count": 209,
   "metadata": {},
   "outputs": [],
   "source": [
    "# shallow\n",
    "L = T * math.sqrt(g*h)"
   ]
  },
  {
   "cell_type": "code",
   "execution_count": 210,
   "metadata": {},
   "outputs": [
    {
     "data": {
      "text/plain": [
       "105.05355776935876"
      ]
     },
     "execution_count": 210,
     "metadata": {},
     "output_type": "execute_result"
    }
   ],
   "source": [
    "L"
   ]
  },
  {
   "cell_type": "code",
   "execution_count": 211,
   "metadata": {},
   "outputs": [
    {
     "data": {
      "text/plain": [
       "76.15773105863909"
      ]
     },
     "execution_count": 211,
     "metadata": {},
     "output_type": "execute_result"
    }
   ],
   "source": [
    "r = math.sqrt((70**2) + (30**2))\n",
    "r"
   ]
  },
  {
   "cell_type": "code",
   "execution_count": 212,
   "metadata": {},
   "outputs": [
    {
     "data": {
      "text/plain": [
       "66.80140948635182"
      ]
     },
     "execution_count": 212,
     "metadata": {},
     "output_type": "execute_result"
    }
   ],
   "source": [
    "Beta = math.degrees(math.atan(70/30))\n",
    "Beta"
   ]
  },
  {
   "cell_type": "code",
   "execution_count": 213,
   "metadata": {},
   "outputs": [
    {
     "data": {
      "text/plain": [
       "0.7249419503320449"
      ]
     },
     "execution_count": 213,
     "metadata": {},
     "output_type": "execute_result"
    }
   ],
   "source": [
    "r/L"
   ]
  },
  {
   "cell_type": "code",
   "execution_count": 215,
   "metadata": {},
   "outputs": [],
   "source": [
    "# looking at figures 2-35 and 2-36, values of 0.28 and 0.25, respectively"
   ]
  },
  {
   "cell_type": "code",
   "execution_count": 399,
   "metadata": {},
   "outputs": [
    {
     "data": {
      "text/plain": [
       "0.26"
      ]
     },
     "execution_count": 399,
     "metadata": {},
     "output_type": "execute_result"
    }
   ],
   "source": [
    "0.28 + ((0.28-0.25)/(120-135))*10"
   ]
  },
  {
   "cell_type": "code",
   "execution_count": 400,
   "metadata": {},
   "outputs": [
    {
     "data": {
      "text/plain": [
       "0.52"
      ]
     },
     "execution_count": 400,
     "metadata": {},
     "output_type": "execute_result"
    }
   ],
   "source": [
    "H_B = (.26 * 2.00)\n",
    "H_B"
   ]
  },
  {
   "cell_type": "code",
   "execution_count": 401,
   "metadata": {},
   "outputs": [
    {
     "name": "stdout",
     "output_type": "stream",
     "text": [
      "The wave height behind the breakwater is  0.52 m \n"
     ]
    }
   ],
   "source": [
    "print('The wave height behind the breakwater is {0: .2f} m '.format(H_B))"
   ]
  },
  {
   "cell_type": "code",
   "execution_count": null,
   "metadata": {},
   "outputs": [],
   "source": []
  }
 ],
 "metadata": {
  "kernelspec": {
   "display_name": "Python 3",
   "language": "python",
   "name": "python3"
  },
  "language_info": {
   "codemirror_mode": {
    "name": "ipython",
    "version": 3
   },
   "file_extension": ".py",
   "mimetype": "text/x-python",
   "name": "python",
   "nbconvert_exporter": "python",
   "pygments_lexer": "ipython3",
   "version": "3.6.5"
  }
 },
 "nbformat": 4,
 "nbformat_minor": 4
}
