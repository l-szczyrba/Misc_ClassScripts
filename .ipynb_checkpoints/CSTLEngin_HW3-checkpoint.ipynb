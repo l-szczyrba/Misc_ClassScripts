{
 "cells": [
  {
   "cell_type": "markdown",
   "metadata": {},
   "source": [
    "Coastal Engineering - Homework 1"
   ]
  },
  {
   "cell_type": "markdown",
   "metadata": {},
   "source": [
    "Honor Code Pledge: \"I have neither given nor received unauthorized assistance on this assignment.\"\n",
    "\n",
    "Signature:"
   ]
  },
  {
   "cell_type": "code",
   "execution_count": 94,
   "metadata": {},
   "outputs": [],
   "source": [
    "import pandas as pd\n",
    "import math\n",
    "import numpy as np\n",
    "import seaborn as sns\n",
    "import matplotlib.pyplot as plt\n",
    "\n",
    "g = 9.81 # m/s^2\n",
    "pi = math.pi"
   ]
  },
  {
   "cell_type": "markdown",
   "metadata": {},
   "source": [
    "Problem 1"
   ]
  },
  {
   "cell_type": "markdown",
   "metadata": {},
   "source": [
    "Given: wave heights (m)\n",
    "\n",
    "Find: Calculate Hmax, H1/10, H1/3, Hmean, and Hrms; estimate with the Rayleigh probaiblity distribtion H1/10, Hmean, and Hrms. Find Error.\n",
    "\n",
    "Principles: \n",
    "\n",
    "\n",
    "\n",
    "\n",
    "\n"
   ]
  },
  {
   "cell_type": "code",
   "execution_count": 95,
   "metadata": {},
   "outputs": [],
   "source": [
    "data = pd.read_table(\"HwavestatsF18.dat\", sep=\"\\s+\",  names = ['wv_ht_m'])"
   ]
  },
  {
   "cell_type": "code",
   "execution_count": 96,
   "metadata": {},
   "outputs": [],
   "source": [
    "def statistics(data, column_name, rounding):\n",
    "    data.sort_values(column_name, ascending=False, inplace=True) \n",
    "    # sort values largest to smallest\n",
    "    \n",
    "    H_max = round(data[column_name].max(), rounding)\n",
    "    H_mean = round(data[column_name].mean(), rounding)\n",
    "               \n",
    "    count_row = data.shape[0]\n",
    "    count_row\n",
    "    count_third = int(round((count_row * (1/3)), 0) - 1) \n",
    "    #Python indexing starts at 0, so must substract 1 from the count\n",
    "    count_tenth = int(round((count_row * (1/10)), 0) - 1) \n",
    "    #Python indexing starts at 0, so must substract 1 from the count\n",
    "               \n",
    "    H_third = np.float(round(data.iloc[0:count_third].mean(), rounding))\n",
    "    H_tenth = np.float(round(data.iloc[0:count_tenth].mean(), rounding))\n",
    "    \n",
    "    H_rms = round(np.sqrt(np.mean(data['wv_ht_m']**2)), rounding)\n",
    "    \n",
    "    return H_max, H_mean, H_third, H_tenth, H_rms"
   ]
  },
  {
   "cell_type": "code",
   "execution_count": 97,
   "metadata": {},
   "outputs": [
    {
     "name": "stdout",
     "output_type": "stream",
     "text": [
      "H_max is 12.42 m\n",
      "H_1/10 is 4.54 m\n",
      "H_1/3 is 3.47 m\n",
      "H_mean is 1.97 m\n",
      "H_rms is 2.37 m\n"
     ]
    }
   ],
   "source": [
    "H_max, H_mean, H_third, H_tenth, H_rms = statistics(data, 'wv_ht_m', 2)\n",
    "print('H_max is {} m'.format(H_max))\n",
    "print('H_1/10 is {} m'.format(H_tenth))\n",
    "print('H_1/3 is {} m'.format(H_third))\n",
    "print('H_mean is {} m'.format(H_mean))\n",
    "print('H_rms is {} m'.format(H_rms))"
   ]
  },
  {
   "cell_type": "code",
   "execution_count": 98,
   "metadata": {},
   "outputs": [],
   "source": [
    "def Rayleigh_estimate(H_third, rounding):\n",
    "    est_H_tenth = np.round((1.27 * (H_third)), rounding)\n",
    "    est_H_mean = np.round((1.27 * (H_third) / 2.03), rounding)\n",
    "    est_H_rms = np.round((1.27 * (H_third) / 1.80), rounding)\n",
    "    \n",
    "    return est_H_tenth, est_H_mean, est_H_rms  "
   ]
  },
  {
   "cell_type": "code",
   "execution_count": 99,
   "metadata": {},
   "outputs": [],
   "source": [
    "est_H_tenth, est_H_mean, est_H_rms = Rayleigh_estimate(H_third, 2)"
   ]
  },
  {
   "cell_type": "code",
   "execution_count": 100,
   "metadata": {},
   "outputs": [],
   "source": [
    "def Errors(true, estimate, rounding):\n",
    "    error = np.round((abs(true - estimate)/true * 100), rounding)\n",
    "    \n",
    "    return error"
   ]
  },
  {
   "cell_type": "code",
   "execution_count": 101,
   "metadata": {},
   "outputs": [],
   "source": [
    "error_H_tenth = Errors(H_tenth, est_H_tenth, 2)\n",
    "error_H_mean = Errors(H_mean, est_H_mean, 2)\n",
    "error_H_rms = Errors(H_rms, est_H_rms, 2)"
   ]
  },
  {
   "cell_type": "code",
   "execution_count": 102,
   "metadata": {},
   "outputs": [
    {
     "name": "stdout",
     "output_type": "stream",
     "text": [
      "H_1/10 estimated from Rayleigh probability distribution is 4.41 m \n",
      " with an error of 2.86%\n",
      "H_mean estimated from Rayleigh probability distribution is 2.17 m \n",
      " with an error of 10.15%\n",
      "H_rms estimated from Rayleigh probability distribution is 2.45 m \n",
      " with an error of 3.38%\n"
     ]
    }
   ],
   "source": [
    "print('H_1/10 estimated from Rayleigh probability distribution is {} m \\n with an error of {}%'.format(est_H_tenth, error_H_tenth))\n",
    "print('H_mean estimated from Rayleigh probability distribution is {} m \\n with an error of {}%'.format(est_H_mean, error_H_mean))\n",
    "print('H_rms estimated from Rayleigh probability distribution is {} m \\n with an error of {}%'.format(est_H_rms, error_H_rms))"
   ]
  },
  {
   "cell_type": "markdown",
   "metadata": {},
   "source": [
    "Discussion: \\\n",
    "The Rayleigh prbability distribution underpredicted the H_1/10 values by 2.86% but overpredicted the H_mean and H_rms values by 10.25% and 3.38% (respectively). This may mean that a more normal curve would work better to estimate these values from the significant wave height. There also may be an anomoly in wave height that is not accounted for in the Rayleigh probability distribution, the H_max is significantly higher than the significant wave height (more than double) and, therefore, calculations based on the significant wave height alone would underpredicted the top 10% of data."
   ]
  },
  {
   "cell_type": "markdown",
   "metadata": {},
   "source": [
    " "
   ]
  },
  {
   "cell_type": "markdown",
   "metadata": {},
   "source": [
    "Problem 2"
   ]
  },
  {
   "cell_type": "markdown",
   "metadata": {},
   "source": [
    "Given:  T = 16.0 s wave in a depth of h = 6.50 m with a bottom slope \\textrm{tan}\\betatan β = 0.040; Ks = 1.25\n",
    "\n",
    "Find: (s) breaking wave height, Hb with Weggel 1972, compare with k assumed to be 0.78; (b) Type of breaker; (c) volume flux at breaking\n",
    "\n",
    "Principles: \n",
    " \\\n",
    " \\\n",
    " \\\n",
    " \\\n",
    " \n",
    " "
   ]
  },
  {
   "cell_type": "markdown",
   "metadata": {},
   "source": [
    "(a)"
   ]
  },
  {
   "cell_type": "code",
   "execution_count": 103,
   "metadata": {},
   "outputs": [],
   "source": [
    "T = 16.0 #1/s\n",
    "h = 6.50 #m\n",
    "tan_beta = 0.040\n",
    "\n",
    "a = 43.8 * (1 - np.exp(-19 * tan_beta))\n",
    "b = (1.56) / (1 + np.exp(-19.5 * tan_beta))"
   ]
  },
  {
   "cell_type": "code",
   "execution_count": 104,
   "metadata": {},
   "outputs": [],
   "source": [
    "sol = [0]\n",
    "solindex = 0\n",
    "\n",
    "iteration = 0\n",
    "initial_guess = 0.78\n",
    "# input breaker index guess\n",
    "Kb = initial_guess\n",
    "\n",
    "_break = True\n",
    "\n",
    "while _break == True: \n",
    "    previous_guess = Kb\n",
    "    \n",
    "    Hb = (Kb * 6.50)\n",
    "    Kb = b - a*(Hb/(g*T**2))\n",
    "\n",
    "    error = abs(Kb-previous_guess) \n",
    "    # calculate error\n",
    "    if (error <= 0.000000001) or (error == 0): \n",
    "        # break when the error threshold is met\n",
    "        _break = False\n",
    "    iteration += 1\n",
    "\n",
    "sol[solindex] = Kb \n",
    "#converged solution added\n",
    "solindex += 1\n",
    "\n",
    "Kb_iter = round(sol[0], 2)\n",
    "Hb_iter = round((Kb_iter * 6.50), 2)\n"
   ]
  },
  {
   "cell_type": "code",
   "execution_count": 105,
   "metadata": {},
   "outputs": [
    {
     "name": "stdout",
     "output_type": "stream",
     "text": [
      "Calculated with Weggel(1972), the breaking wave height (Hb) is 6.56 m \n",
      " with a break point (Kb) value of 1.01\n"
     ]
    }
   ],
   "source": [
    "print('Calculated with Weggel(1972), the breaking wave height (Hb) is {} m \\n with a break point (Kb) value of {}'.format(Hb_iter, Kb_iter))"
   ]
  },
  {
   "cell_type": "code",
   "execution_count": 106,
   "metadata": {},
   "outputs": [
    {
     "name": "stdout",
     "output_type": "stream",
     "text": [
      "With an assumed break point (Kb) value of 0.78, \n",
      " the calculated breaking wave height (Hb) is 5.07 m\n"
     ]
    }
   ],
   "source": [
    "#k = H/h\n",
    "H_assumed = (0.78) * h\n",
    "\n",
    "print('With an assumed break point (Kb) value of 0.78, \\n the calculated breaking wave height (Hb) is {} m'.format(H_assumed))"
   ]
  },
  {
   "cell_type": "code",
   "execution_count": 107,
   "metadata": {},
   "outputs": [
    {
     "data": {
      "text/plain": [
       "22.710000000000001"
      ]
     },
     "execution_count": 107,
     "metadata": {},
     "output_type": "execute_result"
    }
   ],
   "source": [
    "Errors(Hb_iter, H_assumed, 2)"
   ]
  },
  {
   "cell_type": "markdown",
   "metadata": {},
   "source": [
    "Discussion: \\\n",
    "The assumed breakpoint value that is often cited (0.78) produces an underestimate of the breaking wave height by 22.7%. This must be because the 0.78 value is derived from a solitary wave with simple conditions (no wave steepness and no slope incorporated), therefore assuming a linear relationship between breaking wave height and local water depth, indicating that the wave will break when its height is approximately 0.8 of the depth. However, with a tan_beta of 0.040 (slope of 2.3) the wave will steepen due to shoaling because of shallower depth with the bottom slope. The Weggel empirical model incorporates more nonlinearities, including wave steepness, which increases as it enters shallower water with the sloping bathymetry."
   ]
  },
  {
   "cell_type": "markdown",
   "metadata": {},
   "source": [
    " "
   ]
  },
  {
   "cell_type": "markdown",
   "metadata": {},
   "source": [
    "(b)"
   ]
  },
  {
   "cell_type": "code",
   "execution_count": 108,
   "metadata": {},
   "outputs": [],
   "source": [
    "Ks = 1.25\n",
    "\n",
    "L_0 = ((g*T**2)/(2*pi))\n",
    "H_0 = Hb_iter/Ks"
   ]
  },
  {
   "cell_type": "code",
   "execution_count": 109,
   "metadata": {},
   "outputs": [
    {
     "name": "stdout",
     "output_type": "stream",
     "text": [
      "The surf similarity parameter is 0.349\n"
     ]
    }
   ],
   "source": [
    "surf_param = np.round(tan_beta/(np.sqrt(H_0/L_0)),3)\n",
    "print('The surf similarity parameter is {}'.format(surf_param))"
   ]
  },
  {
   "cell_type": "markdown",
   "metadata": {},
   "source": [
    "With a surf similarity parameter of 0.35, this wave is a spilling breaker. This type of breaking wave is characterized by a relative low wave stpeeness and mild nearshore slope."
   ]
  },
  {
   "cell_type": "markdown",
   "metadata": {},
   "source": [
    " "
   ]
  },
  {
   "cell_type": "markdown",
   "metadata": {},
   "source": [
    "(c)"
   ]
  },
  {
   "cell_type": "code",
   "execution_count": 110,
   "metadata": {},
   "outputs": [
    {
     "name": "stdout",
     "output_type": "stream",
     "text": [
      "The voume flux at the point of breaking is 6.61 m^2/s\n"
     ]
    }
   ],
   "source": [
    "c = np.sqrt(g * h) \n",
    "# m/s\n",
    "Q = np.round((g * (Hb_iter**2))/(8*c),2)\n",
    "Q #m^2/s\n",
    "print('The voume flux at the point of breaking is {} m^2/s'.format(Q))"
   ]
  },
  {
   "cell_type": "markdown",
   "metadata": {},
   "source": [
    " "
   ]
  },
  {
   "cell_type": "markdown",
   "metadata": {},
   "source": [
    "Problem 3"
   ]
  },
  {
   "cell_type": "markdown",
   "metadata": {},
   "source": [
    " Given:   A normally incident (perpendicular) deep-water wave with significant Hos = 2.90 m and T = 19.5 s propagates towards shore on a bottom slope of \\textrm{tan}\\betatan β = 0.150. The wave breaks at a depth of h = 5.40 m. Assuming the breaker index \\kappa=\\frac{H_b}{h_b}κ = H b h b = 0.78 adequately estimates the breaking wave height\n",
    "\n",
    "Find: (a) wave setup at the still-water shoreline; (b) Wave runup; (c) Compare (a) and (b)\n",
    "\n",
    "Principles: "
   ]
  },
  {
   "cell_type": "markdown",
   "metadata": {},
   "source": [
    "(a)"
   ]
  },
  {
   "cell_type": "code",
   "execution_count": 111,
   "metadata": {},
   "outputs": [],
   "source": [
    "H_sig = 2.90\n",
    "T = 19.5\n",
    "tan_beta = 0.150\n",
    "h_break = 5.40\n",
    "K_breaker = 0.78"
   ]
  },
  {
   "cell_type": "code",
   "execution_count": 112,
   "metadata": {},
   "outputs": [
    {
     "name": "stdout",
     "output_type": "stream",
     "text": [
      "The wave setup at the still-water shoreline \n",
      " is between 0.648 to 0.810 m\n"
     ]
    }
   ],
   "source": [
    "x_shoreline = h_break / tan_beta\n",
    "\n",
    "# set up = - (0.12 to 0.15)(- tan_beta)(x_shoreline)\n",
    "s_1 = round((- 0.12) * (- tan_beta) * (x_shoreline), 3)\n",
    "s_2 = round((- 0.15) * (-tan_beta) * (x_shoreline), 3)\n",
    "\n",
    "print('The wave setup at the still-water shoreline \\n is between {} to {}0 m'.format(s_1, s_2))"
   ]
  },
  {
   "cell_type": "markdown",
   "metadata": {},
   "source": [
    "(b)"
   ]
  },
  {
   "cell_type": "code",
   "execution_count": 115,
   "metadata": {},
   "outputs": [],
   "source": [
    "L_0 = ((g*T**2)/(2*pi))\n",
    "L_1 = ((g*T**2)/(2*pi))* \\\n",
    "(math.tanh((((2*pi)/T)*((h_break/g)**0.5))**(3/2)))**(2/3) \n",
    "# L_1 Approximated with Fenton and McKee\n",
    "\n",
    "k_1 = (2* math.pi) / L_1\n",
    "\n",
    "N_0 = 0.5\n",
    "N_1 = (0.5)* (1 + ((2 * k_1 * h_break) / \\\n",
    "                   (math.sinh(2*k_1*h_break))))\n",
    "\n",
    "Ks = np.sqrt((N_0 * L_0)/(N_1 * L_1) )\n",
    "H_1 = K_breaker * h_break\n",
    "H_0 = H_1 / Ks\n",
    "# Shoaling to find H_0\n",
    "\n",
    "\n",
    "surf_sim_param = tan_beta / (np.sqrt(H_0/L_0))\n",
    "# deepwater height and length"
   ]
  },
  {
   "cell_type": "code",
   "execution_count": 116,
   "metadata": {},
   "outputs": [
    {
     "name": "stdout",
     "output_type": "stream",
     "text": [
      "The wave run up \n",
      " is 8.62 m\n"
     ]
    }
   ],
   "source": [
    "Rs = round((1.38 * surf_sim_param * H_sig), 2)\n",
    "\n",
    "print('The wave run up \\n is {} m'.format(Rs))"
   ]
  },
  {
   "cell_type": "markdown",
   "metadata": {},
   "source": [
    "(c)"
   ]
  },
  {
   "cell_type": "markdown",
   "metadata": {},
   "source": [
    "Wave setup is the mean increase in vertical water level due to wave breaking. These values are usually pretty low, around 20% of the breaking wave height, but can reach up to approximately 1 m during storms. From this problem, the wave setup is 0.648 to 0.810 m. The runup is the uprush of water at the shore due to wave breaking  and depends on wave conditions, bototm slope, and 3d effects. Runup, by definition, includes setup so it makes sense that it is significantly larger than the setup value. So the vertical uprush of water, including setup (0.65 - 0.81 m) in total is 8.62 m."
   ]
  },
  {
   "cell_type": "markdown",
   "metadata": {},
   "source": [
    " "
   ]
  },
  {
   "cell_type": "markdown",
   "metadata": {},
   "source": [
    "Problem 4"
   ]
  },
  {
   "cell_type": "markdown",
   "metadata": {},
   "source": [
    "Given: Tide data at station 8635750\n",
    "\n",
    "Find: (a) tidal form (b) storm water level at mean sea level and mean lower low water\n",
    "\n",
    "Principles: "
   ]
  },
  {
   "cell_type": "markdown",
   "metadata": {},
   "source": [
    "(a)"
   ]
  },
  {
   "cell_type": "code",
   "execution_count": 117,
   "metadata": {},
   "outputs": [
    {
     "name": "stdout",
     "output_type": "stream",
     "text": [
      "The tidal form number is 0.198 m \n",
      " this means the tide type is semidiurnal \n",
      " since it is less than 0.25.\n"
     ]
    }
   ],
   "source": [
    "a_k1 = 0.023\n",
    "a_o1 = 0.019\n",
    "a_m2 = 0.184\n",
    "a_s2 = 0.028\n",
    "\n",
    "R = round((a_k1 + a_o1)/(a_m2 + a_s2), 3)\n",
    "\n",
    "print('The tidal form number is {} m \\n this means the tide type is semidiurnal \\n since it is less than 0.25.'.format(R))"
   ]
  },
  {
   "cell_type": "markdown",
   "metadata": {},
   "source": [
    "(b)"
   ]
  },
  {
   "cell_type": "code",
   "execution_count": null,
   "metadata": {},
   "outputs": [],
   "source": []
  }
 ],
 "metadata": {
  "kernelspec": {
   "display_name": "Python 3",
   "language": "python",
   "name": "python3"
  },
  "language_info": {
   "codemirror_mode": {
    "name": "ipython",
    "version": 3
   },
   "file_extension": ".py",
   "mimetype": "text/x-python",
   "name": "python",
   "nbconvert_exporter": "python",
   "pygments_lexer": "ipython3",
   "version": "3.6.5"
  }
 },
 "nbformat": 4,
 "nbformat_minor": 4
}
