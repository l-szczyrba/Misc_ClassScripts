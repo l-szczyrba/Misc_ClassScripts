{
 "cells": [
  {
   "cell_type": "code",
   "execution_count": 149,
   "metadata": {},
   "outputs": [],
   "source": [
    "import math\n",
    "import pandas as pd\n",
    "import numpy as np"
   ]
  },
  {
   "cell_type": "code",
   "execution_count": 150,
   "metadata": {},
   "outputs": [],
   "source": [
    "pi = math.pi\n",
    "g = 9.81 #m/s^2\n",
    "rho = 1030 #kg/m^2"
   ]
  },
  {
   "cell_type": "markdown",
   "metadata": {},
   "source": [
    "-----------------\n"
   ]
  },
  {
   "cell_type": "markdown",
   "metadata": {},
   "source": [
    "Question 2"
   ]
  },
  {
   "cell_type": "markdown",
   "metadata": {},
   "source": [
    "Given: \\\n",
    "wave height = 3.50 m \\\n",
    "period = 10.0-s \\\n",
    "depth = 30.0 m\n",
    "\n",
    "Find:  \\\n",
    "(a) wavelength approximated with Fenton and McKee \\\n",
    "(b) wavelength assuming deepwater \\\n",
    "(c) wavelength exactly with linear dispersion"
   ]
  },
  {
   "cell_type": "markdown",
   "metadata": {},
   "source": [
    "Solution:"
   ]
  },
  {
   "cell_type": "markdown",
   "metadata": {},
   "source": [
    "(a)"
   ]
  },
  {
   "cell_type": "code",
   "execution_count": 3,
   "metadata": {},
   "outputs": [],
   "source": [
    "H = 3.50 #m\n",
    "h = 30.0 #m\n",
    "T = 10.0 #-s"
   ]
  },
  {
   "cell_type": "code",
   "execution_count": 4,
   "metadata": {},
   "outputs": [
    {
     "data": {
      "text/plain": [
       "136.59749917235396"
      ]
     },
     "execution_count": 4,
     "metadata": {},
     "output_type": "execute_result"
    }
   ],
   "source": [
    "L1 = ((g*T**2)/(2*pi))*(math.tanh((((2*pi)/T)*((h/g)**0.5))**(3/2)))**(2/3) #fenton mckee\n",
    "L1"
   ]
  },
  {
   "cell_type": "code",
   "execution_count": 5,
   "metadata": {},
   "outputs": [
    {
     "name": "stdout",
     "output_type": "stream",
     "text": [
      "The wavelength, approximated by Fenton and Mckee, is  137 m\n"
     ]
    }
   ],
   "source": [
    "print('The wavelength, approximated by Fenton and Mckee, is {0: .0f} m'.format(L1))"
   ]
  },
  {
   "cell_type": "markdown",
   "metadata": {},
   "source": [
    "----------------\n",
    "(b)"
   ]
  },
  {
   "cell_type": "code",
   "execution_count": 6,
   "metadata": {},
   "outputs": [
    {
     "data": {
      "text/plain": [
       "156.13099917314932"
      ]
     },
     "execution_count": 6,
     "metadata": {},
     "output_type": "execute_result"
    }
   ],
   "source": [
    "L2 = (g * (T**2)) / (2 * pi)\n",
    "L2"
   ]
  },
  {
   "cell_type": "code",
   "execution_count": 7,
   "metadata": {},
   "outputs": [
    {
     "name": "stdout",
     "output_type": "stream",
     "text": [
      "The wavelength, assuming deepwater limit, is  156 m\n"
     ]
    }
   ],
   "source": [
    "print('The wavelength, assuming deepwater limit, is {0: .0f} m'.format(L2))"
   ]
  },
  {
   "cell_type": "markdown",
   "metadata": {},
   "source": [
    "------------------\n",
    "(c)"
   ]
  },
  {
   "cell_type": "code",
   "execution_count": 8,
   "metadata": {},
   "outputs": [],
   "source": [
    "# Dispersion iteration\n",
    "# code source: adapted with help from Steven Hoagland\n",
    "\n",
    "sol = [0]\n",
    "solindex = 0\n",
    "\n",
    "iteration = 0\n",
    "initial_guess = 57.9 # input initial wavelength guess\n",
    "L = initial_guess\n",
    "\n",
    "_break = True\n",
    "\n",
    "while _break == True: \n",
    "    previous_guess = L\n",
    "    k = (2*pi)/L\n",
    "    L = ((g * (T**2)) / (2*pi)) * math.tanh(k * h)\n",
    "    error = abs(L-previous_guess) # calculate error\n",
    "    if (error <= 0.000000001) or (error == 0): # break when the error threshold is met\n",
    "        _break = False\n",
    "    iteration += 1\n",
    "\n",
    "sol[solindex] = L #converged solution added\n",
    "solindex += 1"
   ]
  },
  {
   "cell_type": "code",
   "execution_count": 9,
   "metadata": {},
   "outputs": [
    {
     "data": {
      "text/plain": [
       "137.29489294688142"
      ]
     },
     "execution_count": 9,
     "metadata": {},
     "output_type": "execute_result"
    }
   ],
   "source": [
    "L3 = sol[0]\n",
    "L3"
   ]
  },
  {
   "cell_type": "code",
   "execution_count": 10,
   "metadata": {},
   "outputs": [
    {
     "name": "stdout",
     "output_type": "stream",
     "text": [
      "The wavelength, solved by dispersion, is  137 m\n"
     ]
    }
   ],
   "source": [
    "print('The wavelength, solved by dispersion, is {0: .0f} m'.format(L3))"
   ]
  },
  {
   "cell_type": "markdown",
   "metadata": {},
   "source": [
    "---------\n",
    "Discussion: \\\n",
    "The Fenton and McKee approximation si accurate to the fully solved dispersion equation by 0.5%. This is a good approximation and is in line with the theory that the approximation is valid within an error of 2%. \n",
    "The approximation assuming deepwater limit, however, has an error of 13.7%. This is probbably because, in order to assume deepwater, the depth/wavelength must be greater than 1/2. However, when we divide depth (30.0 m) by wavelength (137 m), the result is ~ 1/5. Thus, the wave is actually intermediate and cannot be treated with calculations assuming deepwater."
   ]
  },
  {
   "cell_type": "markdown",
   "metadata": {},
   "source": [
    "-----------\n",
    "-----------\n",
    "-----------\n",
    "-----------"
   ]
  },
  {
   "cell_type": "markdown",
   "metadata": {},
   "source": [
    "Question 3"
   ]
  },
  {
   "cell_type": "code",
   "execution_count": 151,
   "metadata": {},
   "outputs": [],
   "source": [
    "# assume deepwater L = ((g*T**2)/(2*pi))"
   ]
  },
  {
   "cell_type": "code",
   "execution_count": 156,
   "metadata": {},
   "outputs": [],
   "source": [
    "H_0 = 4.00 #m\n",
    "T = 17.0 #s\n",
    "h_0 = 200 #m\n",
    "alpha_0 = 40.0\n",
    "\n",
    "z = -8.00 # m"
   ]
  },
  {
   "cell_type": "code",
   "execution_count": 157,
   "metadata": {},
   "outputs": [],
   "source": [
    "# solve"
   ]
  },
  {
   "cell_type": "code",
   "execution_count": 158,
   "metadata": {},
   "outputs": [],
   "source": [
    "L_0 = ((g*T**2)/(2*pi))"
   ]
  },
  {
   "cell_type": "code",
   "execution_count": 159,
   "metadata": {},
   "outputs": [
    {
     "data": {
      "text/plain": [
       "451.2185876104016"
      ]
     },
     "execution_count": 159,
     "metadata": {},
     "output_type": "execute_result"
    }
   ],
   "source": [
    "L_0"
   ]
  },
  {
   "cell_type": "code",
   "execution_count": 160,
   "metadata": {},
   "outputs": [],
   "source": [
    "df = pd.DataFrame(columns=['x'], data = [0,L_0/4, L_0/2, (3*L_0)/4, L_0])"
   ]
  },
  {
   "cell_type": "code",
   "execution_count": 161,
   "metadata": {},
   "outputs": [],
   "source": [
    "#df['eta'] = (H/2)*(np.cos((k*df['x']) - 0)) \n",
    "\n",
    "# at time = 0\n",
    "df['eta'] = [2.00, 0, -2.00, 0, 2.00] # m "
   ]
  },
  {
   "cell_type": "code",
   "execution_count": 162,
   "metadata": {},
   "outputs": [
    {
     "data": {
      "text/html": [
       "<div>\n",
       "<style scoped>\n",
       "    .dataframe tbody tr th:only-of-type {\n",
       "        vertical-align: middle;\n",
       "    }\n",
       "\n",
       "    .dataframe tbody tr th {\n",
       "        vertical-align: top;\n",
       "    }\n",
       "\n",
       "    .dataframe thead th {\n",
       "        text-align: right;\n",
       "    }\n",
       "</style>\n",
       "<table border=\"1\" class=\"dataframe\">\n",
       "  <thead>\n",
       "    <tr style=\"text-align: right;\">\n",
       "      <th></th>\n",
       "      <th>x</th>\n",
       "      <th>eta</th>\n",
       "    </tr>\n",
       "  </thead>\n",
       "  <tbody>\n",
       "    <tr>\n",
       "      <th>0</th>\n",
       "      <td>0.000000</td>\n",
       "      <td>2.0</td>\n",
       "    </tr>\n",
       "    <tr>\n",
       "      <th>1</th>\n",
       "      <td>112.804647</td>\n",
       "      <td>0.0</td>\n",
       "    </tr>\n",
       "    <tr>\n",
       "      <th>2</th>\n",
       "      <td>225.609294</td>\n",
       "      <td>-2.0</td>\n",
       "    </tr>\n",
       "    <tr>\n",
       "      <th>3</th>\n",
       "      <td>338.413941</td>\n",
       "      <td>0.0</td>\n",
       "    </tr>\n",
       "    <tr>\n",
       "      <th>4</th>\n",
       "      <td>451.218588</td>\n",
       "      <td>2.0</td>\n",
       "    </tr>\n",
       "  </tbody>\n",
       "</table>\n",
       "</div>"
      ],
      "text/plain": [
       "            x  eta\n",
       "0    0.000000  2.0\n",
       "1  112.804647  0.0\n",
       "2  225.609294 -2.0\n",
       "3  338.413941  0.0\n",
       "4  451.218588  2.0"
      ]
     },
     "execution_count": 162,
     "metadata": {},
     "output_type": "execute_result"
    }
   ],
   "source": [
    "df"
   ]
  },
  {
   "cell_type": "code",
   "execution_count": 163,
   "metadata": {},
   "outputs": [],
   "source": [
    "# solve for horizontal velocity at z = -8.0 m "
   ]
  },
  {
   "cell_type": "code",
   "execution_count": 164,
   "metadata": {},
   "outputs": [],
   "source": [
    "a_freq = (2 * math.pi)/T #s^-1\n",
    "k = (2*math.pi)/L_0 # m^-1"
   ]
  },
  {
   "cell_type": "code",
   "execution_count": 121,
   "metadata": {},
   "outputs": [],
   "source": [
    "df['u'] = a_freq*((math.cosh(k*(h_0+z)))/(math.sinh(k*h_0)))* df['eta'] # m/s"
   ]
  },
  {
   "cell_type": "code",
   "execution_count": 122,
   "metadata": {},
   "outputs": [
    {
     "data": {
      "text/html": [
       "<div>\n",
       "<style scoped>\n",
       "    .dataframe tbody tr th:only-of-type {\n",
       "        vertical-align: middle;\n",
       "    }\n",
       "\n",
       "    .dataframe tbody tr th {\n",
       "        vertical-align: top;\n",
       "    }\n",
       "\n",
       "    .dataframe thead th {\n",
       "        text-align: right;\n",
       "    }\n",
       "</style>\n",
       "<table border=\"1\" class=\"dataframe\">\n",
       "  <thead>\n",
       "    <tr style=\"text-align: right;\">\n",
       "      <th></th>\n",
       "      <th>x</th>\n",
       "      <th>eta</th>\n",
       "      <th>u</th>\n",
       "    </tr>\n",
       "  </thead>\n",
       "  <tbody>\n",
       "    <tr>\n",
       "      <th>0</th>\n",
       "      <td>0.000000</td>\n",
       "      <td>2.0</td>\n",
       "      <td>0.666963</td>\n",
       "    </tr>\n",
       "    <tr>\n",
       "      <th>1</th>\n",
       "      <td>112.804647</td>\n",
       "      <td>0.0</td>\n",
       "      <td>0.000000</td>\n",
       "    </tr>\n",
       "    <tr>\n",
       "      <th>2</th>\n",
       "      <td>225.609294</td>\n",
       "      <td>-2.0</td>\n",
       "      <td>-0.666963</td>\n",
       "    </tr>\n",
       "    <tr>\n",
       "      <th>3</th>\n",
       "      <td>338.413941</td>\n",
       "      <td>0.0</td>\n",
       "      <td>0.000000</td>\n",
       "    </tr>\n",
       "    <tr>\n",
       "      <th>4</th>\n",
       "      <td>451.218588</td>\n",
       "      <td>2.0</td>\n",
       "      <td>0.666963</td>\n",
       "    </tr>\n",
       "  </tbody>\n",
       "</table>\n",
       "</div>"
      ],
      "text/plain": [
       "            x  eta         u\n",
       "0    0.000000  2.0  0.666963\n",
       "1  112.804647  0.0  0.000000\n",
       "2  225.609294 -2.0 -0.666963\n",
       "3  338.413941  0.0  0.000000\n",
       "4  451.218588  2.0  0.666963"
      ]
     },
     "execution_count": 122,
     "metadata": {},
     "output_type": "execute_result"
    }
   ],
   "source": [
    "df"
   ]
  },
  {
   "cell_type": "code",
   "execution_count": 123,
   "metadata": {},
   "outputs": [],
   "source": [
    "df['p'] = (rho*g*df['eta'])*((np.cosh(k*(h_0+z)))/np.cosh(k*h_0)) - (rho*g*z) # Pa"
   ]
  },
  {
   "cell_type": "code",
   "execution_count": 124,
   "metadata": {},
   "outputs": [
    {
     "data": {
      "text/html": [
       "<div>\n",
       "<style scoped>\n",
       "    .dataframe tbody tr th:only-of-type {\n",
       "        vertical-align: middle;\n",
       "    }\n",
       "\n",
       "    .dataframe tbody tr th {\n",
       "        vertical-align: top;\n",
       "    }\n",
       "\n",
       "    .dataframe thead th {\n",
       "        text-align: right;\n",
       "    }\n",
       "</style>\n",
       "<table border=\"1\" class=\"dataframe\">\n",
       "  <thead>\n",
       "    <tr style=\"text-align: right;\">\n",
       "      <th></th>\n",
       "      <th>x</th>\n",
       "      <th>eta</th>\n",
       "      <th>u</th>\n",
       "      <th>p</th>\n",
       "    </tr>\n",
       "  </thead>\n",
       "  <tbody>\n",
       "    <tr>\n",
       "      <th>0</th>\n",
       "      <td>0.000000</td>\n",
       "      <td>2.0</td>\n",
       "      <td>0.666963</td>\n",
       "      <td>98929.764468</td>\n",
       "    </tr>\n",
       "    <tr>\n",
       "      <th>1</th>\n",
       "      <td>112.804647</td>\n",
       "      <td>0.0</td>\n",
       "      <td>0.000000</td>\n",
       "      <td>80834.400000</td>\n",
       "    </tr>\n",
       "    <tr>\n",
       "      <th>2</th>\n",
       "      <td>225.609294</td>\n",
       "      <td>-2.0</td>\n",
       "      <td>-0.666963</td>\n",
       "      <td>62739.035532</td>\n",
       "    </tr>\n",
       "    <tr>\n",
       "      <th>3</th>\n",
       "      <td>338.413941</td>\n",
       "      <td>0.0</td>\n",
       "      <td>0.000000</td>\n",
       "      <td>80834.400000</td>\n",
       "    </tr>\n",
       "    <tr>\n",
       "      <th>4</th>\n",
       "      <td>451.218588</td>\n",
       "      <td>2.0</td>\n",
       "      <td>0.666963</td>\n",
       "      <td>98929.764468</td>\n",
       "    </tr>\n",
       "  </tbody>\n",
       "</table>\n",
       "</div>"
      ],
      "text/plain": [
       "            x  eta         u             p\n",
       "0    0.000000  2.0  0.666963  98929.764468\n",
       "1  112.804647  0.0  0.000000  80834.400000\n",
       "2  225.609294 -2.0 -0.666963  62739.035532\n",
       "3  338.413941  0.0  0.000000  80834.400000\n",
       "4  451.218588  2.0  0.666963  98929.764468"
      ]
     },
     "execution_count": 124,
     "metadata": {},
     "output_type": "execute_result"
    }
   ],
   "source": [
    "df"
   ]
  },
  {
   "cell_type": "code",
   "execution_count": 125,
   "metadata": {},
   "outputs": [],
   "source": [
    "# do for all z's now"
   ]
  },
  {
   "cell_type": "code",
   "execution_count": 148,
   "metadata": {},
   "outputs": [],
   "source": [
    "# Discuss"
   ]
  },
  {
   "cell_type": "markdown",
   "metadata": {},
   "source": [
    "-----------\n",
    "-----------\n",
    "-----------\n",
    "-----------"
   ]
  },
  {
   "cell_type": "markdown",
   "metadata": {},
   "source": [
    "Question 4"
   ]
  },
  {
   "cell_type": "code",
   "execution_count": 126,
   "metadata": {},
   "outputs": [],
   "source": [
    "H_0 = 4.00 # m\n",
    "h_0 = 200 # m\n",
    "L_0 = 451.2185876104016 # m (solution from above)\n",
    "\n",
    "h_1 = 8.00 # m\n",
    "\n",
    "alpha_0_deg = 40.0 # degrees\n",
    "alpha_0_rad = (alpha_0_deg * math.pi) / 180\n",
    "\n",
    "T = 17.0 #s\n",
    "a_freq = (2 * math.pi)/T #s^-1"
   ]
  },
  {
   "cell_type": "code",
   "execution_count": 127,
   "metadata": {},
   "outputs": [],
   "source": [
    "# calc L_1 with iteration\n",
    "L_1_guess = ((g*T**2)/(2*pi))*(math.tanh((((2*pi)/T)*((h_1/g)**0.5))**(3/2)))**(2/3) # (m) first guess with fenton and mckee"
   ]
  },
  {
   "cell_type": "code",
   "execution_count": 128,
   "metadata": {},
   "outputs": [
    {
     "data": {
      "text/plain": [
       "149.3725748179091"
      ]
     },
     "execution_count": 128,
     "metadata": {},
     "output_type": "execute_result"
    }
   ],
   "source": [
    "L_1_guess"
   ]
  },
  {
   "cell_type": "code",
   "execution_count": 129,
   "metadata": {},
   "outputs": [],
   "source": [
    "sol = [0]\n",
    "solindex = 0\n",
    "\n",
    "iteration = 0\n",
    "initial_guess = L_1_guess # input initial wavelength guess\n",
    "L = initial_guess\n",
    "\n",
    "_break = True\n",
    "\n",
    "while _break == True: \n",
    "    previous_guess = L\n",
    "    k = (2*pi)/L\n",
    "    L = ((g * (T**2)) / (2*pi)) * math.tanh(k * h_1)  # INPUT CORRECT h\n",
    "    error = abs(L-previous_guess) # calculate error\n",
    "    if (error <= 0.000000001) or (error == 0): # break when the error threshold is met\n",
    "        _break = False\n",
    "    iteration += 1\n",
    "\n",
    "sol[solindex] = L #converged solution added\n",
    "solindex += 1 "
   ]
  },
  {
   "cell_type": "code",
   "execution_count": 130,
   "metadata": {},
   "outputs": [
    {
     "data": {
      "text/plain": [
       "147.80032847773637"
      ]
     },
     "execution_count": 130,
     "metadata": {},
     "output_type": "execute_result"
    }
   ],
   "source": [
    "L_1 = sol[0]\n",
    "L_1"
   ]
  },
  {
   "cell_type": "code",
   "execution_count": 131,
   "metadata": {},
   "outputs": [],
   "source": [
    "# solve\n",
    "k_1 = (2*math.pi)/L_1 # m^-1"
   ]
  },
  {
   "cell_type": "code",
   "execution_count": 132,
   "metadata": {},
   "outputs": [],
   "source": [
    "alpha_1_rad = (L1/L_0)*math.sin(alpha_0_rad)"
   ]
  },
  {
   "cell_type": "code",
   "execution_count": 133,
   "metadata": {},
   "outputs": [],
   "source": [
    "Kr = ((math.cos(alpha_0_rad))/math.cos(alpha_1_rad))**(0.5)"
   ]
  },
  {
   "cell_type": "code",
   "execution_count": 136,
   "metadata": {},
   "outputs": [],
   "source": [
    "n_1 = 0.5*(1 + (2*k_1*h_1)/(math.sinh(2*k_1*h_1)))\n",
    "n_0 = 0.5"
   ]
  },
  {
   "cell_type": "code",
   "execution_count": 138,
   "metadata": {},
   "outputs": [],
   "source": [
    "Ks = math.sqrt((n_0 * L_0)/(n_1 * L_1))"
   ]
  },
  {
   "cell_type": "code",
   "execution_count": 139,
   "metadata": {},
   "outputs": [],
   "source": [
    "H_1 = H_0*Ks*Kr"
   ]
  },
  {
   "cell_type": "code",
   "execution_count": 141,
   "metadata": {},
   "outputs": [
    {
     "data": {
      "text/plain": [
       "4.448924881692996"
      ]
     },
     "execution_count": 141,
     "metadata": {},
     "output_type": "execute_result"
    }
   ],
   "source": [
    "H_1 # m "
   ]
  },
  {
   "cell_type": "code",
   "execution_count": 146,
   "metadata": {},
   "outputs": [
    {
     "name": "stdout",
     "output_type": "stream",
     "text": [
      "The wave height when the wave reaches a depth of 8.00 m is  4.45 m \n"
     ]
    }
   ],
   "source": [
    "print('The wave height when the wave reaches a depth of 8.00 m is {0: .2f} m '.format(H_1))"
   ]
  },
  {
   "cell_type": "code",
   "execution_count": 147,
   "metadata": {},
   "outputs": [],
   "source": [
    "# DISCUSS"
   ]
  },
  {
   "cell_type": "markdown",
   "metadata": {},
   "source": [
    "-----------\n",
    "-----------\n",
    "-----------\n",
    "-----------"
   ]
  },
  {
   "cell_type": "markdown",
   "metadata": {},
   "source": [
    "Question 5"
   ]
  },
  {
   "cell_type": "code",
   "execution_count": null,
   "metadata": {},
   "outputs": [],
   "source": []
  },
  {
   "cell_type": "code",
   "execution_count": null,
   "metadata": {},
   "outputs": [],
   "source": []
  }
 ],
 "metadata": {
  "kernelspec": {
   "display_name": "Python 3",
   "language": "python",
   "name": "python3"
  },
  "language_info": {
   "codemirror_mode": {
    "name": "ipython",
    "version": 3
   },
   "file_extension": ".py",
   "mimetype": "text/x-python",
   "name": "python",
   "nbconvert_exporter": "python",
   "pygments_lexer": "ipython3",
   "version": "3.6.5"
  }
 },
 "nbformat": 4,
 "nbformat_minor": 4
}
