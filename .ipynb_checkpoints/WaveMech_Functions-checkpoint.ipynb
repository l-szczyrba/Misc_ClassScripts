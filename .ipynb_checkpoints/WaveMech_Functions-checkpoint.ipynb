{
 "cells": [
  {
   "cell_type": "code",
   "execution_count": 38,
   "metadata": {},
   "outputs": [],
   "source": [
    "#import pandas as pd\n",
    "#import numpy as np\n",
    "#import sympy as sym\n",
    "#import scipy as sp\n",
    "#from scipy.optimize import root\n",
    "import math as math\n",
    "from sympy import *"
   ]
  },
  {
   "cell_type": "code",
   "execution_count": 39,
   "metadata": {},
   "outputs": [],
   "source": [
    "pi = math.pi\n",
    "g = 9.81 #m/s^2"
   ]
  },
  {
   "cell_type": "code",
   "execution_count": 40,
   "metadata": {},
   "outputs": [
    {
     "data": {
      "text/plain": [
       "3.141592653589793"
      ]
     },
     "execution_count": 40,
     "metadata": {},
     "output_type": "execute_result"
    }
   ],
   "source": [
    "pi "
   ]
  },
  {
   "cell_type": "markdown",
   "metadata": {},
   "source": [
    "# WAVENUMBER\n"
   ]
  },
  {
   "cell_type": "markdown",
   "metadata": {},
   "source": [
    "(1) wavenumber and (2) phase speed given inputs of (a) angular frequency and (b) water depth. "
   ]
  },
  {
   "cell_type": "code",
   "execution_count": 47,
   "metadata": {},
   "outputs": [],
   "source": [
    "#shallow: k = w/sqrrt(gh), c = sqrrt(gh)\n",
    "#deep: k = w**2/g, c = g/w"
   ]
  },
  {
   "cell_type": "code",
   "execution_count": 43,
   "metadata": {},
   "outputs": [],
   "source": [
    "#function to calculate wave number given w (angular frequency aka 2pi/T) and d (water depth)\n",
    "\n",
    "def numberandspeed(w, d):\n",
    "    if d <= pi/10:\n",
    "        k = w/math.sqrt(gd)\n",
    "        print(\"The wave number is {}\".format(k))\n",
    "        c = math.sqrt(gd)\n",
    "        print(\"The phase speed is {}\".format(c))\n",
    "    else:\n",
    "        k = (w**2)/g\n",
    "        print(\"The wave number is {}\".format(k))\n",
    "        c = g/w\n",
    "        print(\"The phase speed  is {}\".format(c))\n",
    "\n"
   ]
  },
  {
   "cell_type": "code",
   "execution_count": 44,
   "metadata": {
    "scrolled": true
   },
   "outputs": [
    {
     "name": "stdout",
     "output_type": "stream",
     "text": [
      "The wave number is 0.4077471967380224\n",
      "The phase speed  is 4.905\n"
     ]
    }
   ],
   "source": [
    "numberandspeed(2,3)"
   ]
  },
  {
   "cell_type": "code",
   "execution_count": 41,
   "metadata": {},
   "outputs": [],
   "source": [
    "# ACTUALLY THAT WAS TOO EASY\n",
    "# get k so can caclulate kh which will determine if shallow, deep, intermediate"
   ]
  },
  {
   "cell_type": "code",
   "execution_count": 54,
   "metadata": {},
   "outputs": [],
   "source": [
    "omega = 2\n",
    "h = 2"
   ]
  },
  {
   "cell_type": "code",
   "execution_count": 70,
   "metadata": {
    "scrolled": true
   },
   "outputs": [],
   "source": [
    "T = (2*pi)/omega\n",
    "L = (g*(T**2))/(2*pi)\n",
    "k = (2*pi)/L\n",
    "kh = k * h"
   ]
  },
  {
   "cell_type": "code",
   "execution_count": 66,
   "metadata": {},
   "outputs": [],
   "source": []
  },
  {
   "cell_type": "code",
   "execution_count": 84,
   "metadata": {
    "scrolled": true
   },
   "outputs": [],
   "source": [
    "def numberandspeed (omega, h):\n",
    "    T = (2*pi)/omega\n",
    "    L = (g*(T**2))/(2*pi)\n",
    "    k = (2*pi)/L\n",
    "    kh = k * h\n",
    "    if kh <= pi/10:\n",
    "         c = math.sqrt(g*h)\n",
    "         print(\"The shallow water phase speed is {}\".format(c))\n",
    "    elif kh > pi:\n",
    "         c = g/omega\n",
    "         print(\"The deepwater phase speed is {}\".format(c))\n",
    "    else:\n",
    "         return('this is complicated, requires further coding')"
   ]
  },
  {
   "cell_type": "code",
   "execution_count": 85,
   "metadata": {},
   "outputs": [
    {
     "name": "stdout",
     "output_type": "stream",
     "text": [
      "The deepwater phase speed is 3.27\n"
     ]
    }
   ],
   "source": [
    "numberandspeed(3,900)"
   ]
  },
  {
   "cell_type": "code",
   "execution_count": 87,
   "metadata": {},
   "outputs": [],
   "source": [
    "c = (g/omega)*(math.tanh((omega*(math.sqrt(h/g)))**(3/2))**(2/3))"
   ]
  },
  {
   "cell_type": "markdown",
   "metadata": {},
   "source": [
    "### CODE V1 (error with wavelength calulation):"
   ]
  },
  {
   "cell_type": "code",
   "execution_count": 96,
   "metadata": {},
   "outputs": [],
   "source": [
    "def numberandspeed (omega, h):\n",
    "    T = (2*pi)/omega\n",
    "    L = (g*(T**2))/(2*pi)\n",
    "    k = (2*pi)/L\n",
    "    kh = k * h\n",
    "    print(\"The wave number is {}\".format(k))\n",
    "    if kh <= pi/10:\n",
    "         c = math.sqrt(g*h)\n",
    "         print(\"The shallow water phase speed is {}\".format(c))\n",
    "    elif kh > pi:\n",
    "         c = g/omega\n",
    "         print(\"The deepwater phase speed is {}\".format(c))\n",
    "    else:\n",
    "        c = (g/omega)*(math.tanh((omega*(math.sqrt(h/g)))**(3/2))**(2/3))\n",
    "        print(\"The intermediate phase speed is {}\".format(c)) "
   ]
  },
  {
   "cell_type": "code",
   "execution_count": 99,
   "metadata": {},
   "outputs": [
    {
     "name": "stdout",
     "output_type": "stream",
     "text": [
      "The wave number is 0.1019367991845056\n",
      "The shallow water phase speed is 3.132091952673165\n"
     ]
    }
   ],
   "source": [
    "numberandspeed(1,1)"
   ]
  },
  {
   "cell_type": "markdown",
   "metadata": {},
   "source": [
    "### CODE V2:"
   ]
  },
  {
   "cell_type": "code",
   "execution_count": 11,
   "metadata": {},
   "outputs": [
    {
     "data": {
      "text/plain": [
       "0.000216176908232161"
      ]
     },
     "execution_count": 11,
     "metadata": {},
     "output_type": "execute_result"
    }
   ],
   "source": [
    "x = symbols('x')\n",
    "nsolve(sin(x)-x, x, 1)"
   ]
  },
  {
   "cell_type": "code",
   "execution_count": 12,
   "metadata": {},
   "outputs": [
    {
     "data": {
      "text/plain": [
       "3.22760743836793e-7"
      ]
     },
     "execution_count": 12,
     "metadata": {},
     "output_type": "execute_result"
    }
   ],
   "source": [
    "omega = 1\n",
    "h = 1\n",
    "k = symbols('k')\n",
    "y = omega**2\n",
    "nsolve(g*k*tanh(k*h), k, y)"
   ]
  },
  {
   "cell_type": "code",
   "execution_count": 34,
   "metadata": {},
   "outputs": [],
   "source": [
    "def numberandspeed (omega, h):\n",
    "    k = symbols('k')\n",
    "    k = nsolve(g*k*tanh(k*h), k, omega**2)\n",
    "    kh = k * h\n",
    "    print(\"The wave number is {}\".format(k))\n",
    "    if kh <= pi/10:\n",
    "         c = math.sqrt(g*h)\n",
    "         print(\"The shallow water phase speed is {}\".format(c))\n",
    "    elif kh > pi:\n",
    "         c = g/omega\n",
    "         print(\"The deepwater phase speed is {}\".format(c))\n",
    "    else:\n",
    "        c = (g/omega)*(math.tanh((omega*(math.sqrt(h/g)))**(3/2))**(2/3))\n",
    "        print(\"The intermediate phase speed is {}\".format(c)) "
   ]
  },
  {
   "cell_type": "code",
   "execution_count": 35,
   "metadata": {},
   "outputs": [
    {
     "name": "stdout",
     "output_type": "stream",
     "text": [
      "The wave number is 3.22760743836793E-7\n",
      "The shallow water phase speed is 3.132091952673165\n"
     ]
    }
   ],
   "source": [
    "numberandspeed(1,1)"
   ]
  },
  {
   "cell_type": "markdown",
   "metadata": {},
   "source": [
    "## V3 Fenton and McKee"
   ]
  },
  {
   "cell_type": "code",
   "execution_count": 27,
   "metadata": {},
   "outputs": [
    {
     "data": {
      "text/plain": [
       "1.63296183958691*pi"
      ]
     },
     "execution_count": 27,
     "metadata": {},
     "output_type": "execute_result"
    }
   ],
   "source": [
    "T = 1\n",
    "h = 1\n",
    "L = (g*(T**2)/2*pi)*(math.tanh((2*pi*math.sqrt(h/g)/T)**3/2))**2/3\n",
    "L"
   ]
  },
  {
   "cell_type": "code",
   "execution_count": 44,
   "metadata": {},
   "outputs": [],
   "source": [
    "omega = (2*pi)/8.5\n",
    "omega\n",
    "h=20\n",
    "T = 8.5"
   ]
  },
  {
   "cell_type": "code",
   "execution_count": 45,
   "metadata": {},
   "outputs": [
    {
     "name": "stdout",
     "output_type": "stream",
     "text": [
      "96.79038235484877\n"
     ]
    }
   ],
   "source": [
    "L = ((g*T**2)/(2*pi))*(math.tanh((((2*pi)/T)*((h/g)**0.5))**(3/2)))**(2/3)\n",
    "print(L)"
   ]
  },
  {
   "cell_type": "code",
   "execution_count": 32,
   "metadata": {},
   "outputs": [],
   "source": [
    "def numberandspeed (omega, h):\n",
    "    T = (2*pi)/omega\n",
    "    L = ((g*T**2)/(2*pi))*(math.tanh((((2*pi)/T)*((h/g)**0.5))**(3/2)))**(2/3)\n",
    "    k = (2*pi)/L\n",
    "    kh = k * h\n",
    "    print(\"The wave number is {}\".format(k))\n",
    "    if kh <= pi/10:\n",
    "         c = math.sqrt(g*h)\n",
    "         print(\"The shallow water phase speed is {}\".format(c))\n",
    "    elif kh > pi:\n",
    "         c = g/omega\n",
    "         print(\"The deepwater phase speed is {}\".format(c))\n",
    "    else:\n",
    "        c = (g/omega)*(math.tanh((omega*(math.sqrt(h/g)))**(3/2))**(2/3))\n",
    "        print(\"The intermediate phase speed is {}\".format(c)) "
   ]
  },
  {
   "cell_type": "code",
   "execution_count": 33,
   "metadata": {},
   "outputs": [
    {
     "name": "stdout",
     "output_type": "stream",
     "text": [
      "The wave number is 0.321575432229021\n",
      "The intermediate phase speed is 3.109690292782741\n"
     ]
    }
   ],
   "source": [
    "numberandspeed(1,1)"
   ]
  },
  {
   "cell_type": "markdown",
   "metadata": {},
   "source": [
    "# WAVETRANSFORMATION"
   ]
  },
  {
   "cell_type": "markdown",
   "metadata": {},
   "source": [
    "(1) shoaling coefficient, (2) refraction coefficient (assume a plane beach), (3) approach angle, and (4) group speed given inputs of (a) angular frequency, (b) water depth, (c) wavenumber at water depth, and (d) deepwater approach angle."
   ]
  },
  {
   "cell_type": "code",
   "execution_count": 9,
   "metadata": {},
   "outputs": [],
   "source": [
    "def wavetransformation (omega, h, k, alpha_0):\n",
    "    T = (2 * pi) / omega\n",
    "    c = omega/k\n",
    "    n = 0.5*(1 + (2*k*h)/(math.sinh(2*k*h)))\n",
    "    n_0 = 0.5\n",
    "    L = (2 * pi)/k\n",
    "    L_0 = (g*(T**2))/(2*pi)\n",
    "    #solve for cg\n",
    "    cg = n*c\n",
    "    print(\"The group phase speed (cg) is {}\".format(cg))\n",
    "    #solve for alpha\n",
    "    alpha = math.asin((math.sin(alpha_0) * (omega**2))/(g*k))\n",
    "    print(\"The approach angle (alpha) is {}\".format(alpha))\n",
    "    #solve for Kr\n",
    "    Kr = ((math.cos(alpha_0))/math.cos(alpha))**(0.5)\n",
    "    print(\"The refraction coefficient (Kr) is {}\".format(Kr))\n",
    "    #solve for Ks\n",
    "    Ks = math.sqrt((n_0 * L_0)/(n * L))\n",
    "    print(\"The shoaling coefficient is {}\".format(Ks))"
   ]
  },
  {
   "cell_type": "code",
   "execution_count": 10,
   "metadata": {},
   "outputs": [
    {
     "name": "stdout",
     "output_type": "stream",
     "text": [
      "The group phase speed (cg) is 0.7757205647717833\n",
      "The approach angle (alpha) is 0.08588239489396102\n",
      "The refraction coefficient (Kr) is 0.7364109077081349\n",
      "The shoaling coefficient is 2.5145880849185116\n"
     ]
    }
   ],
   "source": [
    "wavetransformation(1,1,1,1)"
   ]
  },
  {
   "cell_type": "markdown",
   "metadata": {},
   "source": [
    "# WAVEPROPERTIES"
   ]
  },
  {
   "cell_type": "markdown",
   "metadata": {},
   "source": [
    "(1) wave amplitude, (2) free surface elevation, (3) orbital velocity (u,v,w), (4) pressure, and (5) energy given inputs of (a) angular frequency, (b) water depth, (c) wavenumber at water depth, (d) approach angle, (e) shoaling coefficient, (f) refraction coeffcient, (g) elevation of interest (z value), (h) time (or x,y) of interest [assume (x,y) is zero and evaluate over time], and (i) deepwater amplitude."
   ]
  },
  {
   "cell_type": "code",
   "execution_count": 24,
   "metadata": {},
   "outputs": [],
   "source": [
    "def waveproperties(omega, h, k, alpha, Ks, Kr, z, t, a_0):\n",
    "  rho = 1030 #kg/m^3, can declare above\n",
    "  f_z = [math.cosh(k*(h+z))]/[math.cosh(k*h)]\n",
    "  phasefunc = (k*x) - (omega*t ) #############################################\n",
    "  #solve for a\n",
    "  a = a_0*Ks*Kr\n",
    "  #solve for E\n",
    "  E = (rho*g*(a**2))/2"
   ]
  },
  {
   "cell_type": "code",
   "execution_count": 25,
   "metadata": {},
   "outputs": [],
   "source": [
    "def waveproperties(omega, h, k, alpha, Ks, Kr, z, t, a_0):\n",
    "  rho = 1030 #kg/m^3, can declare above\n",
    "  theta = -omega* t #phase function\n",
    "  f_z = [math.cosh(k*(h+z))]/[math.cosh(k*h)]\n",
    "  ?"
   ]
  },
  {
   "cell_type": "markdown",
   "metadata": {},
   "source": [
    "## Final function"
   ]
  },
  {
   "cell_type": "code",
   "execution_count": 26,
   "metadata": {},
   "outputs": [],
   "source": [
    "def waveproperties(omega, h, k, alpha, Ks, Kr, z, t, a_0):\n",
    "  rho = 1030 #kg/m^3, can declare above\n",
    "  theta = -omega*t #phase function\n",
    "  f_z = math.cosh(k*(h+z))/math.cosh(k*h)\n",
    "  #solve for a (amplitude)\n",
    "  a = a_0*Ks*Kr\n",
    "  print(\"The amplitude (a) is {} m\".format(a))\n",
    "  #solve for E (Energy)\n",
    "  E = (rho*g*(a**2))/2\n",
    "  print(\"The total energy (E) is {} kj\".format(E))\n",
    "  #solve for eta (free surface elevation)\n",
    "  eta = a*math.cos(theta)\n",
    "  print(\"The free surface elevation (eta) is {} m\".format(eta))\n",
    "  #solve for p (pressure)\n",
    "  p = (-rho*g*z) + (rho*g*a*f_z*(math.cos(theta)))\n",
    "  print(\"The pressure (p) is {} kg/ms^2\".format(p))\n",
    "  #solve for u,v,w\n",
    "  u = (g*a*k*f_z*(math.cos(theta))/omega)\n",
    "  w = ((g*a*k)/omega)  * ((math.sinh(k*(h+z)))/math.cosh(k*h)) * math.sin(theta)\n",
    "  v = u*math.tan(alpha)\n",
    "  print(\"u is {} m/s\".format(u))\n",
    "  print(\"w is {} m/s\".format(w))\n",
    "  print(\"v is {} m/s\".format(v))\n",
    "    "
   ]
  },
  {
   "cell_type": "code",
   "execution_count": 23,
   "metadata": {},
   "outputs": [
    {
     "name": "stdout",
     "output_type": "stream",
     "text": [
      "The amplitude (a) is 1 m\n",
      "The total energy (E) is 5052.150000000001 kj\n",
      "The free surface elevation (eta) is 0.5403023058681398 m\n",
      "The pressure (p) is 3206.244255704445 kg/ms^2\n",
      "u is 12.922858500683928 m/s\n",
      "w is -19.402172987067413 m/s\n",
      "v is 20.126159653587415 m/s\n"
     ]
    }
   ],
   "source": [
    "waveproperties(1,1,1,1,1,1,1,1,1)"
   ]
  },
  {
   "cell_type": "code",
   "execution_count": null,
   "metadata": {},
   "outputs": [],
   "source": []
  },
  {
   "cell_type": "code",
   "execution_count": null,
   "metadata": {},
   "outputs": [],
   "source": []
  }
 ],
 "metadata": {
  "kernelspec": {
   "display_name": "Python 3",
   "language": "python",
   "name": "python3"
  },
  "language_info": {
   "codemirror_mode": {
    "name": "ipython",
    "version": 3
   },
   "file_extension": ".py",
   "mimetype": "text/x-python",
   "name": "python",
   "nbconvert_exporter": "python",
   "pygments_lexer": "ipython3",
   "version": "3.6.5"
  }
 },
 "nbformat": 4,
 "nbformat_minor": 4
}
