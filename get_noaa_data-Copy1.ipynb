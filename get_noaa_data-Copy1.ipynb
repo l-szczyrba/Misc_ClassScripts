{
 "cells": [
  {
   "cell_type": "code",
   "execution_count": 1,
   "metadata": {
    "pycharm": {}
   },
   "outputs": [],
   "source": [
    "import requests\n",
    "data_dict = {}\n",
    "URL='https://tidesandcurrents.noaa.gov/api/datagetter'\n",
    "for i in range(1990, 2020):\n",
    "    year = i\n",
    "    # end_year = i+1\n",
    "    PARAMS= {\n",
    "        'begin_date': \"{}0101 00:00\".format(year),\n",
    "        'end_date': \"{}1231 23:59\".format(year),\n",
    "        'station': '8638610',\n",
    "        'product': 'hourly_height',\n",
    "        'datum': 'NAVD',\n",
    "        'units': 'english',\n",
    "        'time_zone': 'gmt',\n",
    "        'application': 'ports_screen',\n",
    "        'format': 'json',\n",
    "    }\n",
    "    r = requests.get(url = URL, params = PARAMS)\n",
    "\n",
    "    data_dict[year] = r.json()"
   ]
  },
  {
   "cell_type": "code",
   "execution_count": 2,
   "metadata": {
    "pycharm": {
     "metadata": false,
     "name": "#%%\n"
    }
   },
   "outputs": [
    {
     "name": "stdout",
     "output_type": "stream",
     "text": [
      "1990\n",
      "1991\n",
      "1992\n",
      "1993\n",
      "1994\n",
      "1995\n",
      "1996\n",
      "1997\n",
      "1998\n",
      "1999\n",
      "2000\n",
      "2001\n",
      "2002\n",
      "2003\n",
      "2004\n",
      "2005\n",
      "2006\n",
      "2007\n",
      "2008\n",
      "2009\n",
      "2010\n",
      "2011\n",
      "2012\n",
      "2013\n",
      "2014\n",
      "2015\n",
      "2016\n",
      "2017\n",
      "2018\n",
      "2019\n"
     ]
    }
   ],
   "source": [
    "with open('data.txt', 'w') as f:\n",
    "    for i in range(1990, 2020):\n",
    "        print(i)\n",
    "        key = data_dict[i]['data']\n",
    "        for j in range(0, 100):\n",
    "            j = '{:04}'.format(j)\n",
    "            f.write('{} {} {}\\n'.format(i, key[int(j)]['t'], key[int(j)]['v']))\n",
    "f.close()"
   ]
  },
  {
   "cell_type": "code",
   "execution_count": 5,
   "metadata": {
    "pycharm": {
     "metadata": false,
     "name": "#%%#%%\n"
    }
   },
   "outputs": [
    {
     "ename": "AttributeError",
     "evalue": "'_io.TextIOWrapper' object has no attribute 'save'",
     "output_type": "error",
     "traceback": [
      "\u001b[0;31m---------------------------------------------------------------------------\u001b[0m",
      "\u001b[0;31mAttributeError\u001b[0m                            Traceback (most recent call last)",
      "\u001b[0;32m<ipython-input-5-3c86e16768d8>\u001b[0m in \u001b[0;36m<module>\u001b[0;34m()\u001b[0m\n\u001b[0;32m----> 1\u001b[0;31m \u001b[0mf\u001b[0m\u001b[0;34m.\u001b[0m\u001b[0msave\u001b[0m\u001b[0;34m\u001b[0m\u001b[0m\n\u001b[0m",
      "\u001b[0;31mAttributeError\u001b[0m: '_io.TextIOWrapper' object has no attribute 'save'"
     ]
    }
   ],
   "source": [
    "f.save"
   ]
  },
  {
   "cell_type": "code",
   "execution_count": null,
   "metadata": {},
   "outputs": [],
   "source": []
  }
 ],
 "metadata": {
  "kernelspec": {
   "display_name": "Python 3",
   "language": "python",
   "name": "python3"
  },
  "language_info": {
   "codemirror_mode": {
    "name": "ipython",
    "version": 3
   },
   "file_extension": ".py",
   "mimetype": "text/x-python",
   "name": "python",
   "nbconvert_exporter": "python",
   "pygments_lexer": "ipython3",
   "version": "3.6.5"
  },
  "stem_cell": {
   "cell_type": "raw",
   "metadata": {
    "pycharm": {
     "metadata": false
    }
   },
   "source": ""
  }
 },
 "nbformat": 4,
 "nbformat_minor": 1
}
