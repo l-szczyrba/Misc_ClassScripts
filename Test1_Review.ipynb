{
 "cells": [
  {
   "cell_type": "code",
   "execution_count": 2,
   "metadata": {},
   "outputs": [],
   "source": [
    "import math\n",
    "import pandas as pd\n",
    "import numpy as np\n",
    "import matplotlib.pyplot as plt\n",
    "import scipy.integrate as integrate"
   ]
  },
  {
   "cell_type": "code",
   "execution_count": 3,
   "metadata": {},
   "outputs": [],
   "source": [
    "pi = math.pi\n",
    "g = 9.81 #m/s^2\n",
    "rho = 1030 #kg/m^2"
   ]
  },
  {
   "cell_type": "code",
   "execution_count": 7,
   "metadata": {},
   "outputs": [],
   "source": [
    "#define parameters\n",
    "d = 0.2/1000\n",
    "\n",
    "SG_s = 2.65 #specific gravity for quartz\n",
    "g = 9.81 #gravitational accel in m/s**2\n",
    "rho_w = 1000 #density of freshwater\n",
    "k = 1.12*10**(-6) #kinematic viscosity freshwater"
   ]
  },
  {
   "cell_type": "code",
   "execution_count": 9,
   "metadata": {},
   "outputs": [],
   "source": [
    "sol = [0]\n",
    "solindex = 0\n",
    "\n",
    "iteration = 0\n",
    "initial_guess_C_D = 10 # input initial CD guess\n",
    "C_D = initial_guess_C_D\n",
    "\n",
    "_break = True\n",
    "\n",
    "while _break == True: \n",
    "    previous_guess = C_D\n",
    "    w = ((4*(SG_s-1)*g*d)/(3*C_D))**(0.5)\n",
    "    Re = w*d/k\n",
    "    C_D = 24/Re*(1+(3*Re/16))**(0.5)\n",
    "    error = abs(C_D-previous_guess) # calculate error\n",
    "    if (error <= 0.000000001) or (error == 0): # break when the error threshold is met\n",
    "        _break = False\n",
    "    iteration += 1\n",
    "\n",
    "sol[solindex] = w #converged solution added\n",
    "solindex += 1 "
   ]
  },
  {
   "cell_type": "code",
   "execution_count": 10,
   "metadata": {},
   "outputs": [
    {
     "data": {
      "text/plain": [
       "0.023929793128503837"
      ]
     },
     "execution_count": 10,
     "metadata": {},
     "output_type": "execute_result"
    }
   ],
   "source": [
    "sol[0]"
   ]
  },
  {
   "cell_type": "code",
   "execution_count": 11,
   "metadata": {},
   "outputs": [],
   "source": [
    "H = 3.00 #m\n",
    "h = 5.0 #m\n",
    "T = 12.0 #-s"
   ]
  },
  {
   "cell_type": "code",
   "execution_count": 13,
   "metadata": {},
   "outputs": [
    {
     "data": {
      "text/plain": [
       "83.08455040214012"
      ]
     },
     "execution_count": 13,
     "metadata": {},
     "output_type": "execute_result"
    }
   ],
   "source": [
    "L1 = ((g*T**2)/(2*pi))*(math.tanh((((2*pi)/T)*((h/g)**0.5))**(3/2)))**(2/3) #fenton mckee\n",
    "L1"
   ]
  },
  {
   "cell_type": "code",
   "execution_count": 14,
   "metadata": {},
   "outputs": [],
   "source": [
    "sol = [0]\n",
    "solindex = 0\n",
    "\n",
    "iteration = 0\n",
    "initial_guess = 83.1 # input initial wavelength guess\n",
    "L = initial_guess\n",
    "\n",
    "_break = True\n",
    "\n",
    "while _break == True: \n",
    "    previous_guess = L\n",
    "    k = (2*pi)/L\n",
    "    L = ((g * (T**2)) / (2*pi)) * math.tanh(k * h)\n",
    "    error = abs(L-previous_guess) # calculate errorp\n",
    "    if (error <= 0.000000001) or (error == 0): # break when the error threshold is met\n",
    "        _break = False\n",
    "    iteration += 1\n",
    "\n",
    "sol[solindex] = L #converged solution added\n",
    "solindex += 1"
   ]
  },
  {
   "cell_type": "code",
   "execution_count": 15,
   "metadata": {},
   "outputs": [
    {
     "data": {
      "text/plain": [
       "82.08155638644517"
      ]
     },
     "execution_count": 15,
     "metadata": {},
     "output_type": "execute_result"
    }
   ],
   "source": [
    "sol[0]"
   ]
  },
  {
   "cell_type": "code",
   "execution_count": 16,
   "metadata": {},
   "outputs": [
    {
     "data": {
      "text/plain": [
       "0.36096932243320357"
      ]
     },
     "execution_count": 16,
     "metadata": {},
     "output_type": "execute_result"
    }
   ],
   "source": [
    "math.tanh(0.378)"
   ]
  },
  {
   "cell_type": "code",
   "execution_count": 18,
   "metadata": {},
   "outputs": [
    {
     "data": {
      "text/plain": [
       "0.39189549169055693"
      ]
     },
     "execution_count": 18,
     "metadata": {},
     "output_type": "execute_result"
    }
   ],
   "source": [
    "math.sinh(0.3825)"
   ]
  },
  {
   "cell_type": "code",
   "execution_count": 19,
   "metadata": {},
   "outputs": [
    {
     "data": {
      "text/plain": [
       "0.22507922688183032"
      ]
     },
     "execution_count": 19,
     "metadata": {},
     "output_type": "execute_result"
    }
   ],
   "source": [
    "math.tanh(0.229)"
   ]
  },
  {
   "cell_type": "code",
   "execution_count": 20,
   "metadata": {},
   "outputs": [
    {
     "data": {
      "text/plain": [
       "0.8177540779702877"
      ]
     },
     "execution_count": 20,
     "metadata": {},
     "output_type": "execute_result"
    }
   ],
   "source": [
    "math.tanh(1.15)"
   ]
  },
  {
   "cell_type": "code",
   "execution_count": 21,
   "metadata": {},
   "outputs": [],
   "source": [
    "H = 3.5 #m\n",
    "h = 30.0 #m\n",
    "T = 10.0 #-s"
   ]
  },
  {
   "cell_type": "code",
   "execution_count": 22,
   "metadata": {},
   "outputs": [
    {
     "data": {
      "text/plain": [
       "136.59749917235396"
      ]
     },
     "execution_count": 22,
     "metadata": {},
     "output_type": "execute_result"
    }
   ],
   "source": [
    "L1 = ((g*T**2)/(2*pi))*(math.tanh((((2*pi)/T)*((h/g)**0.5))**(3/2)))**(2/3) #fenton mckee\n",
    "L1"
   ]
  },
  {
   "cell_type": "code",
   "execution_count": 23,
   "metadata": {},
   "outputs": [
    {
     "data": {
      "text/plain": [
       "0.8868553715868672"
      ]
     },
     "execution_count": 23,
     "metadata": {},
     "output_type": "execute_result"
    }
   ],
   "source": [
    "math.tanh(1.407)"
   ]
  },
  {
   "cell_type": "code",
   "execution_count": 24,
   "metadata": {},
   "outputs": [
    {
     "data": {
      "text/plain": [
       "0.8822877370052256"
      ]
     },
     "execution_count": 24,
     "metadata": {},
     "output_type": "execute_result"
    }
   ],
   "source": [
    "math.tanh(1.386)"
   ]
  },
  {
   "cell_type": "code",
   "execution_count": 25,
   "metadata": {},
   "outputs": [],
   "source": [
    "H = 3.5 #m\n",
    "h = 30.0 #m\n",
    "T = 10.0 #-s"
   ]
  },
  {
   "cell_type": "code",
   "execution_count": 26,
   "metadata": {},
   "outputs": [],
   "source": [
    "sol = [0]\n",
    "solindex = 0\n",
    "\n",
    "iteration = 0\n",
    "initial_guess = 134 # input initial wavelength guess\n",
    "L = initial_guess\n",
    "\n",
    "_break = True\n",
    "\n",
    "while _break == True: \n",
    "    previous_guess = L\n",
    "    k = (2*pi)/L\n",
    "    L = ((g * (T**2)) / (2*pi)) * math.tanh(k * h)\n",
    "    error = abs(L-previous_guess) # calculate errorp\n",
    "    if (error <= 0.000000001) or (error == 0): # break when the error threshold is met\n",
    "        _break = False\n",
    "    iteration += 1\n",
    "\n",
    "sol[solindex] = L #converged solution added\n",
    "solindex += 1"
   ]
  },
  {
   "cell_type": "code",
   "execution_count": 27,
   "metadata": {},
   "outputs": [
    {
     "data": {
      "text/plain": [
       "137.29489294711877"
      ]
     },
     "execution_count": 27,
     "metadata": {},
     "output_type": "execute_result"
    }
   ],
   "source": [
    "sol[0]"
   ]
  },
  {
   "cell_type": "code",
   "execution_count": 28,
   "metadata": {},
   "outputs": [
    {
     "data": {
      "text/plain": [
       "7.245993500126572"
      ]
     },
     "execution_count": 28,
     "metadata": {},
     "output_type": "execute_result"
    }
   ],
   "source": [
    "math.cosh(2.6688)"
   ]
  },
  {
   "cell_type": "code",
   "execution_count": 30,
   "metadata": {},
   "outputs": [
    {
     "data": {
      "text/plain": [
       "8.028491220325092"
      ]
     },
     "execution_count": 30,
     "metadata": {},
     "output_type": "execute_result"
    }
   ],
   "source": [
    "math.sinh(2.78)"
   ]
  },
  {
   "cell_type": "code",
   "execution_count": 36,
   "metadata": {},
   "outputs": [],
   "source": [
    "a_freq = 0.370\n",
    "k = 0.0139\n",
    "h_0 = 200\n",
    "z = -8\n",
    "eta = 2 \n",
    "rho = 1030"
   ]
  },
  {
   "cell_type": "code",
   "execution_count": 35,
   "metadata": {},
   "outputs": [
    {
     "data": {
      "text/plain": [
       "0.6678758241049109"
      ]
     },
     "execution_count": 35,
     "metadata": {},
     "output_type": "execute_result"
    }
   ],
   "source": [
    "u = a_freq*((math.cosh(k*(h_0+z)))/(math.sinh(k*h_0)))* eta # m/s\n",
    "u"
   ]
  },
  {
   "cell_type": "code",
   "execution_count": 38,
   "metadata": {},
   "outputs": [
    {
     "data": {
      "text/plain": [
       "98933.509597888042"
      ]
     },
     "execution_count": 38,
     "metadata": {},
     "output_type": "execute_result"
    }
   ],
   "source": [
    "p = (rho*g*eta)*((np.cosh(k*(h_0+z)))/np.cosh(k*h_0)) - (rho*g*z) # Pa or N/m^2\n",
    "p"
   ]
  },
  {
   "cell_type": "code",
   "execution_count": 41,
   "metadata": {},
   "outputs": [],
   "source": [
    "H = 4 #m\n",
    "h = 8 #m\n",
    "T = 17 #-s"
   ]
  },
  {
   "cell_type": "code",
   "execution_count": 42,
   "metadata": {},
   "outputs": [
    {
     "data": {
      "text/plain": [
       "149.3725748179091"
      ]
     },
     "execution_count": 42,
     "metadata": {},
     "output_type": "execute_result"
    }
   ],
   "source": [
    "L1 = ((g*T**2)/(2*pi))*(math.tanh((((2*pi)/T)*((h/g)**0.5))**(3/2)))**(2/3) #fenton mckee\n",
    "L1"
   ]
  },
  {
   "cell_type": "code",
   "execution_count": 43,
   "metadata": {},
   "outputs": [
    {
     "data": {
      "text/plain": [
       "104.434921345555"
      ]
     },
     "execution_count": 43,
     "metadata": {},
     "output_type": "execute_result"
    }
   ],
   "source": [
    "H = 2.00 #m\n",
    "h = 5.0 #m\n",
    "T = 15.0 #-s\n",
    "\n",
    "L1 = ((g*T**2)/(2*pi))*(math.tanh((((2*pi)/T)*((h/g)**0.5))**(3/2)))**(2/3) #fenton mckee\n",
    "L1"
   ]
  },
  {
   "cell_type": "code",
   "execution_count": null,
   "metadata": {},
   "outputs": [],
   "source": []
  }
 ],
 "metadata": {
  "kernelspec": {
   "display_name": "Python 3",
   "language": "python",
   "name": "python3"
  },
  "language_info": {
   "codemirror_mode": {
    "name": "ipython",
    "version": 3
   },
   "file_extension": ".py",
   "mimetype": "text/x-python",
   "name": "python",
   "nbconvert_exporter": "python",
   "pygments_lexer": "ipython3",
   "version": "3.6.5"
  }
 },
 "nbformat": 4,
 "nbformat_minor": 4
}
