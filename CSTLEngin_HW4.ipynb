{
 "cells": [
  {
   "cell_type": "markdown",
   "metadata": {},
   "source": [
    "Coastal Engineering - Homework 4"
   ]
  },
  {
   "cell_type": "markdown",
   "metadata": {},
   "source": [
    "Honor Code Pledge: \"I have neither given nor received unauthorized assistance on this assignment.\"\n",
    "\n",
    "Signature:"
   ]
  },
  {
   "cell_type": "code",
   "execution_count": 67,
   "metadata": {},
   "outputs": [],
   "source": [
    "import pandas as pd\n",
    "import math\n",
    "import numpy as np\n",
    "import seaborn as sns\n",
    "import matplotlib.pyplot as plt\n",
    "\n",
    "g = 9.81 # m/s^2\n",
    "pi = math.pi\n",
    "rho = 1030 #kg/m^2"
   ]
  },
  {
   "cell_type": "markdown",
   "metadata": {},
   "source": [
    "1)"
   ]
  },
  {
   "cell_type": "markdown",
   "metadata": {},
   "source": [
    "a)  "
   ]
  },
  {
   "cell_type": "markdown",
   "metadata": {},
   "source": [
    "- Given: A constant depth when h = 4 m and when h = 8 m when the wind speed is 45 m/s (at 10-m elevation). Assume wind setup is zero at x = 0. \n",
    "\n",
    "- Find: Plot wind setup versus distance (from x = 0 to 50 km), Show calculations and final value of wind setup when x = 50 km for both cases in part (a). \n",
    "\n",
    "- Principles: \\\n",
    ") \\\n",
    ") \\\n",
    ")"
   ]
  },
  {
   "cell_type": "code",
   "execution_count": 68,
   "metadata": {},
   "outputs": [],
   "source": [
    "Cf = 0.000002\n",
    "W = 45 #m/s\n",
    "h_4 = 4 #m\n",
    "h_8 = 8 #m\n",
    "x = pd.Series(range(0,50001)) #m"
   ]
  },
  {
   "cell_type": "code",
   "execution_count": 69,
   "metadata": {},
   "outputs": [],
   "source": [
    "wind_stress = rho*Cf*(W**2)\n",
    "setup_a = x*wind_stress/(rho*g*h_4)\n",
    "setup_b = x*wind_stress/(rho*g*h_8)\n",
    "\n",
    "setup_a = pd.DataFrame(setup_a).rename(columns={ 0: \"Setup_h4\"})\n",
    "setup_b = pd.DataFrame(setup_b).rename(columns={ 0: \"Setup_h8\"})\n",
    "\n",
    "Setup = pd.concat([setup_a, setup_b], axis=1)"
   ]
  },
  {
   "cell_type": "code",
   "execution_count": 70,
   "metadata": {},
   "outputs": [
    {
     "data": {
      "image/png": "[encoded data removed]",
      "text/plain": [
       "<Figure size 432x288 with 1 Axes>"
      ]
     },
     "metadata": {},
     "output_type": "display_data"
    }
   ],
   "source": [
    "fig = Setup.plot.line()\n",
    "fig.set_xlabel('Distance (m)')\n",
    "fig.set_ylabel('Wind setup (m)');"
   ]
  },
  {
   "cell_type": "markdown",
   "metadata": {},
   "source": [
    "Sample calculations for x = 50 km:"
   ]
  },
  {
   "cell_type": "code",
   "execution_count": 71,
   "metadata": {},
   "outputs": [],
   "source": [
    "x = 50000 #m aka 50 km\n",
    "setup_50_4 = round(x*wind_stress/(rho*g*h_4), 1)\n",
    "setup_50_8 = round(x*wind_stress/(rho*g*h_8), 1)"
   ]
  },
  {
   "cell_type": "code",
   "execution_count": 75,
   "metadata": {},
   "outputs": [
    {
     "name": "stdout",
     "output_type": "stream",
     "text": [
      "The final value of wind setup when x = 50 km is 5.2 m for a depth of 4 m.\n",
      "The final value of wind setup when x = 50 km is 2.6 m for a depth of 8 m.\n"
     ]
    }
   ],
   "source": [
    "print('The final value of wind setup when x = 50 km is {} m for a depth of \\\n",
    "4 m.'.format(setup_50_4))\n",
    "print('The final value of wind setup when x = 50 km is {} m for a depth of \\\n",
    "8 m.'.format(setup_50_8))"
   ]
  },
  {
   "cell_type": "markdown",
   "metadata": {},
   "source": [
    "b) Discuss your results."
   ]
  },
  {
   "cell_type": "markdown",
   "metadata": {},
   "source": [
    "Wind set up increases linearly as the distance towards shore increases because the wind is blowing over a larger area. The setup is up to 50% higher in a depth of 4 m than a depth of 8 m. Since wind setup is the primary driver of surge, this demonstrates why areas with shallow sloping continental shelf bathymetry (i.e. Louisiana) experience large surges as opposed to areas with deeper, steeper shelves. "
   ]
  },
  {
   "cell_type": "markdown",
   "metadata": {},
   "source": [
    "2) "
   ]
  },
  {
   "cell_type": "markdown",
   "metadata": {},
   "source": [
    "- Given: The hurricane’s central pressure is 940 mb. Assume the far-field barometric pressure is 1013 mb.\n",
    "\n",
    "- Find: Estimate the barometric surge at the center of a hurricane. Discuss your results with respect to those for wind setup in problem 1.\n",
    "\n",
    "- Principles: \\\n",
    ") \\\n",
    ") \\\n",
    ")"
   ]
  },
  {
   "cell_type": "code",
   "execution_count": 57,
   "metadata": {},
   "outputs": [],
   "source": [
    "p_storm = 940 #mb\n",
    "p_far = 1013 #mb"
   ]
  },
  {
   "cell_type": "code",
   "execution_count": 58,
   "metadata": {},
   "outputs": [],
   "source": [
    "surge_barom = round(100*(p_far - p_storm)/(rho*g), 3) #m"
   ]
  },
  {
   "cell_type": "code",
   "execution_count": 59,
   "metadata": {},
   "outputs": [
    {
     "name": "stdout",
     "output_type": "stream",
     "text": [
      "The value of barometric surge is 0.722 m.\n"
     ]
    }
   ],
   "source": [
    "print('The value of barometric surge is {} m.'.format(surge_barom))"
   ]
  },
  {
   "cell_type": "markdown",
   "metadata": {},
   "source": [
    "The contribution of barometric surge is much smaller than the contribbution of wind surge, with the barometric surge value being 72 - 86% smaller than the wind surges at depths of 4 and 8 meters.  "
   ]
  },
  {
   "cell_type": "markdown",
   "metadata": {},
   "source": [
    "3)"
   ]
  },
  {
   "cell_type": "markdown",
   "metadata": {},
   "source": [
    "Hurricane Michael:\n",
    "\n",
    "- The minimum central pressure upon landfall during Hurricane Michael was 920 mb, this is the 3rd lowest pressure ever recorded of a US-landfalling hurricane. With this minimum pressure measurement, and assuming that the prevailing atmospheric pressure is regularly 1013 mb, the barometric surge produced by Michael is estimated to be 0.92 m, pretty significant! \n",
    "\n",
    "- The storm surge was most intense at Mexico Beach, with USGS storm tide pressure sensors measuring water levels about 4.7 m above NAVD88 (this is about 4.5 m above Mean Higher High Water [MHHW] levels for that area). This measurement was also wave filtered, meaning that waves were not accounted for. Such high water levels plus waves resulted in significant devastation of coastal homes along Mexico Beach.  \n",
    "\n",
    "- After weakening, Michael passed through Norfolk, Virginia. The storm was undergoing extratropical transition, however the maximum sustained winds were still approximately 65 mph or 30 m/s. The storm even produced a surge of 1 m above normal tidal levels at the Lewisetta Station in Virginia (this is 0.65 meters above MHHW) resulting in flooding along coastal Virginia. "
   ]
  },
  {
   "cell_type": "markdown",
   "metadata": {},
   "source": [
    "References: \n",
    "\n",
    "Beven, J. L., Berg, R., & Hagen, A. (2019). Hurricane Michael (AL142018). National Hurricane Center Tropical Cyclone Report."
   ]
  },
  {
   "cell_type": "code",
   "execution_count": null,
   "metadata": {},
   "outputs": [],
   "source": []
  }
 ],
 "metadata": {
  "kernelspec": {
   "display_name": "Python 3",
   "language": "python",
   "name": "python3"
  },
  "language_info": {
   "codemirror_mode": {
    "name": "ipython",
    "version": 3
   },
   "file_extension": ".py",
   "mimetype": "text/x-python",
   "name": "python",
   "nbconvert_exporter": "python",
   "pygments_lexer": "ipython3",
   "version": "3.6.5"
  }
 },
 "nbformat": 4,
 "nbformat_minor": 4
}
