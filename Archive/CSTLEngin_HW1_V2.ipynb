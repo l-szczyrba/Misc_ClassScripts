{
 "cells": [
  {
   "cell_type": "markdown",
   "metadata": {},
   "source": [
    "# Load Packages"
   ]
  },
  {
   "cell_type": "code",
   "execution_count": 20,
   "metadata": {},
   "outputs": [],
   "source": [
    "import pandas as pd\n",
    "import numpy as np\n",
    "import seaborn as sns\n",
    "import matplotlib.pyplot as plt\n",
    "import scipy.integrate as integrate"
   ]
  },
  {
   "cell_type": "markdown",
   "metadata": {},
   "source": [
    "# Load and Clean Dataframe"
   ]
  },
  {
   "cell_type": "code",
   "execution_count": 21,
   "metadata": {},
   "outputs": [],
   "source": [
    "data = pd.read_table(\"GrainSizeDistribution.dat\", sep=\"\\s+\")"
   ]
  },
  {
   "cell_type": "code",
   "execution_count": 22,
   "metadata": {},
   "outputs": [
    {
     "data": {
      "text/plain": [
       "Index(['Sediment', 'grain', 'size', 'distribution', '(source', 'US', 'Army',\n",
       "       'Corps', 'of', 'Engineers)'],\n",
       "      dtype='object')"
      ]
     },
     "execution_count": 22,
     "metadata": {},
     "output_type": "execute_result"
    }
   ],
   "source": [
    "data.columns"
   ]
  },
  {
   "cell_type": "code",
   "execution_count": 23,
   "metadata": {},
   "outputs": [],
   "source": [
    "data.drop(['distribution', '(source', 'US', 'Army',\n",
    "       'Corps', 'of', 'Engineers)'], axis=1, inplace=True)\n",
    "data.drop([0,1,2,3], axis=0, inplace=True)\n",
    "data.rename(columns={\"Sediment\": \"GrainSize_mm\", \"grain\": \"Percent\", \"size\":\"CumulativePercCoarser\"}, inplace=True)\n",
    "data = data.astype(np.float)"
   ]
  },
  {
   "cell_type": "code",
   "execution_count": 24,
   "metadata": {},
   "outputs": [
    {
     "data": {
      "text/html": [
       "<div>\n",
       "<style scoped>\n",
       "    .dataframe tbody tr th:only-of-type {\n",
       "        vertical-align: middle;\n",
       "    }\n",
       "\n",
       "    .dataframe tbody tr th {\n",
       "        vertical-align: top;\n",
       "    }\n",
       "\n",
       "    .dataframe thead th {\n",
       "        text-align: right;\n",
       "    }\n",
       "</style>\n",
       "<table border=\"1\" class=\"dataframe\">\n",
       "  <thead>\n",
       "    <tr style=\"text-align: right;\">\n",
       "      <th></th>\n",
       "      <th>GrainSize_mm</th>\n",
       "      <th>Percent</th>\n",
       "      <th>CumulativePercCoarser</th>\n",
       "    </tr>\n",
       "  </thead>\n",
       "  <tbody>\n",
       "    <tr>\n",
       "      <th>4</th>\n",
       "      <td>4.000</td>\n",
       "      <td>0.00</td>\n",
       "      <td>0.00</td>\n",
       "    </tr>\n",
       "    <tr>\n",
       "      <th>5</th>\n",
       "      <td>3.364</td>\n",
       "      <td>0.26</td>\n",
       "      <td>0.26</td>\n",
       "    </tr>\n",
       "    <tr>\n",
       "      <th>6</th>\n",
       "      <td>2.828</td>\n",
       "      <td>0.16</td>\n",
       "      <td>0.42</td>\n",
       "    </tr>\n",
       "    <tr>\n",
       "      <th>7</th>\n",
       "      <td>2.378</td>\n",
       "      <td>0.17</td>\n",
       "      <td>0.59</td>\n",
       "    </tr>\n",
       "    <tr>\n",
       "      <th>8</th>\n",
       "      <td>2.000</td>\n",
       "      <td>0.22</td>\n",
       "      <td>0.81</td>\n",
       "    </tr>\n",
       "    <tr>\n",
       "      <th>9</th>\n",
       "      <td>1.682</td>\n",
       "      <td>0.22</td>\n",
       "      <td>1.03</td>\n",
       "    </tr>\n",
       "    <tr>\n",
       "      <th>10</th>\n",
       "      <td>1.414</td>\n",
       "      <td>0.48</td>\n",
       "      <td>1.51</td>\n",
       "    </tr>\n",
       "    <tr>\n",
       "      <th>11</th>\n",
       "      <td>1.189</td>\n",
       "      <td>0.76</td>\n",
       "      <td>2.27</td>\n",
       "    </tr>\n",
       "    <tr>\n",
       "      <th>12</th>\n",
       "      <td>1.000</td>\n",
       "      <td>0.83</td>\n",
       "      <td>3.10</td>\n",
       "    </tr>\n",
       "    <tr>\n",
       "      <th>13</th>\n",
       "      <td>0.841</td>\n",
       "      <td>1.59</td>\n",
       "      <td>4.69</td>\n",
       "    </tr>\n",
       "    <tr>\n",
       "      <th>14</th>\n",
       "      <td>0.707</td>\n",
       "      <td>2.10</td>\n",
       "      <td>6.79</td>\n",
       "    </tr>\n",
       "    <tr>\n",
       "      <th>15</th>\n",
       "      <td>0.595</td>\n",
       "      <td>2.73</td>\n",
       "      <td>9.52</td>\n",
       "    </tr>\n",
       "    <tr>\n",
       "      <th>16</th>\n",
       "      <td>0.500</td>\n",
       "      <td>6.19</td>\n",
       "      <td>15.71</td>\n",
       "    </tr>\n",
       "    <tr>\n",
       "      <th>17</th>\n",
       "      <td>0.420</td>\n",
       "      <td>4.45</td>\n",
       "      <td>20.16</td>\n",
       "    </tr>\n",
       "    <tr>\n",
       "      <th>18</th>\n",
       "      <td>0.354</td>\n",
       "      <td>7.09</td>\n",
       "      <td>27.25</td>\n",
       "    </tr>\n",
       "    <tr>\n",
       "      <th>19</th>\n",
       "      <td>0.297</td>\n",
       "      <td>9.44</td>\n",
       "      <td>36.69</td>\n",
       "    </tr>\n",
       "    <tr>\n",
       "      <th>20</th>\n",
       "      <td>0.250</td>\n",
       "      <td>17.41</td>\n",
       "      <td>54.10</td>\n",
       "    </tr>\n",
       "    <tr>\n",
       "      <th>21</th>\n",
       "      <td>0.210</td>\n",
       "      <td>13.82</td>\n",
       "      <td>67.92</td>\n",
       "    </tr>\n",
       "    <tr>\n",
       "      <th>22</th>\n",
       "      <td>0.177</td>\n",
       "      <td>15.51</td>\n",
       "      <td>83.43</td>\n",
       "    </tr>\n",
       "    <tr>\n",
       "      <th>23</th>\n",
       "      <td>0.149</td>\n",
       "      <td>9.92</td>\n",
       "      <td>93.35</td>\n",
       "    </tr>\n",
       "    <tr>\n",
       "      <th>24</th>\n",
       "      <td>0.125</td>\n",
       "      <td>4.83</td>\n",
       "      <td>98.18</td>\n",
       "    </tr>\n",
       "    <tr>\n",
       "      <th>25</th>\n",
       "      <td>0.105</td>\n",
       "      <td>1.55</td>\n",
       "      <td>99.73</td>\n",
       "    </tr>\n",
       "    <tr>\n",
       "      <th>26</th>\n",
       "      <td>0.088</td>\n",
       "      <td>0.16</td>\n",
       "      <td>99.89</td>\n",
       "    </tr>\n",
       "    <tr>\n",
       "      <th>27</th>\n",
       "      <td>0.074</td>\n",
       "      <td>0.09</td>\n",
       "      <td>99.98</td>\n",
       "    </tr>\n",
       "    <tr>\n",
       "      <th>28</th>\n",
       "      <td>0.063</td>\n",
       "      <td>0.01</td>\n",
       "      <td>99.99</td>\n",
       "    </tr>\n",
       "    <tr>\n",
       "      <th>29</th>\n",
       "      <td>0.053</td>\n",
       "      <td>0.01</td>\n",
       "      <td>100.00</td>\n",
       "    </tr>\n",
       "  </tbody>\n",
       "</table>\n",
       "</div>"
      ],
      "text/plain": [
       "    GrainSize_mm  Percent  CumulativePercCoarser\n",
       "4          4.000     0.00                   0.00\n",
       "5          3.364     0.26                   0.26\n",
       "6          2.828     0.16                   0.42\n",
       "7          2.378     0.17                   0.59\n",
       "8          2.000     0.22                   0.81\n",
       "9          1.682     0.22                   1.03\n",
       "10         1.414     0.48                   1.51\n",
       "11         1.189     0.76                   2.27\n",
       "12         1.000     0.83                   3.10\n",
       "13         0.841     1.59                   4.69\n",
       "14         0.707     2.10                   6.79\n",
       "15         0.595     2.73                   9.52\n",
       "16         0.500     6.19                  15.71\n",
       "17         0.420     4.45                  20.16\n",
       "18         0.354     7.09                  27.25\n",
       "19         0.297     9.44                  36.69\n",
       "20         0.250    17.41                  54.10\n",
       "21         0.210    13.82                  67.92\n",
       "22         0.177    15.51                  83.43\n",
       "23         0.149     9.92                  93.35\n",
       "24         0.125     4.83                  98.18\n",
       "25         0.105     1.55                  99.73\n",
       "26         0.088     0.16                  99.89\n",
       "27         0.074     0.09                  99.98\n",
       "28         0.063     0.01                  99.99\n",
       "29         0.053     0.01                 100.00"
      ]
     },
     "execution_count": 24,
     "metadata": {},
     "output_type": "execute_result"
    }
   ],
   "source": [
    "data"
   ]
  },
  {
   "cell_type": "code",
   "execution_count": 25,
   "metadata": {},
   "outputs": [],
   "source": [
    "data['CumulativePercFiner'] = 100 - data['CumulativePercCoarser']"
   ]
  },
  {
   "cell_type": "code",
   "execution_count": 26,
   "metadata": {},
   "outputs": [],
   "source": [
    "#data.describe()"
   ]
  },
  {
   "cell_type": "markdown",
   "metadata": {},
   "source": [
    "# --- Question a ---"
   ]
  },
  {
   "cell_type": "markdown",
   "metadata": {},
   "source": [
    "### <span style=\"color:STEELBLUE\">**GIVEN:**</span> grain size (mm)\n",
    "### <span style=\"color:STEELBLUE\">**FIND:**</span> mean and median diameter  \n",
    "### <span style=\"color:STEELBLUE\">**PRINCIPLES:**</span>\n",
    "### Krumbien (1936) Phi Scale:\n",
    "### $\\phi = -\\log_2 d$\n",
    "### Otto (1939 and Inman (1952):\n",
    "### $M_{d\\phi} =  \\frac{(\\phi_{84} + \\phi_{16})}2$\n",
    "### $d_{mean} =  {2}^{-M_{d\\phi}}$\n",
    "### Sorting:\n",
    "### $\\sigma_{\\phi} = \\frac{(\\phi_{84} - \\phi_{16})}2$"
   ]
  },
  {
   "cell_type": "markdown",
   "metadata": {},
   "source": [
    "### <span style=\"color:STEELBLUE\">**SOLUTION:**</span>"
   ]
  },
  {
   "cell_type": "code",
   "execution_count": 27,
   "metadata": {},
   "outputs": [],
   "source": [
    "# Add phi scale column\n",
    "data['phi'] = -np.log2(data.GrainSize_mm)"
   ]
  },
  {
   "cell_type": "code",
   "execution_count": 28,
   "metadata": {},
   "outputs": [
    {
     "data": {
      "text/html": [
       "<div>\n",
       "<style scoped>\n",
       "    .dataframe tbody tr th:only-of-type {\n",
       "        vertical-align: middle;\n",
       "    }\n",
       "\n",
       "    .dataframe tbody tr th {\n",
       "        vertical-align: top;\n",
       "    }\n",
       "\n",
       "    .dataframe thead th {\n",
       "        text-align: right;\n",
       "    }\n",
       "</style>\n",
       "<table border=\"1\" class=\"dataframe\">\n",
       "  <thead>\n",
       "    <tr style=\"text-align: right;\">\n",
       "      <th></th>\n",
       "      <th>GrainSize_mm</th>\n",
       "      <th>Percent</th>\n",
       "      <th>CumulativePercCoarser</th>\n",
       "      <th>CumulativePercFiner</th>\n",
       "      <th>phi</th>\n",
       "    </tr>\n",
       "  </thead>\n",
       "  <tbody>\n",
       "    <tr>\n",
       "      <th>4</th>\n",
       "      <td>4.000</td>\n",
       "      <td>0.00</td>\n",
       "      <td>0.00</td>\n",
       "      <td>100.00</td>\n",
       "      <td>-2.000000</td>\n",
       "    </tr>\n",
       "    <tr>\n",
       "      <th>5</th>\n",
       "      <td>3.364</td>\n",
       "      <td>0.26</td>\n",
       "      <td>0.26</td>\n",
       "      <td>99.74</td>\n",
       "      <td>-1.750178</td>\n",
       "    </tr>\n",
       "    <tr>\n",
       "      <th>6</th>\n",
       "      <td>2.828</td>\n",
       "      <td>0.16</td>\n",
       "      <td>0.42</td>\n",
       "      <td>99.58</td>\n",
       "      <td>-1.499782</td>\n",
       "    </tr>\n",
       "    <tr>\n",
       "      <th>7</th>\n",
       "      <td>2.378</td>\n",
       "      <td>0.17</td>\n",
       "      <td>0.59</td>\n",
       "      <td>99.41</td>\n",
       "      <td>-1.249749</td>\n",
       "    </tr>\n",
       "    <tr>\n",
       "      <th>8</th>\n",
       "      <td>2.000</td>\n",
       "      <td>0.22</td>\n",
       "      <td>0.81</td>\n",
       "      <td>99.19</td>\n",
       "      <td>-1.000000</td>\n",
       "    </tr>\n",
       "    <tr>\n",
       "      <th>9</th>\n",
       "      <td>1.682</td>\n",
       "      <td>0.22</td>\n",
       "      <td>1.03</td>\n",
       "      <td>98.97</td>\n",
       "      <td>-0.750178</td>\n",
       "    </tr>\n",
       "    <tr>\n",
       "      <th>10</th>\n",
       "      <td>1.414</td>\n",
       "      <td>0.48</td>\n",
       "      <td>1.51</td>\n",
       "      <td>98.49</td>\n",
       "      <td>-0.499782</td>\n",
       "    </tr>\n",
       "    <tr>\n",
       "      <th>11</th>\n",
       "      <td>1.189</td>\n",
       "      <td>0.76</td>\n",
       "      <td>2.27</td>\n",
       "      <td>97.73</td>\n",
       "      <td>-0.249749</td>\n",
       "    </tr>\n",
       "    <tr>\n",
       "      <th>12</th>\n",
       "      <td>1.000</td>\n",
       "      <td>0.83</td>\n",
       "      <td>3.10</td>\n",
       "      <td>96.90</td>\n",
       "      <td>-0.000000</td>\n",
       "    </tr>\n",
       "    <tr>\n",
       "      <th>13</th>\n",
       "      <td>0.841</td>\n",
       "      <td>1.59</td>\n",
       "      <td>4.69</td>\n",
       "      <td>95.31</td>\n",
       "      <td>0.249822</td>\n",
       "    </tr>\n",
       "    <tr>\n",
       "      <th>14</th>\n",
       "      <td>0.707</td>\n",
       "      <td>2.10</td>\n",
       "      <td>6.79</td>\n",
       "      <td>93.21</td>\n",
       "      <td>0.500218</td>\n",
       "    </tr>\n",
       "    <tr>\n",
       "      <th>15</th>\n",
       "      <td>0.595</td>\n",
       "      <td>2.73</td>\n",
       "      <td>9.52</td>\n",
       "      <td>90.48</td>\n",
       "      <td>0.749038</td>\n",
       "    </tr>\n",
       "    <tr>\n",
       "      <th>16</th>\n",
       "      <td>0.500</td>\n",
       "      <td>6.19</td>\n",
       "      <td>15.71</td>\n",
       "      <td>84.29</td>\n",
       "      <td>1.000000</td>\n",
       "    </tr>\n",
       "    <tr>\n",
       "      <th>17</th>\n",
       "      <td>0.420</td>\n",
       "      <td>4.45</td>\n",
       "      <td>20.16</td>\n",
       "      <td>79.84</td>\n",
       "      <td>1.251539</td>\n",
       "    </tr>\n",
       "    <tr>\n",
       "      <th>18</th>\n",
       "      <td>0.354</td>\n",
       "      <td>7.09</td>\n",
       "      <td>27.25</td>\n",
       "      <td>72.75</td>\n",
       "      <td>1.498179</td>\n",
       "    </tr>\n",
       "    <tr>\n",
       "      <th>19</th>\n",
       "      <td>0.297</td>\n",
       "      <td>9.44</td>\n",
       "      <td>36.69</td>\n",
       "      <td>63.31</td>\n",
       "      <td>1.751465</td>\n",
       "    </tr>\n",
       "    <tr>\n",
       "      <th>20</th>\n",
       "      <td>0.250</td>\n",
       "      <td>17.41</td>\n",
       "      <td>54.10</td>\n",
       "      <td>45.90</td>\n",
       "      <td>2.000000</td>\n",
       "    </tr>\n",
       "    <tr>\n",
       "      <th>21</th>\n",
       "      <td>0.210</td>\n",
       "      <td>13.82</td>\n",
       "      <td>67.92</td>\n",
       "      <td>32.08</td>\n",
       "      <td>2.251539</td>\n",
       "    </tr>\n",
       "    <tr>\n",
       "      <th>22</th>\n",
       "      <td>0.177</td>\n",
       "      <td>15.51</td>\n",
       "      <td>83.43</td>\n",
       "      <td>16.57</td>\n",
       "      <td>2.498179</td>\n",
       "    </tr>\n",
       "    <tr>\n",
       "      <th>23</th>\n",
       "      <td>0.149</td>\n",
       "      <td>9.92</td>\n",
       "      <td>93.35</td>\n",
       "      <td>6.65</td>\n",
       "      <td>2.746616</td>\n",
       "    </tr>\n",
       "    <tr>\n",
       "      <th>24</th>\n",
       "      <td>0.125</td>\n",
       "      <td>4.83</td>\n",
       "      <td>98.18</td>\n",
       "      <td>1.82</td>\n",
       "      <td>3.000000</td>\n",
       "    </tr>\n",
       "    <tr>\n",
       "      <th>25</th>\n",
       "      <td>0.105</td>\n",
       "      <td>1.55</td>\n",
       "      <td>99.73</td>\n",
       "      <td>0.27</td>\n",
       "      <td>3.251539</td>\n",
       "    </tr>\n",
       "    <tr>\n",
       "      <th>26</th>\n",
       "      <td>0.088</td>\n",
       "      <td>0.16</td>\n",
       "      <td>99.89</td>\n",
       "      <td>0.11</td>\n",
       "      <td>3.506353</td>\n",
       "    </tr>\n",
       "    <tr>\n",
       "      <th>27</th>\n",
       "      <td>0.074</td>\n",
       "      <td>0.09</td>\n",
       "      <td>99.98</td>\n",
       "      <td>0.02</td>\n",
       "      <td>3.756331</td>\n",
       "    </tr>\n",
       "    <tr>\n",
       "      <th>28</th>\n",
       "      <td>0.063</td>\n",
       "      <td>0.01</td>\n",
       "      <td>99.99</td>\n",
       "      <td>0.01</td>\n",
       "      <td>3.988504</td>\n",
       "    </tr>\n",
       "    <tr>\n",
       "      <th>29</th>\n",
       "      <td>0.053</td>\n",
       "      <td>0.01</td>\n",
       "      <td>100.00</td>\n",
       "      <td>0.00</td>\n",
       "      <td>4.237864</td>\n",
       "    </tr>\n",
       "  </tbody>\n",
       "</table>\n",
       "</div>"
      ],
      "text/plain": [
       "    GrainSize_mm  Percent  CumulativePercCoarser  CumulativePercFiner  \\\n",
       "4          4.000     0.00                   0.00               100.00   \n",
       "5          3.364     0.26                   0.26                99.74   \n",
       "6          2.828     0.16                   0.42                99.58   \n",
       "7          2.378     0.17                   0.59                99.41   \n",
       "8          2.000     0.22                   0.81                99.19   \n",
       "9          1.682     0.22                   1.03                98.97   \n",
       "10         1.414     0.48                   1.51                98.49   \n",
       "11         1.189     0.76                   2.27                97.73   \n",
       "12         1.000     0.83                   3.10                96.90   \n",
       "13         0.841     1.59                   4.69                95.31   \n",
       "14         0.707     2.10                   6.79                93.21   \n",
       "15         0.595     2.73                   9.52                90.48   \n",
       "16         0.500     6.19                  15.71                84.29   \n",
       "17         0.420     4.45                  20.16                79.84   \n",
       "18         0.354     7.09                  27.25                72.75   \n",
       "19         0.297     9.44                  36.69                63.31   \n",
       "20         0.250    17.41                  54.10                45.90   \n",
       "21         0.210    13.82                  67.92                32.08   \n",
       "22         0.177    15.51                  83.43                16.57   \n",
       "23         0.149     9.92                  93.35                 6.65   \n",
       "24         0.125     4.83                  98.18                 1.82   \n",
       "25         0.105     1.55                  99.73                 0.27   \n",
       "26         0.088     0.16                  99.89                 0.11   \n",
       "27         0.074     0.09                  99.98                 0.02   \n",
       "28         0.063     0.01                  99.99                 0.01   \n",
       "29         0.053     0.01                 100.00                 0.00   \n",
       "\n",
       "         phi  \n",
       "4  -2.000000  \n",
       "5  -1.750178  \n",
       "6  -1.499782  \n",
       "7  -1.249749  \n",
       "8  -1.000000  \n",
       "9  -0.750178  \n",
       "10 -0.499782  \n",
       "11 -0.249749  \n",
       "12 -0.000000  \n",
       "13  0.249822  \n",
       "14  0.500218  \n",
       "15  0.749038  \n",
       "16  1.000000  \n",
       "17  1.251539  \n",
       "18  1.498179  \n",
       "19  1.751465  \n",
       "20  2.000000  \n",
       "21  2.251539  \n",
       "22  2.498179  \n",
       "23  2.746616  \n",
       "24  3.000000  \n",
       "25  3.251539  \n",
       "26  3.506353  \n",
       "27  3.756331  \n",
       "28  3.988504  \n",
       "29  4.237864  "
      ]
     },
     "execution_count": 28,
     "metadata": {},
     "output_type": "execute_result"
    }
   ],
   "source": [
    "data"
   ]
  },
  {
   "cell_type": "code",
   "execution_count": 29,
   "metadata": {},
   "outputs": [],
   "source": [
    "#Find percentiles -- CHECK WITH ANMOL TO SEE IF CODE ACCEPTABLE\n",
    "# phi_84 = np.percentile(data.phi, 84) \n",
    "# phi_16 = np.percentile(data.phi, 16)\n",
    "\n",
    "# Use Cumulative Percent Coarser\n",
    "x = [83.43, 93.35]\n",
    "y = [2.498179, 2.746616]\n",
    "\n",
    "phi_84 = np.interp(84, x, y)\n",
    "\n",
    "x = [15.71, 20.16]\n",
    "y = [1.000000, 1.251539]\n",
    "\n",
    "\n",
    "phi_16 = np.interp(16, x, y)"
   ]
  },
  {
   "cell_type": "code",
   "execution_count": 30,
   "metadata": {},
   "outputs": [],
   "source": [
    "#Calculate d_mean:\n",
    "M_dphi = (phi_84 + phi_16) / 2\n",
    "d_mean = np.power(2, (-M_dphi))"
   ]
  },
  {
   "cell_type": "code",
   "execution_count": 31,
   "metadata": {},
   "outputs": [
    {
     "data": {
      "text/plain": [
       "0.29434432760858464"
      ]
     },
     "execution_count": 31,
     "metadata": {},
     "output_type": "execute_result"
    }
   ],
   "source": [
    "d_mean"
   ]
  },
  {
   "cell_type": "markdown",
   "metadata": {},
   "source": [
    "### Mean grain size is 0.29 mm"
   ]
  },
  {
   "cell_type": "code",
   "execution_count": 32,
   "metadata": {},
   "outputs": [],
   "source": [
    "# Calculate d_median:\n",
    "# phi_50 = np.percentile(data.phi, 50)\n",
    "# d_median = np.power(2, (-phi_50))\n",
    "\n",
    "x = [36.69, 54.10]\n",
    "y = [1.751465, 2.000000]\n",
    "\n",
    "phi_50 = np.interp(50, x, y)\n",
    "d_median = np.power(2, (-phi_50))"
   ]
  },
  {
   "cell_type": "code",
   "execution_count": 33,
   "metadata": {},
   "outputs": [
    {
     "data": {
      "text/plain": [
       "0.26035088344971896"
      ]
     },
     "execution_count": 33,
     "metadata": {},
     "output_type": "execute_result"
    }
   ],
   "source": [
    "d_median"
   ]
  },
  {
   "cell_type": "markdown",
   "metadata": {},
   "source": [
    "### Median grain size is 0.26 mm"
   ]
  },
  {
   "cell_type": "code",
   "execution_count": 34,
   "metadata": {},
   "outputs": [],
   "source": [
    "# Calculate sorting (standard deviation):\n",
    "std_phi = (phi_84 - phi_16) / 2"
   ]
  },
  {
   "cell_type": "code",
   "execution_count": 35,
   "metadata": {},
   "outputs": [
    {
     "data": {
      "text/plain": [
       "0.7480308403327744"
      ]
     },
     "execution_count": 35,
     "metadata": {},
     "output_type": "execute_result"
    }
   ],
   "source": [
    "std_phi\n",
    "# std_phi >= 1, BETWEEN WELL AND POORLY SORTED"
   ]
  },
  {
   "cell_type": "markdown",
   "metadata": {},
   "source": [
    "### Because the standard deviation (phi units) is 0.75, it is between well and poorly sorted"
   ]
  },
  {
   "cell_type": "markdown",
   "metadata": {},
   "source": [
    "# ------ ---  Question b --------- "
   ]
  },
  {
   "cell_type": "markdown",
   "metadata": {},
   "source": [
    "### <span style=\"color:STEELBLUE\">**GIVEN:**</span> grain size (mm), std_phi (standard deviation in phi units) = 0.75, M_dphi (mean in phi units) = 1.76\n",
    "### <span style=\"color:STEELBLUE\">**FIND:**</span> Plot grain size (in mm) distribution together with the log-normal cumulative distribution function (CDF)  \n",
    "### <span style=\"color:STEELBLUE\">**PRINCIPLES:**</span>\n",
    "### Equation 2.2 log-normal probability density function:\n",
    "### $f(\\phi) = \\frac{1}{\\sigma_\\phi \\sqrt{2\\pi}}e^-{\\frac{{(\\phi-\\mu_\\phi)}^2}{2\\sigma_\\phi^2}}$\n",
    "### Equation 2.3 CDF:\n",
    "### $P[\\phi < \\phi_g] = \\int_{-\\infty}^{\\phi_g} f(\\phi)d\\phi$"
   ]
  },
  {
   "cell_type": "markdown",
   "metadata": {},
   "source": [
    "### <span style=\"color:STEELBLUE\">**SOLUTION (CALC CDF AND PLOT):**</span>"
   ]
  },
  {
   "cell_type": "code",
   "execution_count": 36,
   "metadata": {},
   "outputs": [],
   "source": [
    "g = data['phi']\n",
    "\n",
    "# PDF \n",
    "y = ((1/(std_phi*np.sqrt(2*np.pi)))*(np.e**((-(g - M_dphi)**2)/(2 * (std_phi**2)))))\n",
    "\n",
    "# CDF\n",
    "y_int = integrate.cumtrapz(y, initial = 0)"
   ]
  },
  {
   "cell_type": "code",
   "execution_count": 37,
   "metadata": {},
   "outputs": [
    {
     "data": {
      "text/plain": [
       "4     0.000002\n",
       "5     0.000009\n",
       "6     0.000039\n",
       "7     0.000159\n",
       "8     0.000577\n",
       "9     0.001875\n",
       "10    0.005464\n",
       "11    0.014211\n",
       "12    0.033025\n",
       "13    0.068666\n",
       "14    0.127869\n",
       "15    0.212267\n",
       "16    0.316389\n",
       "17    0.421607\n",
       "18    0.500589\n",
       "19    0.533243\n",
       "20    0.507521\n",
       "21    0.431427\n",
       "22    0.329649\n",
       "23    0.225224\n",
       "24    0.136313\n",
       "25    0.073919\n",
       "26    0.035436\n",
       "27    0.015390\n",
       "28    0.006417\n",
       "29    0.002253\n",
       "Name: phi, dtype: float64"
      ]
     },
     "execution_count": 37,
     "metadata": {},
     "output_type": "execute_result"
    }
   ],
   "source": [
    "y"
   ]
  },
  {
   "cell_type": "code",
   "execution_count": 38,
   "metadata": {},
   "outputs": [
    {
     "data": {
      "text/plain": [
       "array([  0.00000000e+00,   5.13293821e-06,   2.89652457e-05,\n",
       "         1.27980681e-04,   4.96041321e-04,   1.72236456e-03,\n",
       "         5.39188552e-03,   1.52290104e-02,   3.88467621e-02,\n",
       "         8.96921158e-02,   1.87959323e-01,   3.58027238e-01,\n",
       "         6.22355565e-01,   9.91353503e-01,   1.45245134e+00,\n",
       "         1.96936757e+00,   2.48974960e+00,   2.95922363e+00,\n",
       "         3.33976197e+00,   3.61719852e+00,   3.79796674e+00,\n",
       "         3.90308282e+00,   3.95776068e+00,   3.98317366e+00,\n",
       "         3.99407722e+00,   3.99841252e+00])"
      ]
     },
     "execution_count": 38,
     "metadata": {},
     "output_type": "execute_result"
    }
   ],
   "source": [
    "y_int"
   ]
  },
  {
   "cell_type": "code",
   "execution_count": 39,
   "metadata": {},
   "outputs": [],
   "source": [
    "# convert from phi to mm \n",
    "y_mm = np.power(2, (-y))\n",
    "y_mm = 1 - y_mm\n",
    "y_int_mm = np.power(2, (-y_int))"
   ]
  },
  {
   "cell_type": "code",
   "execution_count": 40,
   "metadata": {},
   "outputs": [
    {
     "data": {
      "text/plain": [
       "array([ 1.        ,  0.99999644,  0.99997992,  0.99991129,  0.99965623,\n",
       "        0.99880686,  0.99626961,  0.98949957,  0.97343276,  0.93972327,\n",
       "        0.87784655,  0.78023075,  0.64960941,  0.50300565,  0.36540003,\n",
       "        0.25536495,  0.17803717,  0.12858341,  0.09877146,  0.08149196,\n",
       "        0.0718949 ,  0.06684286,  0.06435693,  0.06323321,  0.06275711,\n",
       "        0.06256881])"
      ]
     },
     "execution_count": 40,
     "metadata": {},
     "output_type": "execute_result"
    }
   ],
   "source": [
    "y_int_mm"
   ]
  },
  {
   "cell_type": "code",
   "execution_count": 41,
   "metadata": {},
   "outputs": [
    {
     "data": {
      "text/html": [
       "<div>\n",
       "<style scoped>\n",
       "    .dataframe tbody tr th:only-of-type {\n",
       "        vertical-align: middle;\n",
       "    }\n",
       "\n",
       "    .dataframe tbody tr th {\n",
       "        vertical-align: top;\n",
       "    }\n",
       "\n",
       "    .dataframe thead th {\n",
       "        text-align: right;\n",
       "    }\n",
       "</style>\n",
       "<table border=\"1\" class=\"dataframe\">\n",
       "  <thead>\n",
       "    <tr style=\"text-align: right;\">\n",
       "      <th></th>\n",
       "      <th>GrainSize_mm</th>\n",
       "      <th>Percent</th>\n",
       "      <th>CumulativePercCoarser</th>\n",
       "      <th>CumulativePercFiner</th>\n",
       "      <th>phi</th>\n",
       "    </tr>\n",
       "  </thead>\n",
       "  <tbody>\n",
       "    <tr>\n",
       "      <th>4</th>\n",
       "      <td>4.000</td>\n",
       "      <td>0.00</td>\n",
       "      <td>0.00</td>\n",
       "      <td>100.00</td>\n",
       "      <td>-2.000000</td>\n",
       "    </tr>\n",
       "    <tr>\n",
       "      <th>5</th>\n",
       "      <td>3.364</td>\n",
       "      <td>0.26</td>\n",
       "      <td>0.26</td>\n",
       "      <td>99.74</td>\n",
       "      <td>-1.750178</td>\n",
       "    </tr>\n",
       "    <tr>\n",
       "      <th>6</th>\n",
       "      <td>2.828</td>\n",
       "      <td>0.16</td>\n",
       "      <td>0.42</td>\n",
       "      <td>99.58</td>\n",
       "      <td>-1.499782</td>\n",
       "    </tr>\n",
       "    <tr>\n",
       "      <th>7</th>\n",
       "      <td>2.378</td>\n",
       "      <td>0.17</td>\n",
       "      <td>0.59</td>\n",
       "      <td>99.41</td>\n",
       "      <td>-1.249749</td>\n",
       "    </tr>\n",
       "    <tr>\n",
       "      <th>8</th>\n",
       "      <td>2.000</td>\n",
       "      <td>0.22</td>\n",
       "      <td>0.81</td>\n",
       "      <td>99.19</td>\n",
       "      <td>-1.000000</td>\n",
       "    </tr>\n",
       "    <tr>\n",
       "      <th>9</th>\n",
       "      <td>1.682</td>\n",
       "      <td>0.22</td>\n",
       "      <td>1.03</td>\n",
       "      <td>98.97</td>\n",
       "      <td>-0.750178</td>\n",
       "    </tr>\n",
       "    <tr>\n",
       "      <th>10</th>\n",
       "      <td>1.414</td>\n",
       "      <td>0.48</td>\n",
       "      <td>1.51</td>\n",
       "      <td>98.49</td>\n",
       "      <td>-0.499782</td>\n",
       "    </tr>\n",
       "    <tr>\n",
       "      <th>11</th>\n",
       "      <td>1.189</td>\n",
       "      <td>0.76</td>\n",
       "      <td>2.27</td>\n",
       "      <td>97.73</td>\n",
       "      <td>-0.249749</td>\n",
       "    </tr>\n",
       "    <tr>\n",
       "      <th>12</th>\n",
       "      <td>1.000</td>\n",
       "      <td>0.83</td>\n",
       "      <td>3.10</td>\n",
       "      <td>96.90</td>\n",
       "      <td>-0.000000</td>\n",
       "    </tr>\n",
       "    <tr>\n",
       "      <th>13</th>\n",
       "      <td>0.841</td>\n",
       "      <td>1.59</td>\n",
       "      <td>4.69</td>\n",
       "      <td>95.31</td>\n",
       "      <td>0.249822</td>\n",
       "    </tr>\n",
       "    <tr>\n",
       "      <th>14</th>\n",
       "      <td>0.707</td>\n",
       "      <td>2.10</td>\n",
       "      <td>6.79</td>\n",
       "      <td>93.21</td>\n",
       "      <td>0.500218</td>\n",
       "    </tr>\n",
       "    <tr>\n",
       "      <th>15</th>\n",
       "      <td>0.595</td>\n",
       "      <td>2.73</td>\n",
       "      <td>9.52</td>\n",
       "      <td>90.48</td>\n",
       "      <td>0.749038</td>\n",
       "    </tr>\n",
       "    <tr>\n",
       "      <th>16</th>\n",
       "      <td>0.500</td>\n",
       "      <td>6.19</td>\n",
       "      <td>15.71</td>\n",
       "      <td>84.29</td>\n",
       "      <td>1.000000</td>\n",
       "    </tr>\n",
       "    <tr>\n",
       "      <th>17</th>\n",
       "      <td>0.420</td>\n",
       "      <td>4.45</td>\n",
       "      <td>20.16</td>\n",
       "      <td>79.84</td>\n",
       "      <td>1.251539</td>\n",
       "    </tr>\n",
       "    <tr>\n",
       "      <th>18</th>\n",
       "      <td>0.354</td>\n",
       "      <td>7.09</td>\n",
       "      <td>27.25</td>\n",
       "      <td>72.75</td>\n",
       "      <td>1.498179</td>\n",
       "    </tr>\n",
       "    <tr>\n",
       "      <th>19</th>\n",
       "      <td>0.297</td>\n",
       "      <td>9.44</td>\n",
       "      <td>36.69</td>\n",
       "      <td>63.31</td>\n",
       "      <td>1.751465</td>\n",
       "    </tr>\n",
       "    <tr>\n",
       "      <th>20</th>\n",
       "      <td>0.250</td>\n",
       "      <td>17.41</td>\n",
       "      <td>54.10</td>\n",
       "      <td>45.90</td>\n",
       "      <td>2.000000</td>\n",
       "    </tr>\n",
       "    <tr>\n",
       "      <th>21</th>\n",
       "      <td>0.210</td>\n",
       "      <td>13.82</td>\n",
       "      <td>67.92</td>\n",
       "      <td>32.08</td>\n",
       "      <td>2.251539</td>\n",
       "    </tr>\n",
       "    <tr>\n",
       "      <th>22</th>\n",
       "      <td>0.177</td>\n",
       "      <td>15.51</td>\n",
       "      <td>83.43</td>\n",
       "      <td>16.57</td>\n",
       "      <td>2.498179</td>\n",
       "    </tr>\n",
       "    <tr>\n",
       "      <th>23</th>\n",
       "      <td>0.149</td>\n",
       "      <td>9.92</td>\n",
       "      <td>93.35</td>\n",
       "      <td>6.65</td>\n",
       "      <td>2.746616</td>\n",
       "    </tr>\n",
       "    <tr>\n",
       "      <th>24</th>\n",
       "      <td>0.125</td>\n",
       "      <td>4.83</td>\n",
       "      <td>98.18</td>\n",
       "      <td>1.82</td>\n",
       "      <td>3.000000</td>\n",
       "    </tr>\n",
       "    <tr>\n",
       "      <th>25</th>\n",
       "      <td>0.105</td>\n",
       "      <td>1.55</td>\n",
       "      <td>99.73</td>\n",
       "      <td>0.27</td>\n",
       "      <td>3.251539</td>\n",
       "    </tr>\n",
       "    <tr>\n",
       "      <th>26</th>\n",
       "      <td>0.088</td>\n",
       "      <td>0.16</td>\n",
       "      <td>99.89</td>\n",
       "      <td>0.11</td>\n",
       "      <td>3.506353</td>\n",
       "    </tr>\n",
       "    <tr>\n",
       "      <th>27</th>\n",
       "      <td>0.074</td>\n",
       "      <td>0.09</td>\n",
       "      <td>99.98</td>\n",
       "      <td>0.02</td>\n",
       "      <td>3.756331</td>\n",
       "    </tr>\n",
       "    <tr>\n",
       "      <th>28</th>\n",
       "      <td>0.063</td>\n",
       "      <td>0.01</td>\n",
       "      <td>99.99</td>\n",
       "      <td>0.01</td>\n",
       "      <td>3.988504</td>\n",
       "    </tr>\n",
       "    <tr>\n",
       "      <th>29</th>\n",
       "      <td>0.053</td>\n",
       "      <td>0.01</td>\n",
       "      <td>100.00</td>\n",
       "      <td>0.00</td>\n",
       "      <td>4.237864</td>\n",
       "    </tr>\n",
       "  </tbody>\n",
       "</table>\n",
       "</div>"
      ],
      "text/plain": [
       "    GrainSize_mm  Percent  CumulativePercCoarser  CumulativePercFiner  \\\n",
       "4          4.000     0.00                   0.00               100.00   \n",
       "5          3.364     0.26                   0.26                99.74   \n",
       "6          2.828     0.16                   0.42                99.58   \n",
       "7          2.378     0.17                   0.59                99.41   \n",
       "8          2.000     0.22                   0.81                99.19   \n",
       "9          1.682     0.22                   1.03                98.97   \n",
       "10         1.414     0.48                   1.51                98.49   \n",
       "11         1.189     0.76                   2.27                97.73   \n",
       "12         1.000     0.83                   3.10                96.90   \n",
       "13         0.841     1.59                   4.69                95.31   \n",
       "14         0.707     2.10                   6.79                93.21   \n",
       "15         0.595     2.73                   9.52                90.48   \n",
       "16         0.500     6.19                  15.71                84.29   \n",
       "17         0.420     4.45                  20.16                79.84   \n",
       "18         0.354     7.09                  27.25                72.75   \n",
       "19         0.297     9.44                  36.69                63.31   \n",
       "20         0.250    17.41                  54.10                45.90   \n",
       "21         0.210    13.82                  67.92                32.08   \n",
       "22         0.177    15.51                  83.43                16.57   \n",
       "23         0.149     9.92                  93.35                 6.65   \n",
       "24         0.125     4.83                  98.18                 1.82   \n",
       "25         0.105     1.55                  99.73                 0.27   \n",
       "26         0.088     0.16                  99.89                 0.11   \n",
       "27         0.074     0.09                  99.98                 0.02   \n",
       "28         0.063     0.01                  99.99                 0.01   \n",
       "29         0.053     0.01                 100.00                 0.00   \n",
       "\n",
       "         phi  \n",
       "4  -2.000000  \n",
       "5  -1.750178  \n",
       "6  -1.499782  \n",
       "7  -1.249749  \n",
       "8  -1.000000  \n",
       "9  -0.750178  \n",
       "10 -0.499782  \n",
       "11 -0.249749  \n",
       "12 -0.000000  \n",
       "13  0.249822  \n",
       "14  0.500218  \n",
       "15  0.749038  \n",
       "16  1.000000  \n",
       "17  1.251539  \n",
       "18  1.498179  \n",
       "19  1.751465  \n",
       "20  2.000000  \n",
       "21  2.251539  \n",
       "22  2.498179  \n",
       "23  2.746616  \n",
       "24  3.000000  \n",
       "25  3.251539  \n",
       "26  3.506353  \n",
       "27  3.756331  \n",
       "28  3.988504  \n",
       "29  4.237864  "
      ]
     },
     "execution_count": 41,
     "metadata": {},
     "output_type": "execute_result"
    }
   ],
   "source": [
    "data"
   ]
  },
  {
   "cell_type": "code",
   "execution_count": 42,
   "metadata": {},
   "outputs": [
    {
     "data": {
      "text/plain": [
       "Text(0, 0.5, 'Percent Finer Than')"
      ]
     },
     "execution_count": 42,
     "metadata": {},
     "output_type": "execute_result"
    },
    {
     "data": {
      "image/png": "[encoded data removed]",
      "text/plain": [
       "<Figure size 432x288 with 1 Axes>"
      ]
     },
     "metadata": {},
     "output_type": "display_data"
    }
   ],
   "source": [
    "\n",
    "\n",
    "x = data['GrainSize_mm']\n",
    "\n",
    "y1 = y_int_mm * 100\n",
    "y2 = data['CumulativePercFiner']\n",
    "\n",
    "# fig = plt.figure()\n",
    "# ax = fig\n",
    "\n",
    "plt.plot(x,y1, label = \"CDF\")\n",
    "plt.plot(x,y2, label = \"Grain Size Distribution\")\n",
    "\n",
    "plt.legend()\n",
    "\n",
    "plt.xscale('log')\n",
    "\n",
    "plt.xlabel('Log Grain Size (mm)')\n",
    "plt.ylabel(\"Percent Finer Than\")\n",
    "\n",
    "# 1 axis, cdf and grain size, y axis is goingto be percent finer, raw grrain size"
   ]
  },
  {
   "cell_type": "code",
   "execution_count": 44,
   "metadata": {},
   "outputs": [
    {
     "data": {
      "text/plain": [
       "Text(0, 0.5, 'Probability')"
      ]
     },
     "execution_count": 44,
     "metadata": {},
     "output_type": "execute_result"
    },
    {
     "data": {
      "image/png": "[encoded data removed]",
      "text/plain": [
       "<Figure size 432x288 with 1 Axes>"
      ]
     },
     "metadata": {},
     "output_type": "display_data"
    }
   ],
   "source": [
    "##### PLOT THESE TWO WITH LOG X SCALE ######\n",
    "\n",
    "x = data['GrainSize_mm']\n",
    "\n",
    "y1 = y_mm\n",
    "y2 = y_int_mm\n",
    "\n",
    "# fig = plt.figure()\n",
    "# ax = fig\n",
    "\n",
    "plt.plot(x,y1, label = \"PDF\")\n",
    "plt.plot(x,y2, label = \"CDF\")\n",
    "\n",
    "plt.legend()\n",
    "\n",
    "plt.xscale('log')\n",
    "\n",
    "plt.xlabel('Log Grain Size (mm)')\n",
    "plt.ylabel(\"Probability\")\n",
    "\n",
    "# 1 axis, cdf and grain size, y axis is goingto be percent finer, raw grrain size\n"
   ]
  },
  {
   "cell_type": "markdown",
   "metadata": {},
   "source": [
    "# --- Question c --- "
   ]
  },
  {
   "cell_type": "markdown",
   "metadata": {},
   "source": [
    "### <span style=\"color:STEELBLUE\">**GIVEN:**</span> $s_{quartz} = 2.65$;  $\\rho_{seawater} = 1025  kg/m^3$; $\\mu_{seawater} = 0.00114 Ns/m^2$\n",
    "### <span style=\"color:STEELBLUE\">**FIND:**</span> Plot the fall velocity (cm/s) in seawater versus percent finer than\n",
    "### <span style=\"color:STEELBLUE\">**PRINCIPLES:**</span>\n",
    "### Equation 2.11 fall velocity:\n",
    "### $ w = \\sqrt{\\frac{4(\\rho_s - \\rho) g d}{3 \\rho C_D}}$ \n",
    "### Reynolds Number:\n",
    "### $Re = \\frac{\\rho w d}{\\mu}$\n",
    "### Equation 2.13 approximation for a sphere's drag coefficient :\n",
    "### $ C_D = \\frac{24}{Re} \\sqrt{(1 + \\frac{3 Re}{16})}$  \n",
    "\n"
   ]
  },
  {
   "cell_type": "markdown",
   "metadata": {},
   "source": [
    "### <span style=\"color:STEELBLUE\">**SOLUTION: Sample Calc; d = 0.5 mm**</span>"
   ]
  },
  {
   "cell_type": "code",
   "execution_count": 60,
   "metadata": {},
   "outputs": [
    {
     "name": "stdout",
     "output_type": "stream",
     "text": [
      "w is   0.1038797381590847 * C_D ^ (- 1/2) m/s\n"
     ]
    }
   ],
   "source": [
    "# Fall velocity 1\n",
    "w = np.sqrt((4/3)* (2.65 - 1) * 9.81 * (0.5) * (1/1000))\n",
    "print (\"w is   {} * C_D ^ (- 1/2) m/s\".format(w))"
   ]
  },
  {
   "cell_type": "code",
   "execution_count": 61,
   "metadata": {},
   "outputs": [
    {
     "name": "stdout",
     "output_type": "stream",
     "text": [
      "Re is   449.5614035087719 * w (m/s)\n"
     ]
    }
   ],
   "source": [
    "# Reynolds number (sewater)\n",
    "# Density of seawater 1025\n",
    "# Viscosity of seawater .00114\n",
    "\n",
    "Re = ((1025) * (0.5) * (1/1000)) / (0.00114)\n",
    "print (\"Re is   {} * w (m/s)\".format(Re))"
   ]
  },
  {
   "cell_type": "markdown",
   "metadata": {},
   "source": [
    "#### Iterate 1"
   ]
  },
  {
   "cell_type": "code",
   "execution_count": 62,
   "metadata": {},
   "outputs": [
    {
     "name": "stdout",
     "output_type": "stream",
     "text": [
      "w2 is 0.07345406728017176 m/s\n"
     ]
    }
   ],
   "source": [
    "# Iterate with C_D, guess C_D = 2\n",
    "w2 = w / np.sqrt(2)\n",
    "print (\"w2 is {} m/s\".format(w2))"
   ]
  },
  {
   "cell_type": "code",
   "execution_count": 63,
   "metadata": {},
   "outputs": [
    {
     "name": "stdout",
     "output_type": "stream",
     "text": [
      "Re2 is 33.02211357990178\n"
     ]
    }
   ],
   "source": [
    "Re2 = (Re * w2)\n",
    "print (\"Re2 is {}\".format(Re2))"
   ]
  },
  {
   "cell_type": "code",
   "execution_count": 64,
   "metadata": {},
   "outputs": [
    {
     "name": "stdout",
     "output_type": "stream",
     "text": [
      "CD is 1.9490390236439714\n"
     ]
    }
   ],
   "source": [
    "CD = (24/Re2) * np.sqrt(1 + ((3*Re2)/(16)))\n",
    "print (\"CD is {}\".format(CD))"
   ]
  },
  {
   "cell_type": "markdown",
   "metadata": {},
   "source": [
    "---------"
   ]
  },
  {
   "cell_type": "markdown",
   "metadata": {},
   "source": [
    "#### Iterate 2"
   ]
  },
  {
   "cell_type": "code",
   "execution_count": 65,
   "metadata": {},
   "outputs": [
    {
     "name": "stdout",
     "output_type": "stream",
     "text": [
      "w3 is 0.07440816234970565 m/s\n"
     ]
    }
   ],
   "source": [
    "# Iterate with C_D, C_D = 1.1055931228942726\n",
    "w3 = (w / np.sqrt(CD))\n",
    "print (\"w3 is {} m/s\".format(w3))"
   ]
  },
  {
   "cell_type": "code",
   "execution_count": 66,
   "metadata": {},
   "outputs": [
    {
     "name": "stdout",
     "output_type": "stream",
     "text": [
      "Re3 is 33.45103789844223\n"
     ]
    }
   ],
   "source": [
    "Re3 = (Re * w3)\n",
    "print (\"Re3 is {}\".format(Re3))"
   ]
  },
  {
   "cell_type": "code",
   "execution_count": 67,
   "metadata": {},
   "outputs": [
    {
     "name": "stdout",
     "output_type": "stream",
     "text": [
      "CD2 is 1.9347758504361243\n"
     ]
    }
   ],
   "source": [
    "CD2 = (24/Re3) * np.sqrt(1 + ((3*Re3)/(16)))\n",
    "print (\"CD2 is {}\".format(CD2))"
   ]
  },
  {
   "cell_type": "markdown",
   "metadata": {},
   "source": [
    "-------"
   ]
  },
  {
   "cell_type": "markdown",
   "metadata": {},
   "source": [
    "### Iterate 3"
   ]
  },
  {
   "cell_type": "code",
   "execution_count": 68,
   "metadata": {},
   "outputs": [
    {
     "name": "stdout",
     "output_type": "stream",
     "text": [
      "w4 is 0.07468192732197794 m/s\n"
     ]
    }
   ],
   "source": [
    "# Iterate with C_D, C_D = 1.5191487630679061\n",
    "\n",
    "w4 = (w / np.sqrt(CD2))\n",
    "print (\"w4 is {} m/s\".format(w4))"
   ]
  },
  {
   "cell_type": "code",
   "execution_count": 69,
   "metadata": {},
   "outputs": [
    {
     "name": "stdout",
     "output_type": "stream",
     "text": [
      "Re4 is 33.5741120636085\n"
     ]
    }
   ],
   "source": [
    "Re4 = (Re * w4)\n",
    "print (\"Re4 is {}\".format(Re4))"
   ]
  },
  {
   "cell_type": "code",
   "execution_count": 70,
   "metadata": {},
   "outputs": [
    {
     "name": "stdout",
     "output_type": "stream",
     "text": [
      "CD3 is 1.9307395831211043\n"
     ]
    }
   ],
   "source": [
    "CD3 = (24/Re4) * np.sqrt(1 + ((3*Re4)/(16)))\n",
    "print (\"CD3 is {}\".format(CD3))"
   ]
  },
  {
   "cell_type": "markdown",
   "metadata": {},
   "source": [
    "-----------"
   ]
  },
  {
   "cell_type": "markdown",
   "metadata": {},
   "source": [
    "# Solve for all data ## SOME ERROR BETWEEN 2 and 3 ITERATION? SEEMS HIGH, CHECK WITH ANMOL"
   ]
  },
  {
   "cell_type": "code",
   "execution_count": null,
   "metadata": {},
   "outputs": [],
   "source": [
    "## Try converting to cm/s at the very very end?"
   ]
  },
  {
   "cell_type": "code",
   "execution_count": 71,
   "metadata": {},
   "outputs": [],
   "source": [
    "grains = data['GrainSize_mm'] "
   ]
  },
  {
   "cell_type": "code",
   "execution_count": 72,
   "metadata": {},
   "outputs": [],
   "source": [
    "w_result = []\n",
    "Re_result = []\n",
    "\n",
    "for g in grains:\n",
    "    w = np.sqrt((4/3)* (2.65 - 1) * 9.81 * (g) * (1/1000))\n",
    "    w_result.append(w)\n",
    "    Re = ((1025) * (g) * (1/1000)) / (0.00114)\n",
    "    Re_result.append(Re)"
   ]
  },
  {
   "cell_type": "code",
   "execution_count": 73,
   "metadata": {},
   "outputs": [],
   "source": [
    "# convert velocity to cm/s\n",
    "\n",
    "w_result_cm = []\n",
    "for w in w_result:\n",
    "    w2 = w * 100\n",
    "    w_result_cm.append(w2)"
   ]
  },
  {
   "cell_type": "code",
   "execution_count": 74,
   "metadata": {},
   "outputs": [],
   "source": [
    "# Iterate\n",
    "CD=10\n",
    "w2_result = []\n",
    "for w in w_result_cm:\n",
    "    w2 = w / np.sqrt(CD)\n",
    "    w2_result.append(w2)\n"
   ]
  },
  {
   "cell_type": "code",
   "execution_count": 75,
   "metadata": {},
   "outputs": [],
   "source": [
    "df = pd.DataFrame({'w_base_cm_s': w_result_cm, 'Re_base':Re_result, 'w2': w2_result})"
   ]
  },
  {
   "cell_type": "code",
   "execution_count": 76,
   "metadata": {},
   "outputs": [],
   "source": [
    "df['Re2'] = df['Re_base'] * df['w2']"
   ]
  },
  {
   "cell_type": "code",
   "execution_count": 77,
   "metadata": {},
   "outputs": [],
   "source": [
    "df['CD2'] = (24/df['Re2']) * np.sqrt(1 + ((3*df['Re2'])/(16)))"
   ]
  },
  {
   "cell_type": "code",
   "execution_count": 78,
   "metadata": {},
   "outputs": [],
   "source": [
    "df['w3'] = df['w_base_cm_s'] / np.sqrt(df['CD2'])"
   ]
  },
  {
   "cell_type": "code",
   "execution_count": 277,
   "metadata": {},
   "outputs": [],
   "source": [
    "df['Re3'] = df['Re_base'] * df['w3']"
   ]
  },
  {
   "cell_type": "code",
   "execution_count": 278,
   "metadata": {},
   "outputs": [],
   "source": [
    "df['CD3'] = (24/df['Re3']) * np.sqrt(1 + ((3*df['Re3'])/(16)))"
   ]
  },
  {
   "cell_type": "code",
   "execution_count": 279,
   "metadata": {},
   "outputs": [],
   "source": [
    "df['w4'] = df['w_base_cm_s'] / np.sqrt(df['CD3'])"
   ]
  },
  {
   "cell_type": "code",
   "execution_count": 281,
   "metadata": {},
   "outputs": [],
   "source": [
    "df['Re4'] = df['Re_base'] * df['w4']"
   ]
  },
  {
   "cell_type": "code",
   "execution_count": 282,
   "metadata": {},
   "outputs": [],
   "source": [
    "df['CD4'] = (24/df['Re4']) * np.sqrt(1 + ((3*df['Re4'])/(16)))"
   ]
  },
  {
   "cell_type": "code",
   "execution_count": 283,
   "metadata": {},
   "outputs": [],
   "source": [
    "df['w5'] = df['w_base_cm_s'] / np.sqrt(df['CD4'])"
   ]
  },
  {
   "cell_type": "code",
   "execution_count": 284,
   "metadata": {},
   "outputs": [],
   "source": [
    "df['Re5'] = df['Re_base'] * df['w5']"
   ]
  },
  {
   "cell_type": "code",
   "execution_count": 285,
   "metadata": {},
   "outputs": [],
   "source": [
    "df['CD5'] = (24/df['Re5']) * np.sqrt(1 + ((3*df['Re5'])/(16)))"
   ]
  },
  {
   "cell_type": "code",
   "execution_count": 286,
   "metadata": {},
   "outputs": [],
   "source": [
    "df['w6'] = df['w_base_cm_s'] / np.sqrt(df['CD5'])"
   ]
  },
  {
   "cell_type": "code",
   "execution_count": 287,
   "metadata": {},
   "outputs": [],
   "source": [
    "df['Re6'] = df['Re_base'] * df['w6']"
   ]
  },
  {
   "cell_type": "code",
   "execution_count": 288,
   "metadata": {},
   "outputs": [],
   "source": [
    "df['CD6'] = (24/df['Re6']) * np.sqrt(1 + ((3*df['Re6'])/(16)))"
   ]
  },
  {
   "cell_type": "code",
   "execution_count": 289,
   "metadata": {},
   "outputs": [],
   "source": [
    "df['w7'] = df['w_base_cm_s'] / np.sqrt(df['CD6'])"
   ]
  },
  {
   "cell_type": "code",
   "execution_count": 354,
   "metadata": {},
   "outputs": [
    {
     "data": {
      "text/html": [
       "<div>\n",
       "<style scoped>\n",
       "    .dataframe tbody tr th:only-of-type {\n",
       "        vertical-align: middle;\n",
       "    }\n",
       "\n",
       "    .dataframe tbody tr th {\n",
       "        vertical-align: top;\n",
       "    }\n",
       "\n",
       "    .dataframe thead th {\n",
       "        text-align: right;\n",
       "    }\n",
       "</style>\n",
       "<table border=\"1\" class=\"dataframe\">\n",
       "  <thead>\n",
       "    <tr style=\"text-align: right;\">\n",
       "      <th></th>\n",
       "      <th>w_base_cm_s</th>\n",
       "      <th>Re_base</th>\n",
       "      <th>w2</th>\n",
       "      <th>Re2</th>\n",
       "      <th>CD2</th>\n",
       "      <th>w3</th>\n",
       "      <th>Re3</th>\n",
       "      <th>CD3</th>\n",
       "      <th>w4</th>\n",
       "      <th>Re4</th>\n",
       "      <th>CD4</th>\n",
       "      <th>w5</th>\n",
       "      <th>Re5</th>\n",
       "      <th>CD5</th>\n",
       "      <th>w6</th>\n",
       "      <th>Re6</th>\n",
       "      <th>CD6</th>\n",
       "      <th>w7</th>\n",
       "    </tr>\n",
       "  </thead>\n",
       "  <tbody>\n",
       "    <tr>\n",
       "      <th>0</th>\n",
       "      <td>29.381627</td>\n",
       "      <td>3596.491228</td>\n",
       "      <td>9.291286</td>\n",
       "      <td>33416.029461</td>\n",
       "      <td>0.056855</td>\n",
       "      <td>123.222860</td>\n",
       "      <td>443169.935327</td>\n",
       "      <td>0.015611</td>\n",
       "      <td>235.158763</td>\n",
       "      <td>845746.427936</td>\n",
       "      <td>0.011300</td>\n",
       "      <td>276.394413</td>\n",
       "      <td>994050.080129</td>\n",
       "      <td>0.010423</td>\n",
       "      <td>287.787141</td>\n",
       "      <td>1.035024e+06</td>\n",
       "      <td>0.010215</td>\n",
       "      <td>290.707970</td>\n",
       "    </tr>\n",
       "    <tr>\n",
       "      <th>1</th>\n",
       "      <td>26.944730</td>\n",
       "      <td>3024.649123</td>\n",
       "      <td>8.520672</td>\n",
       "      <td>25772.042499</td>\n",
       "      <td>0.064741</td>\n",
       "      <td>105.896753</td>\n",
       "      <td>320300.519832</td>\n",
       "      <td>0.018363</td>\n",
       "      <td>198.840800</td>\n",
       "      <td>601423.651360</td>\n",
       "      <td>0.013401</td>\n",
       "      <td>232.761990</td>\n",
       "      <td>704023.349188</td>\n",
       "      <td>0.012386</td>\n",
       "      <td>242.110621</td>\n",
       "      <td>7.322997e+05</td>\n",
       "      <td>0.012144</td>\n",
       "      <td>244.505886</td>\n",
       "    </tr>\n",
       "    <tr>\n",
       "      <th>2</th>\n",
       "      <td>24.705039</td>\n",
       "      <td>2542.719298</td>\n",
       "      <td>7.812419</td>\n",
       "      <td>19864.789431</td>\n",
       "      <td>0.073744</td>\n",
       "      <td>90.974872</td>\n",
       "      <td>231323.562645</td>\n",
       "      <td>0.021608</td>\n",
       "      <td>168.066855</td>\n",
       "      <td>427346.834983</td>\n",
       "      <td>0.015897</td>\n",
       "      <td>195.940123</td>\n",
       "      <td>498220.731376</td>\n",
       "      <td>0.014723</td>\n",
       "      <td>203.602869</td>\n",
       "      <td>5.177049e+05</td>\n",
       "      <td>0.014444</td>\n",
       "      <td>205.564950</td>\n",
       "    </tr>\n",
       "    <tr>\n",
       "      <th>3</th>\n",
       "      <td>22.654359</td>\n",
       "      <td>2138.114035</td>\n",
       "      <td>7.163937</td>\n",
       "      <td>15317.314643</td>\n",
       "      <td>0.083984</td>\n",
       "      <td>78.172444</td>\n",
       "      <td>167141.600085</td>\n",
       "      <td>0.025420</td>\n",
       "      <td>142.089997</td>\n",
       "      <td>303804.616634</td>\n",
       "      <td>0.018855</td>\n",
       "      <td>164.984261</td>\n",
       "      <td>352755.164694</td>\n",
       "      <td>0.017498</td>\n",
       "      <td>171.262600</td>\n",
       "      <td>3.661790e+05</td>\n",
       "      <td>0.017174</td>\n",
       "      <td>172.869191</td>\n",
       "    </tr>\n",
       "    <tr>\n",
       "      <th>4</th>\n",
       "      <td>20.775948</td>\n",
       "      <td>1798.245614</td>\n",
       "      <td>6.569932</td>\n",
       "      <td>11814.350516</td>\n",
       "      <td>0.095632</td>\n",
       "      <td>67.182841</td>\n",
       "      <td>120811.248794</td>\n",
       "      <td>0.029900</td>\n",
       "      <td>120.150879</td>\n",
       "      <td>216060.791730</td>\n",
       "      <td>0.022358</td>\n",
       "      <td>138.946053</td>\n",
       "      <td>249859.130050</td>\n",
       "      <td>0.020791</td>\n",
       "      <td>144.087528</td>\n",
       "      <td>2.591048e+05</td>\n",
       "      <td>0.020416</td>\n",
       "      <td>145.402381</td>\n",
       "    </tr>\n",
       "    <tr>\n",
       "      <th>5</th>\n",
       "      <td>19.052801</td>\n",
       "      <td>1512.324561</td>\n",
       "      <td>6.025025</td>\n",
       "      <td>9111.793008</td>\n",
       "      <td>0.108902</td>\n",
       "      <td>57.735154</td>\n",
       "      <td>87314.291810</td>\n",
       "      <td>0.035171</td>\n",
       "      <td>101.593893</td>\n",
       "      <td>153642.939942</td>\n",
       "      <td>0.026513</td>\n",
       "      <td>117.011160</td>\n",
       "      <td>176958.851050</td>\n",
       "      <td>0.024705</td>\n",
       "      <td>121.218164</td>\n",
       "      <td>1.833212e+05</td>\n",
       "      <td>0.024272</td>\n",
       "      <td>122.293372</td>\n",
       "    </tr>\n",
       "    <tr>\n",
       "      <th>6</th>\n",
       "      <td>17.469101</td>\n",
       "      <td>1271.359649</td>\n",
       "      <td>5.524215</td>\n",
       "      <td>7023.263657</td>\n",
       "      <td>0.124053</td>\n",
       "      <td>49.598316</td>\n",
       "      <td>63057.298258</td>\n",
       "      <td>0.041387</td>\n",
       "      <td>85.869566</td>\n",
       "      <td>109171.101088</td>\n",
       "      <td>0.031453</td>\n",
       "      <td>98.500000</td>\n",
       "      <td>125228.924888</td>\n",
       "      <td>0.029368</td>\n",
       "      <td>101.938010</td>\n",
       "      <td>1.295999e+05</td>\n",
       "      <td>0.028868</td>\n",
       "      <td>102.816138</td>\n",
       "    </tr>\n",
       "    <tr>\n",
       "      <th>7</th>\n",
       "      <td>16.019051</td>\n",
       "      <td>1069.057018</td>\n",
       "      <td>5.065669</td>\n",
       "      <td>5415.488527</td>\n",
       "      <td>0.141288</td>\n",
       "      <td>42.617048</td>\n",
       "      <td>45560.054754</td>\n",
       "      <td>0.048691</td>\n",
       "      <td>72.596249</td>\n",
       "      <td>77609.529663</td>\n",
       "      <td>0.037305</td>\n",
       "      <td>82.937728</td>\n",
       "      <td>88665.160213</td>\n",
       "      <td>0.034902</td>\n",
       "      <td>85.745740</td>\n",
       "      <td>9.166709e+04</td>\n",
       "      <td>0.034326</td>\n",
       "      <td>86.462516</td>\n",
       "    </tr>\n",
       "    <tr>\n",
       "      <th>8</th>\n",
       "      <td>14.690813</td>\n",
       "      <td>899.122807</td>\n",
       "      <td>4.645643</td>\n",
       "      <td>4177.003683</td>\n",
       "      <td>0.160900</td>\n",
       "      <td>36.624152</td>\n",
       "      <td>32929.610360</td>\n",
       "      <td>0.057274</td>\n",
       "      <td>61.385948</td>\n",
       "      <td>55193.506223</td>\n",
       "      <td>0.044237</td>\n",
       "      <td>69.847587</td>\n",
       "      <td>62801.558919</td>\n",
       "      <td>0.041471</td>\n",
       "      <td>72.139527</td>\n",
       "      <td>6.486229e+04</td>\n",
       "      <td>0.040807</td>\n",
       "      <td>72.724217</td>\n",
       "    </tr>\n",
       "    <tr>\n",
       "      <th>9</th>\n",
       "      <td>13.472365</td>\n",
       "      <td>756.162281</td>\n",
       "      <td>4.260336</td>\n",
       "      <td>3221.505312</td>\n",
       "      <td>0.183249</td>\n",
       "      <td>31.471904</td>\n",
       "      <td>23797.866643</td>\n",
       "      <td>0.067374</td>\n",
       "      <td>51.903672</td>\n",
       "      <td>39247.598667</td>\n",
       "      <td>0.052461</td>\n",
       "      <td>58.820190</td>\n",
       "      <td>44477.608979</td>\n",
       "      <td>0.049280</td>\n",
       "      <td>60.689037</td>\n",
       "      <td>4.589076e+04</td>\n",
       "      <td>0.048515</td>\n",
       "      <td>61.165510</td>\n",
       "    </tr>\n",
       "    <tr>\n",
       "      <th>10</th>\n",
       "      <td>12.352520</td>\n",
       "      <td>635.679825</td>\n",
       "      <td>3.906210</td>\n",
       "      <td>2483.098679</td>\n",
       "      <td>0.208776</td>\n",
       "      <td>27.034302</td>\n",
       "      <td>17185.160181</td>\n",
       "      <td>0.079287</td>\n",
       "      <td>43.868655</td>\n",
       "      <td>27886.418843</td>\n",
       "      <td>0.062238</td>\n",
       "      <td>49.513889</td>\n",
       "      <td>31474.980053</td>\n",
       "      <td>0.058582</td>\n",
       "      <td>51.035524</td>\n",
       "      <td>3.244225e+04</td>\n",
       "      <td>0.057702</td>\n",
       "      <td>51.423250</td>\n",
       "    </tr>\n",
       "    <tr>\n",
       "      <th>11</th>\n",
       "      <td>11.331942</td>\n",
       "      <td>534.978070</td>\n",
       "      <td>3.583475</td>\n",
       "      <td>1917.080310</td>\n",
       "      <td>0.237681</td>\n",
       "      <td>23.243784</td>\n",
       "      <td>12434.914722</td>\n",
       "      <td>0.093215</td>\n",
       "      <td>37.116117</td>\n",
       "      <td>19856.308581</td>\n",
       "      <td>0.073760</td>\n",
       "      <td>41.724761</td>\n",
       "      <td>22321.832127</td>\n",
       "      <td>0.069566</td>\n",
       "      <td>42.964020</td>\n",
       "      <td>2.298481e+04</td>\n",
       "      <td>0.068555</td>\n",
       "      <td>43.279618</td>\n",
       "    </tr>\n",
       "    <tr>\n",
       "      <th>12</th>\n",
       "      <td>10.387974</td>\n",
       "      <td>449.561404</td>\n",
       "      <td>3.284966</td>\n",
       "      <td>1476.793815</td>\n",
       "      <td>0.270916</td>\n",
       "      <td>19.957837</td>\n",
       "      <td>8972.273271</td>\n",
       "      <td>0.109746</td>\n",
       "      <td>31.357109</td>\n",
       "      <td>14096.945780</td>\n",
       "      <td>0.087545</td>\n",
       "      <td>35.108728</td>\n",
       "      <td>15783.529051</td>\n",
       "      <td>0.082734</td>\n",
       "      <td>36.115136</td>\n",
       "      <td>1.623597e+04</td>\n",
       "      <td>0.081573</td>\n",
       "      <td>36.371299</td>\n",
       "    </tr>\n",
       "    <tr>\n",
       "      <th>13</th>\n",
       "      <td>9.520735</td>\n",
       "      <td>377.631579</td>\n",
       "      <td>3.010721</td>\n",
       "      <td>1136.943266</td>\n",
       "      <td>0.308929</td>\n",
       "      <td>17.129360</td>\n",
       "      <td>6468.587121</td>\n",
       "      <td>0.129267</td>\n",
       "      <td>26.480576</td>\n",
       "      <td>9999.901704</td>\n",
       "      <td>0.103951</td>\n",
       "      <td>29.529466</td>\n",
       "      <td>11151.258838</td>\n",
       "      <td>0.098436</td>\n",
       "      <td>30.345452</td>\n",
       "      <td>1.145940e+04</td>\n",
       "      <td>0.097103</td>\n",
       "      <td>30.553046</td>\n",
       "    </tr>\n",
       "    <tr>\n",
       "      <th>14</th>\n",
       "      <td>8.740725</td>\n",
       "      <td>318.289474</td>\n",
       "      <td>2.764060</td>\n",
       "      <td>879.771221</td>\n",
       "      <td>0.351430</td>\n",
       "      <td>14.744423</td>\n",
       "      <td>4692.994488</td>\n",
       "      <td>0.151787</td>\n",
       "      <td>22.435240</td>\n",
       "      <td>7140.900889</td>\n",
       "      <td>0.123026</td>\n",
       "      <td>24.920040</td>\n",
       "      <td>7931.786274</td>\n",
       "      <td>0.116727</td>\n",
       "      <td>25.583579</td>\n",
       "      <td>8.142984e+03</td>\n",
       "      <td>0.115203</td>\n",
       "      <td>25.752319</td>\n",
       "    </tr>\n",
       "    <tr>\n",
       "      <th>15</th>\n",
       "      <td>8.006156</td>\n",
       "      <td>267.039474</td>\n",
       "      <td>2.531769</td>\n",
       "      <td>676.082247</td>\n",
       "      <td>0.401253</td>\n",
       "      <td>12.639063</td>\n",
       "      <td>3375.128751</td>\n",
       "      <td>0.179023</td>\n",
       "      <td>18.922098</td>\n",
       "      <td>5052.947061</td>\n",
       "      <td>0.146274</td>\n",
       "      <td>20.933400</td>\n",
       "      <td>5590.044208</td>\n",
       "      <td>0.139063</td>\n",
       "      <td>21.469326</td>\n",
       "      <td>5.733157e+03</td>\n",
       "      <td>0.137315</td>\n",
       "      <td>21.605566</td>\n",
       "    </tr>\n",
       "    <tr>\n",
       "      <th>16</th>\n",
       "      <td>7.345407</td>\n",
       "      <td>224.780702</td>\n",
       "      <td>2.322822</td>\n",
       "      <td>522.125460</td>\n",
       "      <td>0.457121</td>\n",
       "      <td>10.864262</td>\n",
       "      <td>2442.076326</td>\n",
       "      <td>0.210526</td>\n",
       "      <td>16.008950</td>\n",
       "      <td>3598.503104</td>\n",
       "      <td>0.173369</td>\n",
       "      <td>17.641259</td>\n",
       "      <td>3965.414635</td>\n",
       "      <td>0.165143</td>\n",
       "      <td>18.075326</td>\n",
       "      <td>4.062984e+03</td>\n",
       "      <td>0.163145</td>\n",
       "      <td>18.185648</td>\n",
       "    </tr>\n",
       "    <tr>\n",
       "      <th>17</th>\n",
       "      <td>6.732176</td>\n",
       "      <td>188.815789</td>\n",
       "      <td>2.128901</td>\n",
       "      <td>401.970147</td>\n",
       "      <td>0.521768</td>\n",
       "      <td>9.320022</td>\n",
       "      <td>1759.767251</td>\n",
       "      <td>0.248108</td>\n",
       "      <td>13.515584</td>\n",
       "      <td>2551.955590</td>\n",
       "      <td>0.205934</td>\n",
       "      <td>14.835123</td>\n",
       "      <td>2801.105512</td>\n",
       "      <td>0.196544</td>\n",
       "      <td>15.185370</td>\n",
       "      <td>2.867238e+03</td>\n",
       "      <td>0.194260</td>\n",
       "      <td>15.274384</td>\n",
       "    </tr>\n",
       "    <tr>\n",
       "      <th>18</th>\n",
       "      <td>6.180626</td>\n",
       "      <td>159.144737</td>\n",
       "      <td>1.954486</td>\n",
       "      <td>311.046098</td>\n",
       "      <td>0.594280</td>\n",
       "      <td>8.017461</td>\n",
       "      <td>1275.936724</td>\n",
       "      <td>0.291543</td>\n",
       "      <td>11.446717</td>\n",
       "      <td>1821.684731</td>\n",
       "      <td>0.243843</td>\n",
       "      <td>12.516342</td>\n",
       "      <td>1991.910026</td>\n",
       "      <td>0.233162</td>\n",
       "      <td>12.799814</td>\n",
       "      <td>2.037023e+03</td>\n",
       "      <td>0.230559</td>\n",
       "      <td>12.871869</td>\n",
       "    </tr>\n",
       "    <tr>\n",
       "      <th>19</th>\n",
       "      <td>5.670730</td>\n",
       "      <td>133.969298</td>\n",
       "      <td>1.793242</td>\n",
       "      <td>240.239415</td>\n",
       "      <td>0.677888</td>\n",
       "      <td>6.887476</td>\n",
       "      <td>922.710388</td>\n",
       "      <td>0.343108</td>\n",
       "      <td>9.681076</td>\n",
       "      <td>1296.966975</td>\n",
       "      <td>0.289160</td>\n",
       "      <td>10.545562</td>\n",
       "      <td>1412.781486</td>\n",
       "      <td>0.277008</td>\n",
       "      <td>10.774390</td>\n",
       "      <td>1.443437e+03</td>\n",
       "      <td>0.274040</td>\n",
       "      <td>10.832585</td>\n",
       "    </tr>\n",
       "    <tr>\n",
       "      <th>20</th>\n",
       "      <td>5.193987</td>\n",
       "      <td>112.390351</td>\n",
       "      <td>1.642483</td>\n",
       "      <td>184.599227</td>\n",
       "      <td>0.775857</td>\n",
       "      <td>5.896713</td>\n",
       "      <td>662.733650</td>\n",
       "      <td>0.405306</td>\n",
       "      <td>8.158483</td>\n",
       "      <td>916.934783</td>\n",
       "      <td>0.344193</td>\n",
       "      <td>8.853191</td>\n",
       "      <td>995.013250</td>\n",
       "      <td>0.330338</td>\n",
       "      <td>9.036947</td>\n",
       "      <td>1.015666e+03</td>\n",
       "      <td>0.326944</td>\n",
       "      <td>9.083725</td>\n",
       "    </tr>\n",
       "    <tr>\n",
       "      <th>21</th>\n",
       "      <td>4.760368</td>\n",
       "      <td>94.407895</td>\n",
       "      <td>1.505360</td>\n",
       "      <td>142.117908</td>\n",
       "      <td>0.887947</td>\n",
       "      <td>5.051808</td>\n",
       "      <td>476.930573</td>\n",
       "      <td>0.478519</td>\n",
       "      <td>6.881624</td>\n",
       "      <td>649.679644</td>\n",
       "      <td>0.409390</td>\n",
       "      <td>7.439979</td>\n",
       "      <td>702.392752</td>\n",
       "      <td>0.393608</td>\n",
       "      <td>7.587667</td>\n",
       "      <td>7.163357e+02</td>\n",
       "      <td>0.389730</td>\n",
       "      <td>7.625325</td>\n",
       "    </tr>\n",
       "    <tr>\n",
       "      <th>22</th>\n",
       "      <td>4.358000</td>\n",
       "      <td>79.122807</td>\n",
       "      <td>1.378120</td>\n",
       "      <td>109.040759</td>\n",
       "      <td>1.019264</td>\n",
       "      <td>4.316619</td>\n",
       "      <td>341.543045</td>\n",
       "      <td>0.566701</td>\n",
       "      <td>5.789090</td>\n",
       "      <td>458.049031</td>\n",
       "      <td>0.488393</td>\n",
       "      <td>6.235946</td>\n",
       "      <td>493.405557</td>\n",
       "      <td>0.470375</td>\n",
       "      <td>6.354260</td>\n",
       "      <td>5.027669e+02</td>\n",
       "      <td>0.465929</td>\n",
       "      <td>6.384505</td>\n",
       "    </tr>\n",
       "    <tr>\n",
       "      <th>23</th>\n",
       "      <td>3.996333</td>\n",
       "      <td>66.535088</td>\n",
       "      <td>1.263752</td>\n",
       "      <td>84.083821</td>\n",
       "      <td>1.168718</td>\n",
       "      <td>3.696637</td>\n",
       "      <td>245.956048</td>\n",
       "      <td>0.669794</td>\n",
       "      <td>4.883048</td>\n",
       "      <td>324.894020</td>\n",
       "      <td>0.581268</td>\n",
       "      <td>5.241715</td>\n",
       "      <td>348.757934</td>\n",
       "      <td>0.560719</td>\n",
       "      <td>5.336899</td>\n",
       "      <td>3.550911e+02</td>\n",
       "      <td>0.555622</td>\n",
       "      <td>5.361324</td>\n",
       "    </tr>\n",
       "    <tr>\n",
       "      <th>24</th>\n",
       "      <td>3.687365</td>\n",
       "      <td>56.644737</td>\n",
       "      <td>1.166047</td>\n",
       "      <td>66.050435</td>\n",
       "      <td>1.329340</td>\n",
       "      <td>3.198145</td>\n",
       "      <td>181.158083</td>\n",
       "      <td>0.783400</td>\n",
       "      <td>4.166049</td>\n",
       "      <td>235.984724</td>\n",
       "      <td>0.684105</td>\n",
       "      <td>4.458150</td>\n",
       "      <td>252.530730</td>\n",
       "      <td>0.660835</td>\n",
       "      <td>4.535964</td>\n",
       "      <td>2.569385e+02</td>\n",
       "      <td>0.655026</td>\n",
       "      <td>4.556033</td>\n",
       "    </tr>\n",
       "    <tr>\n",
       "      <th>25</th>\n",
       "      <td>3.382079</td>\n",
       "      <td>47.653509</td>\n",
       "      <td>1.069507</td>\n",
       "      <td>50.965779</td>\n",
       "      <td>1.529974</td>\n",
       "      <td>2.734272</td>\n",
       "      <td>130.297676</td>\n",
       "      <td>0.928870</td>\n",
       "      <td>3.509186</td>\n",
       "      <td>167.225041</td>\n",
       "      <td>0.816354</td>\n",
       "      <td>3.743213</td>\n",
       "      <td>178.377211</td>\n",
       "      <td>0.789659</td>\n",
       "      <td>3.805958</td>\n",
       "      <td>1.813673e+02</td>\n",
       "      <td>0.782935</td>\n",
       "      <td>3.822266</td>\n",
       "    </tr>\n",
       "  </tbody>\n",
       "</table>\n",
       "</div>"
      ],
      "text/plain": [
       "    w_base_cm_s      Re_base        w2           Re2       CD2          w3  \\\n",
       "0     29.381627  3596.491228  9.291286  33416.029461  0.056855  123.222860   \n",
       "1     26.944730  3024.649123  8.520672  25772.042499  0.064741  105.896753   \n",
       "2     24.705039  2542.719298  7.812419  19864.789431  0.073744   90.974872   \n",
       "3     22.654359  2138.114035  7.163937  15317.314643  0.083984   78.172444   \n",
       "4     20.775948  1798.245614  6.569932  11814.350516  0.095632   67.182841   \n",
       "5     19.052801  1512.324561  6.025025   9111.793008  0.108902   57.735154   \n",
       "6     17.469101  1271.359649  5.524215   7023.263657  0.124053   49.598316   \n",
       "7     16.019051  1069.057018  5.065669   5415.488527  0.141288   42.617048   \n",
       "8     14.690813   899.122807  4.645643   4177.003683  0.160900   36.624152   \n",
       "9     13.472365   756.162281  4.260336   3221.505312  0.183249   31.471904   \n",
       "10    12.352520   635.679825  3.906210   2483.098679  0.208776   27.034302   \n",
       "11    11.331942   534.978070  3.583475   1917.080310  0.237681   23.243784   \n",
       "12    10.387974   449.561404  3.284966   1476.793815  0.270916   19.957837   \n",
       "13     9.520735   377.631579  3.010721   1136.943266  0.308929   17.129360   \n",
       "14     8.740725   318.289474  2.764060    879.771221  0.351430   14.744423   \n",
       "15     8.006156   267.039474  2.531769    676.082247  0.401253   12.639063   \n",
       "16     7.345407   224.780702  2.322822    522.125460  0.457121   10.864262   \n",
       "17     6.732176   188.815789  2.128901    401.970147  0.521768    9.320022   \n",
       "18     6.180626   159.144737  1.954486    311.046098  0.594280    8.017461   \n",
       "19     5.670730   133.969298  1.793242    240.239415  0.677888    6.887476   \n",
       "20     5.193987   112.390351  1.642483    184.599227  0.775857    5.896713   \n",
       "21     4.760368    94.407895  1.505360    142.117908  0.887947    5.051808   \n",
       "22     4.358000    79.122807  1.378120    109.040759  1.019264    4.316619   \n",
       "23     3.996333    66.535088  1.263752     84.083821  1.168718    3.696637   \n",
       "24     3.687365    56.644737  1.166047     66.050435  1.329340    3.198145   \n",
       "25     3.382079    47.653509  1.069507     50.965779  1.529974    2.734272   \n",
       "\n",
       "              Re3       CD3          w4            Re4       CD4          w5  \\\n",
       "0   443169.935327  0.015611  235.158763  845746.427936  0.011300  276.394413   \n",
       "1   320300.519832  0.018363  198.840800  601423.651360  0.013401  232.761990   \n",
       "2   231323.562645  0.021608  168.066855  427346.834983  0.015897  195.940123   \n",
       "3   167141.600085  0.025420  142.089997  303804.616634  0.018855  164.984261   \n",
       "4   120811.248794  0.029900  120.150879  216060.791730  0.022358  138.946053   \n",
       "5    87314.291810  0.035171  101.593893  153642.939942  0.026513  117.011160   \n",
       "6    63057.298258  0.041387   85.869566  109171.101088  0.031453   98.500000   \n",
       "7    45560.054754  0.048691   72.596249   77609.529663  0.037305   82.937728   \n",
       "8    32929.610360  0.057274   61.385948   55193.506223  0.044237   69.847587   \n",
       "9    23797.866643  0.067374   51.903672   39247.598667  0.052461   58.820190   \n",
       "10   17185.160181  0.079287   43.868655   27886.418843  0.062238   49.513889   \n",
       "11   12434.914722  0.093215   37.116117   19856.308581  0.073760   41.724761   \n",
       "12    8972.273271  0.109746   31.357109   14096.945780  0.087545   35.108728   \n",
       "13    6468.587121  0.129267   26.480576    9999.901704  0.103951   29.529466   \n",
       "14    4692.994488  0.151787   22.435240    7140.900889  0.123026   24.920040   \n",
       "15    3375.128751  0.179023   18.922098    5052.947061  0.146274   20.933400   \n",
       "16    2442.076326  0.210526   16.008950    3598.503104  0.173369   17.641259   \n",
       "17    1759.767251  0.248108   13.515584    2551.955590  0.205934   14.835123   \n",
       "18    1275.936724  0.291543   11.446717    1821.684731  0.243843   12.516342   \n",
       "19     922.710388  0.343108    9.681076    1296.966975  0.289160   10.545562   \n",
       "20     662.733650  0.405306    8.158483     916.934783  0.344193    8.853191   \n",
       "21     476.930573  0.478519    6.881624     649.679644  0.409390    7.439979   \n",
       "22     341.543045  0.566701    5.789090     458.049031  0.488393    6.235946   \n",
       "23     245.956048  0.669794    4.883048     324.894020  0.581268    5.241715   \n",
       "24     181.158083  0.783400    4.166049     235.984724  0.684105    4.458150   \n",
       "25     130.297676  0.928870    3.509186     167.225041  0.816354    3.743213   \n",
       "\n",
       "              Re5       CD5          w6           Re6       CD6          w7  \n",
       "0   994050.080129  0.010423  287.787141  1.035024e+06  0.010215  290.707970  \n",
       "1   704023.349188  0.012386  242.110621  7.322997e+05  0.012144  244.505886  \n",
       "2   498220.731376  0.014723  203.602869  5.177049e+05  0.014444  205.564950  \n",
       "3   352755.164694  0.017498  171.262600  3.661790e+05  0.017174  172.869191  \n",
       "4   249859.130050  0.020791  144.087528  2.591048e+05  0.020416  145.402381  \n",
       "5   176958.851050  0.024705  121.218164  1.833212e+05  0.024272  122.293372  \n",
       "6   125228.924888  0.029368  101.938010  1.295999e+05  0.028868  102.816138  \n",
       "7    88665.160213  0.034902   85.745740  9.166709e+04  0.034326   86.462516  \n",
       "8    62801.558919  0.041471   72.139527  6.486229e+04  0.040807   72.724217  \n",
       "9    44477.608979  0.049280   60.689037  4.589076e+04  0.048515   61.165510  \n",
       "10   31474.980053  0.058582   51.035524  3.244225e+04  0.057702   51.423250  \n",
       "11   22321.832127  0.069566   42.964020  2.298481e+04  0.068555   43.279618  \n",
       "12   15783.529051  0.082734   36.115136  1.623597e+04  0.081573   36.371299  \n",
       "13   11151.258838  0.098436   30.345452  1.145940e+04  0.097103   30.553046  \n",
       "14    7931.786274  0.116727   25.583579  8.142984e+03  0.115203   25.752319  \n",
       "15    5590.044208  0.139063   21.469326  5.733157e+03  0.137315   21.605566  \n",
       "16    3965.414635  0.165143   18.075326  4.062984e+03  0.163145   18.185648  \n",
       "17    2801.105512  0.196544   15.185370  2.867238e+03  0.194260   15.274384  \n",
       "18    1991.910026  0.233162   12.799814  2.037023e+03  0.230559   12.871869  \n",
       "19    1412.781486  0.277008   10.774390  1.443437e+03  0.274040   10.832585  \n",
       "20     995.013250  0.330338    9.036947  1.015666e+03  0.326944    9.083725  \n",
       "21     702.392752  0.393608    7.587667  7.163357e+02  0.389730    7.625325  \n",
       "22     493.405557  0.470375    6.354260  5.027669e+02  0.465929    6.384505  \n",
       "23     348.757934  0.560719    5.336899  3.550911e+02  0.555622    5.361324  \n",
       "24     252.530730  0.660835    4.535964  2.569385e+02  0.655026    4.556033  \n",
       "25     178.377211  0.789659    3.805958  1.813673e+02  0.782935    3.822266  "
      ]
     },
     "execution_count": 354,
     "metadata": {},
     "output_type": "execute_result"
    }
   ],
   "source": [
    "df"
   ]
  },
  {
   "cell_type": "code",
   "execution_count": 303,
   "metadata": {},
   "outputs": [
    {
     "data": {
      "text/plain": [
       "0     290.707970\n",
       "1     244.505886\n",
       "2     205.564950\n",
       "3     172.869191\n",
       "4     145.402381\n",
       "5     122.293372\n",
       "6     102.816138\n",
       "7      86.462516\n",
       "8      72.724217\n",
       "9      61.165510\n",
       "10     51.423250\n",
       "11     43.279618\n",
       "12     36.371299\n",
       "13     30.553046\n",
       "14     25.752319\n",
       "15     21.605566\n",
       "16     18.185648\n",
       "17     15.274384\n",
       "18     12.871869\n",
       "19     10.832585\n",
       "20      9.083725\n",
       "21      7.625325\n",
       "22      6.384505\n",
       "23      5.361324\n",
       "24      4.556033\n",
       "25      3.822266\n",
       "Name: w7, dtype: float64"
      ]
     },
     "execution_count": 303,
     "metadata": {},
     "output_type": "execute_result"
    }
   ],
   "source": [
    "df['w7']"
   ]
  },
  {
   "cell_type": "code",
   "execution_count": 298,
   "metadata": {},
   "outputs": [],
   "source": [
    "data.reset_index(inplace=True)"
   ]
  },
  {
   "cell_type": "code",
   "execution_count": 299,
   "metadata": {},
   "outputs": [],
   "source": [
    "data['w_cm_s'] = df['w7']"
   ]
  },
  {
   "cell_type": "code",
   "execution_count": 300,
   "metadata": {},
   "outputs": [
    {
     "data": {
      "text/html": [
       "<div>\n",
       "<style scoped>\n",
       "    .dataframe tbody tr th:only-of-type {\n",
       "        vertical-align: middle;\n",
       "    }\n",
       "\n",
       "    .dataframe tbody tr th {\n",
       "        vertical-align: top;\n",
       "    }\n",
       "\n",
       "    .dataframe thead th {\n",
       "        text-align: right;\n",
       "    }\n",
       "</style>\n",
       "<table border=\"1\" class=\"dataframe\">\n",
       "  <thead>\n",
       "    <tr style=\"text-align: right;\">\n",
       "      <th></th>\n",
       "      <th>index</th>\n",
       "      <th>GrainSize_mm</th>\n",
       "      <th>Percent</th>\n",
       "      <th>CumulativePercCoarser</th>\n",
       "      <th>phi</th>\n",
       "      <th>w_cm_s</th>\n",
       "    </tr>\n",
       "  </thead>\n",
       "  <tbody>\n",
       "    <tr>\n",
       "      <th>0</th>\n",
       "      <td>4</td>\n",
       "      <td>4.000</td>\n",
       "      <td>0.00</td>\n",
       "      <td>0.00</td>\n",
       "      <td>-2.000000</td>\n",
       "      <td>290.707970</td>\n",
       "    </tr>\n",
       "    <tr>\n",
       "      <th>1</th>\n",
       "      <td>5</td>\n",
       "      <td>3.364</td>\n",
       "      <td>0.26</td>\n",
       "      <td>0.26</td>\n",
       "      <td>-1.750178</td>\n",
       "      <td>244.505886</td>\n",
       "    </tr>\n",
       "    <tr>\n",
       "      <th>2</th>\n",
       "      <td>6</td>\n",
       "      <td>2.828</td>\n",
       "      <td>0.16</td>\n",
       "      <td>0.42</td>\n",
       "      <td>-1.499782</td>\n",
       "      <td>205.564950</td>\n",
       "    </tr>\n",
       "    <tr>\n",
       "      <th>3</th>\n",
       "      <td>7</td>\n",
       "      <td>2.378</td>\n",
       "      <td>0.17</td>\n",
       "      <td>0.59</td>\n",
       "      <td>-1.249749</td>\n",
       "      <td>172.869191</td>\n",
       "    </tr>\n",
       "    <tr>\n",
       "      <th>4</th>\n",
       "      <td>8</td>\n",
       "      <td>2.000</td>\n",
       "      <td>0.22</td>\n",
       "      <td>0.81</td>\n",
       "      <td>-1.000000</td>\n",
       "      <td>145.402381</td>\n",
       "    </tr>\n",
       "    <tr>\n",
       "      <th>5</th>\n",
       "      <td>9</td>\n",
       "      <td>1.682</td>\n",
       "      <td>0.22</td>\n",
       "      <td>1.03</td>\n",
       "      <td>-0.750178</td>\n",
       "      <td>122.293372</td>\n",
       "    </tr>\n",
       "    <tr>\n",
       "      <th>6</th>\n",
       "      <td>10</td>\n",
       "      <td>1.414</td>\n",
       "      <td>0.48</td>\n",
       "      <td>1.51</td>\n",
       "      <td>-0.499782</td>\n",
       "      <td>102.816138</td>\n",
       "    </tr>\n",
       "    <tr>\n",
       "      <th>7</th>\n",
       "      <td>11</td>\n",
       "      <td>1.189</td>\n",
       "      <td>0.76</td>\n",
       "      <td>2.27</td>\n",
       "      <td>-0.249749</td>\n",
       "      <td>86.462516</td>\n",
       "    </tr>\n",
       "    <tr>\n",
       "      <th>8</th>\n",
       "      <td>12</td>\n",
       "      <td>1.000</td>\n",
       "      <td>0.83</td>\n",
       "      <td>3.10</td>\n",
       "      <td>-0.000000</td>\n",
       "      <td>72.724217</td>\n",
       "    </tr>\n",
       "    <tr>\n",
       "      <th>9</th>\n",
       "      <td>13</td>\n",
       "      <td>0.841</td>\n",
       "      <td>1.59</td>\n",
       "      <td>4.69</td>\n",
       "      <td>0.249822</td>\n",
       "      <td>61.165510</td>\n",
       "    </tr>\n",
       "    <tr>\n",
       "      <th>10</th>\n",
       "      <td>14</td>\n",
       "      <td>0.707</td>\n",
       "      <td>2.10</td>\n",
       "      <td>6.79</td>\n",
       "      <td>0.500218</td>\n",
       "      <td>51.423250</td>\n",
       "    </tr>\n",
       "    <tr>\n",
       "      <th>11</th>\n",
       "      <td>15</td>\n",
       "      <td>0.595</td>\n",
       "      <td>2.73</td>\n",
       "      <td>9.52</td>\n",
       "      <td>0.749038</td>\n",
       "      <td>43.279618</td>\n",
       "    </tr>\n",
       "    <tr>\n",
       "      <th>12</th>\n",
       "      <td>16</td>\n",
       "      <td>0.500</td>\n",
       "      <td>6.19</td>\n",
       "      <td>15.71</td>\n",
       "      <td>1.000000</td>\n",
       "      <td>36.371299</td>\n",
       "    </tr>\n",
       "    <tr>\n",
       "      <th>13</th>\n",
       "      <td>17</td>\n",
       "      <td>0.420</td>\n",
       "      <td>4.45</td>\n",
       "      <td>20.16</td>\n",
       "      <td>1.251539</td>\n",
       "      <td>30.553046</td>\n",
       "    </tr>\n",
       "    <tr>\n",
       "      <th>14</th>\n",
       "      <td>18</td>\n",
       "      <td>0.354</td>\n",
       "      <td>7.09</td>\n",
       "      <td>27.25</td>\n",
       "      <td>1.498179</td>\n",
       "      <td>25.752319</td>\n",
       "    </tr>\n",
       "    <tr>\n",
       "      <th>15</th>\n",
       "      <td>19</td>\n",
       "      <td>0.297</td>\n",
       "      <td>9.44</td>\n",
       "      <td>36.69</td>\n",
       "      <td>1.751465</td>\n",
       "      <td>21.605566</td>\n",
       "    </tr>\n",
       "    <tr>\n",
       "      <th>16</th>\n",
       "      <td>20</td>\n",
       "      <td>0.250</td>\n",
       "      <td>17.41</td>\n",
       "      <td>54.10</td>\n",
       "      <td>2.000000</td>\n",
       "      <td>18.185648</td>\n",
       "    </tr>\n",
       "    <tr>\n",
       "      <th>17</th>\n",
       "      <td>21</td>\n",
       "      <td>0.210</td>\n",
       "      <td>13.82</td>\n",
       "      <td>67.92</td>\n",
       "      <td>2.251539</td>\n",
       "      <td>15.274384</td>\n",
       "    </tr>\n",
       "    <tr>\n",
       "      <th>18</th>\n",
       "      <td>22</td>\n",
       "      <td>0.177</td>\n",
       "      <td>15.51</td>\n",
       "      <td>83.43</td>\n",
       "      <td>2.498179</td>\n",
       "      <td>12.871869</td>\n",
       "    </tr>\n",
       "    <tr>\n",
       "      <th>19</th>\n",
       "      <td>23</td>\n",
       "      <td>0.149</td>\n",
       "      <td>9.92</td>\n",
       "      <td>93.35</td>\n",
       "      <td>2.746616</td>\n",
       "      <td>10.832585</td>\n",
       "    </tr>\n",
       "    <tr>\n",
       "      <th>20</th>\n",
       "      <td>24</td>\n",
       "      <td>0.125</td>\n",
       "      <td>4.83</td>\n",
       "      <td>98.18</td>\n",
       "      <td>3.000000</td>\n",
       "      <td>9.083725</td>\n",
       "    </tr>\n",
       "    <tr>\n",
       "      <th>21</th>\n",
       "      <td>25</td>\n",
       "      <td>0.105</td>\n",
       "      <td>1.55</td>\n",
       "      <td>99.73</td>\n",
       "      <td>3.251539</td>\n",
       "      <td>7.625325</td>\n",
       "    </tr>\n",
       "    <tr>\n",
       "      <th>22</th>\n",
       "      <td>26</td>\n",
       "      <td>0.088</td>\n",
       "      <td>0.16</td>\n",
       "      <td>99.89</td>\n",
       "      <td>3.506353</td>\n",
       "      <td>6.384505</td>\n",
       "    </tr>\n",
       "    <tr>\n",
       "      <th>23</th>\n",
       "      <td>27</td>\n",
       "      <td>0.074</td>\n",
       "      <td>0.09</td>\n",
       "      <td>99.98</td>\n",
       "      <td>3.756331</td>\n",
       "      <td>5.361324</td>\n",
       "    </tr>\n",
       "    <tr>\n",
       "      <th>24</th>\n",
       "      <td>28</td>\n",
       "      <td>0.063</td>\n",
       "      <td>0.01</td>\n",
       "      <td>99.99</td>\n",
       "      <td>3.988504</td>\n",
       "      <td>4.556033</td>\n",
       "    </tr>\n",
       "    <tr>\n",
       "      <th>25</th>\n",
       "      <td>29</td>\n",
       "      <td>0.053</td>\n",
       "      <td>0.01</td>\n",
       "      <td>100.00</td>\n",
       "      <td>4.237864</td>\n",
       "      <td>3.822266</td>\n",
       "    </tr>\n",
       "  </tbody>\n",
       "</table>\n",
       "</div>"
      ],
      "text/plain": [
       "    index  GrainSize_mm  Percent  CumulativePercCoarser       phi      w_cm_s\n",
       "0       4         4.000     0.00                   0.00 -2.000000  290.707970\n",
       "1       5         3.364     0.26                   0.26 -1.750178  244.505886\n",
       "2       6         2.828     0.16                   0.42 -1.499782  205.564950\n",
       "3       7         2.378     0.17                   0.59 -1.249749  172.869191\n",
       "4       8         2.000     0.22                   0.81 -1.000000  145.402381\n",
       "5       9         1.682     0.22                   1.03 -0.750178  122.293372\n",
       "6      10         1.414     0.48                   1.51 -0.499782  102.816138\n",
       "7      11         1.189     0.76                   2.27 -0.249749   86.462516\n",
       "8      12         1.000     0.83                   3.10 -0.000000   72.724217\n",
       "9      13         0.841     1.59                   4.69  0.249822   61.165510\n",
       "10     14         0.707     2.10                   6.79  0.500218   51.423250\n",
       "11     15         0.595     2.73                   9.52  0.749038   43.279618\n",
       "12     16         0.500     6.19                  15.71  1.000000   36.371299\n",
       "13     17         0.420     4.45                  20.16  1.251539   30.553046\n",
       "14     18         0.354     7.09                  27.25  1.498179   25.752319\n",
       "15     19         0.297     9.44                  36.69  1.751465   21.605566\n",
       "16     20         0.250    17.41                  54.10  2.000000   18.185648\n",
       "17     21         0.210    13.82                  67.92  2.251539   15.274384\n",
       "18     22         0.177    15.51                  83.43  2.498179   12.871869\n",
       "19     23         0.149     9.92                  93.35  2.746616   10.832585\n",
       "20     24         0.125     4.83                  98.18  3.000000    9.083725\n",
       "21     25         0.105     1.55                  99.73  3.251539    7.625325\n",
       "22     26         0.088     0.16                  99.89  3.506353    6.384505\n",
       "23     27         0.074     0.09                  99.98  3.756331    5.361324\n",
       "24     28         0.063     0.01                  99.99  3.988504    4.556033\n",
       "25     29         0.053     0.01                 100.00  4.237864    3.822266"
      ]
     },
     "execution_count": 300,
     "metadata": {},
     "output_type": "execute_result"
    }
   ],
   "source": [
    "data"
   ]
  },
  {
   "cell_type": "code",
   "execution_count": 304,
   "metadata": {},
   "outputs": [],
   "source": [
    "data['CumulativePercFiner'] = 100 - data['CumulativePercCoarser']"
   ]
  },
  {
   "cell_type": "code",
   "execution_count": 306,
   "metadata": {},
   "outputs": [],
   "source": [
    "data['GrainSize_cm'] = data['GrainSize_mm'] / 10"
   ]
  },
  {
   "cell_type": "code",
   "execution_count": 307,
   "metadata": {},
   "outputs": [
    {
     "data": {
      "text/html": [
       "<div>\n",
       "<style scoped>\n",
       "    .dataframe tbody tr th:only-of-type {\n",
       "        vertical-align: middle;\n",
       "    }\n",
       "\n",
       "    .dataframe tbody tr th {\n",
       "        vertical-align: top;\n",
       "    }\n",
       "\n",
       "    .dataframe thead th {\n",
       "        text-align: right;\n",
       "    }\n",
       "</style>\n",
       "<table border=\"1\" class=\"dataframe\">\n",
       "  <thead>\n",
       "    <tr style=\"text-align: right;\">\n",
       "      <th></th>\n",
       "      <th>index</th>\n",
       "      <th>GrainSize_mm</th>\n",
       "      <th>Percent</th>\n",
       "      <th>CumulativePercCoarser</th>\n",
       "      <th>phi</th>\n",
       "      <th>w_cm_s</th>\n",
       "      <th>CumulativePercFiner</th>\n",
       "      <th>GrainSize_cm</th>\n",
       "    </tr>\n",
       "  </thead>\n",
       "  <tbody>\n",
       "    <tr>\n",
       "      <th>0</th>\n",
       "      <td>4</td>\n",
       "      <td>4.000</td>\n",
       "      <td>0.00</td>\n",
       "      <td>0.00</td>\n",
       "      <td>-2.000000</td>\n",
       "      <td>290.707970</td>\n",
       "      <td>100.00</td>\n",
       "      <td>0.4000</td>\n",
       "    </tr>\n",
       "    <tr>\n",
       "      <th>1</th>\n",
       "      <td>5</td>\n",
       "      <td>3.364</td>\n",
       "      <td>0.26</td>\n",
       "      <td>0.26</td>\n",
       "      <td>-1.750178</td>\n",
       "      <td>244.505886</td>\n",
       "      <td>99.74</td>\n",
       "      <td>0.3364</td>\n",
       "    </tr>\n",
       "    <tr>\n",
       "      <th>2</th>\n",
       "      <td>6</td>\n",
       "      <td>2.828</td>\n",
       "      <td>0.16</td>\n",
       "      <td>0.42</td>\n",
       "      <td>-1.499782</td>\n",
       "      <td>205.564950</td>\n",
       "      <td>99.58</td>\n",
       "      <td>0.2828</td>\n",
       "    </tr>\n",
       "    <tr>\n",
       "      <th>3</th>\n",
       "      <td>7</td>\n",
       "      <td>2.378</td>\n",
       "      <td>0.17</td>\n",
       "      <td>0.59</td>\n",
       "      <td>-1.249749</td>\n",
       "      <td>172.869191</td>\n",
       "      <td>99.41</td>\n",
       "      <td>0.2378</td>\n",
       "    </tr>\n",
       "    <tr>\n",
       "      <th>4</th>\n",
       "      <td>8</td>\n",
       "      <td>2.000</td>\n",
       "      <td>0.22</td>\n",
       "      <td>0.81</td>\n",
       "      <td>-1.000000</td>\n",
       "      <td>145.402381</td>\n",
       "      <td>99.19</td>\n",
       "      <td>0.2000</td>\n",
       "    </tr>\n",
       "    <tr>\n",
       "      <th>5</th>\n",
       "      <td>9</td>\n",
       "      <td>1.682</td>\n",
       "      <td>0.22</td>\n",
       "      <td>1.03</td>\n",
       "      <td>-0.750178</td>\n",
       "      <td>122.293372</td>\n",
       "      <td>98.97</td>\n",
       "      <td>0.1682</td>\n",
       "    </tr>\n",
       "    <tr>\n",
       "      <th>6</th>\n",
       "      <td>10</td>\n",
       "      <td>1.414</td>\n",
       "      <td>0.48</td>\n",
       "      <td>1.51</td>\n",
       "      <td>-0.499782</td>\n",
       "      <td>102.816138</td>\n",
       "      <td>98.49</td>\n",
       "      <td>0.1414</td>\n",
       "    </tr>\n",
       "    <tr>\n",
       "      <th>7</th>\n",
       "      <td>11</td>\n",
       "      <td>1.189</td>\n",
       "      <td>0.76</td>\n",
       "      <td>2.27</td>\n",
       "      <td>-0.249749</td>\n",
       "      <td>86.462516</td>\n",
       "      <td>97.73</td>\n",
       "      <td>0.1189</td>\n",
       "    </tr>\n",
       "    <tr>\n",
       "      <th>8</th>\n",
       "      <td>12</td>\n",
       "      <td>1.000</td>\n",
       "      <td>0.83</td>\n",
       "      <td>3.10</td>\n",
       "      <td>-0.000000</td>\n",
       "      <td>72.724217</td>\n",
       "      <td>96.90</td>\n",
       "      <td>0.1000</td>\n",
       "    </tr>\n",
       "    <tr>\n",
       "      <th>9</th>\n",
       "      <td>13</td>\n",
       "      <td>0.841</td>\n",
       "      <td>1.59</td>\n",
       "      <td>4.69</td>\n",
       "      <td>0.249822</td>\n",
       "      <td>61.165510</td>\n",
       "      <td>95.31</td>\n",
       "      <td>0.0841</td>\n",
       "    </tr>\n",
       "    <tr>\n",
       "      <th>10</th>\n",
       "      <td>14</td>\n",
       "      <td>0.707</td>\n",
       "      <td>2.10</td>\n",
       "      <td>6.79</td>\n",
       "      <td>0.500218</td>\n",
       "      <td>51.423250</td>\n",
       "      <td>93.21</td>\n",
       "      <td>0.0707</td>\n",
       "    </tr>\n",
       "    <tr>\n",
       "      <th>11</th>\n",
       "      <td>15</td>\n",
       "      <td>0.595</td>\n",
       "      <td>2.73</td>\n",
       "      <td>9.52</td>\n",
       "      <td>0.749038</td>\n",
       "      <td>43.279618</td>\n",
       "      <td>90.48</td>\n",
       "      <td>0.0595</td>\n",
       "    </tr>\n",
       "    <tr>\n",
       "      <th>12</th>\n",
       "      <td>16</td>\n",
       "      <td>0.500</td>\n",
       "      <td>6.19</td>\n",
       "      <td>15.71</td>\n",
       "      <td>1.000000</td>\n",
       "      <td>36.371299</td>\n",
       "      <td>84.29</td>\n",
       "      <td>0.0500</td>\n",
       "    </tr>\n",
       "    <tr>\n",
       "      <th>13</th>\n",
       "      <td>17</td>\n",
       "      <td>0.420</td>\n",
       "      <td>4.45</td>\n",
       "      <td>20.16</td>\n",
       "      <td>1.251539</td>\n",
       "      <td>30.553046</td>\n",
       "      <td>79.84</td>\n",
       "      <td>0.0420</td>\n",
       "    </tr>\n",
       "    <tr>\n",
       "      <th>14</th>\n",
       "      <td>18</td>\n",
       "      <td>0.354</td>\n",
       "      <td>7.09</td>\n",
       "      <td>27.25</td>\n",
       "      <td>1.498179</td>\n",
       "      <td>25.752319</td>\n",
       "      <td>72.75</td>\n",
       "      <td>0.0354</td>\n",
       "    </tr>\n",
       "    <tr>\n",
       "      <th>15</th>\n",
       "      <td>19</td>\n",
       "      <td>0.297</td>\n",
       "      <td>9.44</td>\n",
       "      <td>36.69</td>\n",
       "      <td>1.751465</td>\n",
       "      <td>21.605566</td>\n",
       "      <td>63.31</td>\n",
       "      <td>0.0297</td>\n",
       "    </tr>\n",
       "    <tr>\n",
       "      <th>16</th>\n",
       "      <td>20</td>\n",
       "      <td>0.250</td>\n",
       "      <td>17.41</td>\n",
       "      <td>54.10</td>\n",
       "      <td>2.000000</td>\n",
       "      <td>18.185648</td>\n",
       "      <td>45.90</td>\n",
       "      <td>0.0250</td>\n",
       "    </tr>\n",
       "    <tr>\n",
       "      <th>17</th>\n",
       "      <td>21</td>\n",
       "      <td>0.210</td>\n",
       "      <td>13.82</td>\n",
       "      <td>67.92</td>\n",
       "      <td>2.251539</td>\n",
       "      <td>15.274384</td>\n",
       "      <td>32.08</td>\n",
       "      <td>0.0210</td>\n",
       "    </tr>\n",
       "    <tr>\n",
       "      <th>18</th>\n",
       "      <td>22</td>\n",
       "      <td>0.177</td>\n",
       "      <td>15.51</td>\n",
       "      <td>83.43</td>\n",
       "      <td>2.498179</td>\n",
       "      <td>12.871869</td>\n",
       "      <td>16.57</td>\n",
       "      <td>0.0177</td>\n",
       "    </tr>\n",
       "    <tr>\n",
       "      <th>19</th>\n",
       "      <td>23</td>\n",
       "      <td>0.149</td>\n",
       "      <td>9.92</td>\n",
       "      <td>93.35</td>\n",
       "      <td>2.746616</td>\n",
       "      <td>10.832585</td>\n",
       "      <td>6.65</td>\n",
       "      <td>0.0149</td>\n",
       "    </tr>\n",
       "    <tr>\n",
       "      <th>20</th>\n",
       "      <td>24</td>\n",
       "      <td>0.125</td>\n",
       "      <td>4.83</td>\n",
       "      <td>98.18</td>\n",
       "      <td>3.000000</td>\n",
       "      <td>9.083725</td>\n",
       "      <td>1.82</td>\n",
       "      <td>0.0125</td>\n",
       "    </tr>\n",
       "    <tr>\n",
       "      <th>21</th>\n",
       "      <td>25</td>\n",
       "      <td>0.105</td>\n",
       "      <td>1.55</td>\n",
       "      <td>99.73</td>\n",
       "      <td>3.251539</td>\n",
       "      <td>7.625325</td>\n",
       "      <td>0.27</td>\n",
       "      <td>0.0105</td>\n",
       "    </tr>\n",
       "    <tr>\n",
       "      <th>22</th>\n",
       "      <td>26</td>\n",
       "      <td>0.088</td>\n",
       "      <td>0.16</td>\n",
       "      <td>99.89</td>\n",
       "      <td>3.506353</td>\n",
       "      <td>6.384505</td>\n",
       "      <td>0.11</td>\n",
       "      <td>0.0088</td>\n",
       "    </tr>\n",
       "    <tr>\n",
       "      <th>23</th>\n",
       "      <td>27</td>\n",
       "      <td>0.074</td>\n",
       "      <td>0.09</td>\n",
       "      <td>99.98</td>\n",
       "      <td>3.756331</td>\n",
       "      <td>5.361324</td>\n",
       "      <td>0.02</td>\n",
       "      <td>0.0074</td>\n",
       "    </tr>\n",
       "    <tr>\n",
       "      <th>24</th>\n",
       "      <td>28</td>\n",
       "      <td>0.063</td>\n",
       "      <td>0.01</td>\n",
       "      <td>99.99</td>\n",
       "      <td>3.988504</td>\n",
       "      <td>4.556033</td>\n",
       "      <td>0.01</td>\n",
       "      <td>0.0063</td>\n",
       "    </tr>\n",
       "    <tr>\n",
       "      <th>25</th>\n",
       "      <td>29</td>\n",
       "      <td>0.053</td>\n",
       "      <td>0.01</td>\n",
       "      <td>100.00</td>\n",
       "      <td>4.237864</td>\n",
       "      <td>3.822266</td>\n",
       "      <td>0.00</td>\n",
       "      <td>0.0053</td>\n",
       "    </tr>\n",
       "  </tbody>\n",
       "</table>\n",
       "</div>"
      ],
      "text/plain": [
       "    index  GrainSize_mm  Percent  CumulativePercCoarser       phi      w_cm_s  \\\n",
       "0       4         4.000     0.00                   0.00 -2.000000  290.707970   \n",
       "1       5         3.364     0.26                   0.26 -1.750178  244.505886   \n",
       "2       6         2.828     0.16                   0.42 -1.499782  205.564950   \n",
       "3       7         2.378     0.17                   0.59 -1.249749  172.869191   \n",
       "4       8         2.000     0.22                   0.81 -1.000000  145.402381   \n",
       "5       9         1.682     0.22                   1.03 -0.750178  122.293372   \n",
       "6      10         1.414     0.48                   1.51 -0.499782  102.816138   \n",
       "7      11         1.189     0.76                   2.27 -0.249749   86.462516   \n",
       "8      12         1.000     0.83                   3.10 -0.000000   72.724217   \n",
       "9      13         0.841     1.59                   4.69  0.249822   61.165510   \n",
       "10     14         0.707     2.10                   6.79  0.500218   51.423250   \n",
       "11     15         0.595     2.73                   9.52  0.749038   43.279618   \n",
       "12     16         0.500     6.19                  15.71  1.000000   36.371299   \n",
       "13     17         0.420     4.45                  20.16  1.251539   30.553046   \n",
       "14     18         0.354     7.09                  27.25  1.498179   25.752319   \n",
       "15     19         0.297     9.44                  36.69  1.751465   21.605566   \n",
       "16     20         0.250    17.41                  54.10  2.000000   18.185648   \n",
       "17     21         0.210    13.82                  67.92  2.251539   15.274384   \n",
       "18     22         0.177    15.51                  83.43  2.498179   12.871869   \n",
       "19     23         0.149     9.92                  93.35  2.746616   10.832585   \n",
       "20     24         0.125     4.83                  98.18  3.000000    9.083725   \n",
       "21     25         0.105     1.55                  99.73  3.251539    7.625325   \n",
       "22     26         0.088     0.16                  99.89  3.506353    6.384505   \n",
       "23     27         0.074     0.09                  99.98  3.756331    5.361324   \n",
       "24     28         0.063     0.01                  99.99  3.988504    4.556033   \n",
       "25     29         0.053     0.01                 100.00  4.237864    3.822266   \n",
       "\n",
       "    CumulativePercFiner  GrainSize_cm  \n",
       "0                100.00        0.4000  \n",
       "1                 99.74        0.3364  \n",
       "2                 99.58        0.2828  \n",
       "3                 99.41        0.2378  \n",
       "4                 99.19        0.2000  \n",
       "5                 98.97        0.1682  \n",
       "6                 98.49        0.1414  \n",
       "7                 97.73        0.1189  \n",
       "8                 96.90        0.1000  \n",
       "9                 95.31        0.0841  \n",
       "10                93.21        0.0707  \n",
       "11                90.48        0.0595  \n",
       "12                84.29        0.0500  \n",
       "13                79.84        0.0420  \n",
       "14                72.75        0.0354  \n",
       "15                63.31        0.0297  \n",
       "16                45.90        0.0250  \n",
       "17                32.08        0.0210  \n",
       "18                16.57        0.0177  \n",
       "19                 6.65        0.0149  \n",
       "20                 1.82        0.0125  \n",
       "21                 0.27        0.0105  \n",
       "22                 0.11        0.0088  \n",
       "23                 0.02        0.0074  \n",
       "24                 0.01        0.0063  \n",
       "25                 0.00        0.0053  "
      ]
     },
     "execution_count": 307,
     "metadata": {},
     "output_type": "execute_result"
    }
   ],
   "source": [
    "data"
   ]
  },
  {
   "cell_type": "code",
   "execution_count": 314,
   "metadata": {},
   "outputs": [
    {
     "data": {
      "text/plain": [
       "Text(0, 0.5, 'Cumulative Percent Finer Than')"
      ]
     },
     "execution_count": 314,
     "metadata": {},
     "output_type": "execute_result"
    },
    {
     "data": {
      "image/png": "[encoded data removed]",
      "text/plain": [
       "<Figure size 432x288 with 1 Axes>"
      ]
     },
     "metadata": {},
     "output_type": "display_data"
    }
   ],
   "source": [
    "x = data['w_cm_s']\n",
    "y = data['CumulativePercFiner']\n",
    "\n",
    "plt.plot(x,y)\n",
    "\n",
    "plt.xlabel('Fall velocity (cm/s)')\n",
    "plt.ylabel(\"Cumulative Percent Finer Than\")\n",
    "\n"
   ]
  },
  {
   "cell_type": "code",
   "execution_count": null,
   "metadata": {},
   "outputs": [],
   "source": []
  },
  {
   "cell_type": "code",
   "execution_count": null,
   "metadata": {},
   "outputs": [],
   "source": []
  },
  {
   "cell_type": "code",
   "execution_count": null,
   "metadata": {},
   "outputs": [],
   "source": []
  },
  {
   "cell_type": "code",
   "execution_count": null,
   "metadata": {},
   "outputs": [],
   "source": []
  },
  {
   "cell_type": "code",
   "execution_count": null,
   "metadata": {},
   "outputs": [],
   "source": []
  },
  {
   "cell_type": "code",
   "execution_count": null,
   "metadata": {},
   "outputs": [],
   "source": []
  },
  {
   "cell_type": "code",
   "execution_count": null,
   "metadata": {},
   "outputs": [],
   "source": []
  },
  {
   "cell_type": "markdown",
   "metadata": {},
   "source": [
    "# SCRAP"
   ]
  },
  {
   "cell_type": "code",
   "execution_count": 171,
   "metadata": {},
   "outputs": [],
   "source": [
    "# t = np.linspace(-2, 4, 100)\n",
    "# y = ((1/(std_phi*np.sqrt(2*np.pi)))*(np.e**((-(t - M_dphi))/(2 * (std_phi**2)))))\n",
    "\n",
    "# y_int = integrate.cumtrapz(y, t, initial = 0)"
   ]
  },
  {
   "cell_type": "code",
   "execution_count": 172,
   "metadata": {},
   "outputs": [],
   "source": [
    "# y_int"
   ]
  },
  {
   "cell_type": "code",
   "execution_count": 173,
   "metadata": {},
   "outputs": [
    {
     "data": {
      "text/plain": [
       "Text(0.5, 1.0, 'Probability that a sand size is coarser than a given size')"
      ]
     },
     "execution_count": 173,
     "metadata": {},
     "output_type": "execute_result"
    },
    {
     "data": {
      "image/png": "[encoded data removed]",
      "text/plain": [
       "<Figure size 432x288 with 1 Axes>"
      ]
     },
     "metadata": {},
     "output_type": "display_data"
    }
   ],
   "source": [
    "# Plot\n",
    "\n",
    "x = g\n",
    "y = y_int\n",
    "\n",
    "plt.plot(x,y)\n",
    "\n",
    "plt.xlabel('Grain Size (phi scale)') \n",
    "plt.ylabel('Probability')\n",
    "plt.title('Probability that a sand size is coarser than a given size')"
   ]
  },
  {
   "cell_type": "markdown",
   "metadata": {},
   "source": [
    "## Just converting the x values to mm without messing with probabilty values"
   ]
  },
  {
   "cell_type": "code",
   "execution_count": 174,
   "metadata": {},
   "outputs": [
    {
     "data": {
      "text/plain": [
       "Text(0.5, 1.0, 'Probability that a sand size is coarser than a given size')"
      ]
     },
     "execution_count": 174,
     "metadata": {},
     "output_type": "execute_result"
    },
    {
     "data": {
      "image/png": "[encoded data removed]",
      "text/plain": [
       "<Figure size 432x288 with 1 Axes>"
      ]
     },
     "metadata": {},
     "output_type": "display_data"
    }
   ],
   "source": [
    "# Plot ** NEED TO CAP THIS AT 1 *** ALSO, IS THIS THE CORRECT WAY TO CONVERT FROM PHI TO MM?\n",
    "\n",
    "x = np.power(2, (-g))\n",
    "y = y_int\n",
    "\n",
    "plt.plot(x,y)\n",
    "\n",
    "plt.xlabel('Grain Size (mm)') \n",
    "plt.ylabel('Probability')\n",
    "plt.title('Probability that a sand size is coarser than a given size')\n"
   ]
  },
  {
   "cell_type": "markdown",
   "metadata": {},
   "source": [
    "## Recalc probabilities using mm values for mean and standard deviation"
   ]
  },
  {
   "cell_type": "code",
   "execution_count": 175,
   "metadata": {},
   "outputs": [],
   "source": [
    "std = np.power(2, (-std_phi))\n",
    "d_mean\n",
    "\n",
    "g = data['GrainSize_mm']\n",
    "y = ((1/(std*np.sqrt(2*np.pi)))*(np.e**((-(g - d_mean))/(2 * (std**2)))))\n",
    "\n",
    "y_int2 = integrate.cumtrapz(y, g, initial = 0)\n"
   ]
  },
  {
   "cell_type": "code",
   "execution_count": 176,
   "metadata": {},
   "outputs": [
    {
     "data": {
      "text/plain": [
       "Text(0.5, 1.0, 'Probability that a sand size is coarser than a given size')"
      ]
     },
     "execution_count": 176,
     "metadata": {},
     "output_type": "execute_result"
    },
    {
     "data": {
      "image/png": "[encoded data removed]",
      "text/plain": [
       "<Figure size 432x288 with 1 Axes>"
      ]
     },
     "metadata": {},
     "output_type": "display_data"
    }
   ],
   "source": [
    "# Plot\n",
    "\n",
    "x = g\n",
    "y = y_int2\n",
    "\n",
    "plt.plot(x,y)\n",
    "\n",
    "plt.xlabel('Grain Size (mm)') \n",
    "plt.ylabel('Probability')\n",
    "plt.title('Probability that a sand size is coarser than a given size')"
   ]
  },
  {
   "cell_type": "code",
   "execution_count": 94,
   "metadata": {},
   "outputs": [
    {
     "name": "stdout",
     "output_type": "stream",
     "text": [
      "w5 is 0.132899209395122 m/s\n"
     ]
    }
   ],
   "source": [
    "# Iterate with C_D, C_D = 1.2793564149304648\n",
    "w5 = (w * CD3)\n",
    "print (\"w5 is {} m/s\".format(w5))"
   ]
  },
  {
   "cell_type": "code",
   "execution_count": 103,
   "metadata": {},
   "outputs": [
    {
     "name": "stdout",
     "output_type": "stream",
     "text": [
      "Re5 is 59.74635510087721\n"
     ]
    }
   ],
   "source": [
    "Re5 = (Re * w5)\n",
    "print (\"Re5 is {}\".format(Re5))"
   ]
  },
  {
   "cell_type": "code",
   "execution_count": 96,
   "metadata": {},
   "outputs": [
    {
     "name": "stdout",
     "output_type": "stream",
     "text": [
      "CD4 is 1.4032116914088042\n"
     ]
    }
   ],
   "source": [
    "CD4 = (24/Re5) * np.sqrt(1 + ((3*Re5)/(16)))\n",
    "print (\"CD4 is {}\".format(CD4))"
   ]
  },
  {
   "cell_type": "markdown",
   "metadata": {},
   "source": [
    "________"
   ]
  },
  {
   "cell_type": "code",
   "execution_count": 100,
   "metadata": {},
   "outputs": [
    {
     "name": "stdout",
     "output_type": "stream",
     "text": [
      "w6 is 0.14576526308531296 m/s\n"
     ]
    }
   ],
   "source": [
    "# Iterate with C_D, C_D = 1.4032116914088042\n",
    "w6 = (w * CD4)\n",
    "print (\"w6 is {} m/s\".format(w6))"
   ]
  },
  {
   "cell_type": "code",
   "execution_count": 98,
   "metadata": {},
   "outputs": [
    {
     "name": "stdout",
     "output_type": "stream",
     "text": [
      "Re6 is 65.53043625545867\n"
     ]
    }
   ],
   "source": [
    "Re6 = (Re * w6)\n",
    "print (\"Re6 is {}\".format(Re6))"
   ]
  },
  {
   "cell_type": "code",
   "execution_count": 99,
   "metadata": {},
   "outputs": [
    {
     "name": "stdout",
     "output_type": "stream",
     "text": [
      "CD5 is 1.3349990110332997\n"
     ]
    }
   ],
   "source": [
    "CD5 = (24/Re6) * np.sqrt(1 + ((3*Re6)/(16)))\n",
    "print (\"CD5 is {}\".format(CD5))"
   ]
  },
  {
   "cell_type": "markdown",
   "metadata": {},
   "source": [
    "_____"
   ]
  },
  {
   "cell_type": "code",
   "execution_count": 101,
   "metadata": {},
   "outputs": [
    {
     "name": "stdout",
     "output_type": "stream",
     "text": [
      "w7 is 0.13867934770877618 m/s\n"
     ]
    }
   ],
   "source": [
    "# Iterate with C_D, C_D = 1.3349990110332997\n",
    "w7 = (w * CD5)\n",
    "print (\"w7 is {} m/s\".format(w7))"
   ]
  },
  {
   "cell_type": "code",
   "execution_count": 104,
   "metadata": {},
   "outputs": [],
   "source": [
    "#Calculate log-normal probability density function (pdf)\n",
    "data['pdf'] = (1/(std_phi*np.sqrt(2*np.pi)))*(np.e**((-(data.phi - M_dphi))/(2 * (std_phi**2))))"
   ]
  },
  {
   "cell_type": "code",
   "execution_count": 155,
   "metadata": {},
   "outputs": [
    {
     "data": {
      "text/html": [
       "<div>\n",
       "<style scoped>\n",
       "    .dataframe tbody tr th:only-of-type {\n",
       "        vertical-align: middle;\n",
       "    }\n",
       "\n",
       "    .dataframe tbody tr th {\n",
       "        vertical-align: top;\n",
       "    }\n",
       "\n",
       "    .dataframe thead th {\n",
       "        text-align: right;\n",
       "    }\n",
       "</style>\n",
       "<table border=\"1\" class=\"dataframe\">\n",
       "  <thead>\n",
       "    <tr style=\"text-align: right;\">\n",
       "      <th></th>\n",
       "      <th>GrainSize_mm</th>\n",
       "      <th>Percent</th>\n",
       "      <th>CumulativePercCoarser</th>\n",
       "      <th>phi</th>\n",
       "      <th>pdf</th>\n",
       "    </tr>\n",
       "  </thead>\n",
       "  <tbody>\n",
       "    <tr>\n",
       "      <th>4</th>\n",
       "      <td>4.000</td>\n",
       "      <td>0.00</td>\n",
       "      <td>0.00</td>\n",
       "      <td>-2.000000</td>\n",
       "      <td>0.265214</td>\n",
       "    </tr>\n",
       "    <tr>\n",
       "      <th>5</th>\n",
       "      <td>3.364</td>\n",
       "      <td>0.26</td>\n",
       "      <td>0.26</td>\n",
       "      <td>-1.750178</td>\n",
       "      <td>0.257984</td>\n",
       "    </tr>\n",
       "    <tr>\n",
       "      <th>6</th>\n",
       "      <td>2.828</td>\n",
       "      <td>0.16</td>\n",
       "      <td>0.42</td>\n",
       "      <td>-1.499782</td>\n",
       "      <td>0.250934</td>\n",
       "    </tr>\n",
       "    <tr>\n",
       "      <th>7</th>\n",
       "      <td>2.378</td>\n",
       "      <td>0.17</td>\n",
       "      <td>0.59</td>\n",
       "      <td>-1.249749</td>\n",
       "      <td>0.244087</td>\n",
       "    </tr>\n",
       "    <tr>\n",
       "      <th>8</th>\n",
       "      <td>2.000</td>\n",
       "      <td>0.22</td>\n",
       "      <td>0.81</td>\n",
       "      <td>-1.000000</td>\n",
       "      <td>0.237435</td>\n",
       "    </tr>\n",
       "    <tr>\n",
       "      <th>9</th>\n",
       "      <td>1.682</td>\n",
       "      <td>0.22</td>\n",
       "      <td>1.03</td>\n",
       "      <td>-0.750178</td>\n",
       "      <td>0.230961</td>\n",
       "    </tr>\n",
       "    <tr>\n",
       "      <th>10</th>\n",
       "      <td>1.414</td>\n",
       "      <td>0.48</td>\n",
       "      <td>1.51</td>\n",
       "      <td>-0.499782</td>\n",
       "      <td>0.224650</td>\n",
       "    </tr>\n",
       "    <tr>\n",
       "      <th>11</th>\n",
       "      <td>1.189</td>\n",
       "      <td>0.76</td>\n",
       "      <td>2.27</td>\n",
       "      <td>-0.249749</td>\n",
       "      <td>0.218520</td>\n",
       "    </tr>\n",
       "    <tr>\n",
       "      <th>12</th>\n",
       "      <td>1.000</td>\n",
       "      <td>0.83</td>\n",
       "      <td>3.10</td>\n",
       "      <td>-0.000000</td>\n",
       "      <td>0.212564</td>\n",
       "    </tr>\n",
       "    <tr>\n",
       "      <th>13</th>\n",
       "      <td>0.841</td>\n",
       "      <td>1.59</td>\n",
       "      <td>4.69</td>\n",
       "      <td>0.249822</td>\n",
       "      <td>0.206769</td>\n",
       "    </tr>\n",
       "    <tr>\n",
       "      <th>14</th>\n",
       "      <td>0.707</td>\n",
       "      <td>2.10</td>\n",
       "      <td>6.79</td>\n",
       "      <td>0.500218</td>\n",
       "      <td>0.201119</td>\n",
       "    </tr>\n",
       "    <tr>\n",
       "      <th>15</th>\n",
       "      <td>0.595</td>\n",
       "      <td>2.73</td>\n",
       "      <td>9.52</td>\n",
       "      <td>0.749038</td>\n",
       "      <td>0.195658</td>\n",
       "    </tr>\n",
       "    <tr>\n",
       "      <th>16</th>\n",
       "      <td>0.500</td>\n",
       "      <td>6.19</td>\n",
       "      <td>15.71</td>\n",
       "      <td>1.000000</td>\n",
       "      <td>0.190299</td>\n",
       "    </tr>\n",
       "    <tr>\n",
       "      <th>17</th>\n",
       "      <td>0.420</td>\n",
       "      <td>4.45</td>\n",
       "      <td>20.16</td>\n",
       "      <td>1.251539</td>\n",
       "      <td>0.185076</td>\n",
       "    </tr>\n",
       "    <tr>\n",
       "      <th>18</th>\n",
       "      <td>0.354</td>\n",
       "      <td>7.09</td>\n",
       "      <td>27.25</td>\n",
       "      <td>1.498179</td>\n",
       "      <td>0.180094</td>\n",
       "    </tr>\n",
       "    <tr>\n",
       "      <th>19</th>\n",
       "      <td>0.297</td>\n",
       "      <td>9.44</td>\n",
       "      <td>36.69</td>\n",
       "      <td>1.751465</td>\n",
       "      <td>0.175117</td>\n",
       "    </tr>\n",
       "    <tr>\n",
       "      <th>20</th>\n",
       "      <td>0.250</td>\n",
       "      <td>17.41</td>\n",
       "      <td>54.10</td>\n",
       "      <td>2.000000</td>\n",
       "      <td>0.170367</td>\n",
       "    </tr>\n",
       "    <tr>\n",
       "      <th>21</th>\n",
       "      <td>0.210</td>\n",
       "      <td>13.82</td>\n",
       "      <td>67.92</td>\n",
       "      <td>2.251539</td>\n",
       "      <td>0.165690</td>\n",
       "    </tr>\n",
       "    <tr>\n",
       "      <th>22</th>\n",
       "      <td>0.177</td>\n",
       "      <td>15.51</td>\n",
       "      <td>83.43</td>\n",
       "      <td>2.498179</td>\n",
       "      <td>0.161230</td>\n",
       "    </tr>\n",
       "    <tr>\n",
       "      <th>23</th>\n",
       "      <td>0.149</td>\n",
       "      <td>9.92</td>\n",
       "      <td>93.35</td>\n",
       "      <td>2.746616</td>\n",
       "      <td>0.156858</td>\n",
       "    </tr>\n",
       "    <tr>\n",
       "      <th>24</th>\n",
       "      <td>0.125</td>\n",
       "      <td>4.83</td>\n",
       "      <td>98.18</td>\n",
       "      <td>3.000000</td>\n",
       "      <td>0.152522</td>\n",
       "    </tr>\n",
       "    <tr>\n",
       "      <th>25</th>\n",
       "      <td>0.105</td>\n",
       "      <td>1.55</td>\n",
       "      <td>99.73</td>\n",
       "      <td>3.251539</td>\n",
       "      <td>0.148335</td>\n",
       "    </tr>\n",
       "    <tr>\n",
       "      <th>26</th>\n",
       "      <td>0.088</td>\n",
       "      <td>0.16</td>\n",
       "      <td>99.89</td>\n",
       "      <td>3.506353</td>\n",
       "      <td>0.144211</td>\n",
       "    </tr>\n",
       "    <tr>\n",
       "      <th>27</th>\n",
       "      <td>0.074</td>\n",
       "      <td>0.09</td>\n",
       "      <td>99.98</td>\n",
       "      <td>3.756331</td>\n",
       "      <td>0.140277</td>\n",
       "    </tr>\n",
       "    <tr>\n",
       "      <th>28</th>\n",
       "      <td>0.063</td>\n",
       "      <td>0.01</td>\n",
       "      <td>99.99</td>\n",
       "      <td>3.988504</td>\n",
       "      <td>0.136719</td>\n",
       "    </tr>\n",
       "    <tr>\n",
       "      <th>29</th>\n",
       "      <td>0.053</td>\n",
       "      <td>0.01</td>\n",
       "      <td>100.00</td>\n",
       "      <td>4.237864</td>\n",
       "      <td>0.132999</td>\n",
       "    </tr>\n",
       "  </tbody>\n",
       "</table>\n",
       "</div>"
      ],
      "text/plain": [
       "    GrainSize_mm  Percent  CumulativePercCoarser       phi       pdf\n",
       "4          4.000     0.00                   0.00 -2.000000  0.265214\n",
       "5          3.364     0.26                   0.26 -1.750178  0.257984\n",
       "6          2.828     0.16                   0.42 -1.499782  0.250934\n",
       "7          2.378     0.17                   0.59 -1.249749  0.244087\n",
       "8          2.000     0.22                   0.81 -1.000000  0.237435\n",
       "9          1.682     0.22                   1.03 -0.750178  0.230961\n",
       "10         1.414     0.48                   1.51 -0.499782  0.224650\n",
       "11         1.189     0.76                   2.27 -0.249749  0.218520\n",
       "12         1.000     0.83                   3.10 -0.000000  0.212564\n",
       "13         0.841     1.59                   4.69  0.249822  0.206769\n",
       "14         0.707     2.10                   6.79  0.500218  0.201119\n",
       "15         0.595     2.73                   9.52  0.749038  0.195658\n",
       "16         0.500     6.19                  15.71  1.000000  0.190299\n",
       "17         0.420     4.45                  20.16  1.251539  0.185076\n",
       "18         0.354     7.09                  27.25  1.498179  0.180094\n",
       "19         0.297     9.44                  36.69  1.751465  0.175117\n",
       "20         0.250    17.41                  54.10  2.000000  0.170367\n",
       "21         0.210    13.82                  67.92  2.251539  0.165690\n",
       "22         0.177    15.51                  83.43  2.498179  0.161230\n",
       "23         0.149     9.92                  93.35  2.746616  0.156858\n",
       "24         0.125     4.83                  98.18  3.000000  0.152522\n",
       "25         0.105     1.55                  99.73  3.251539  0.148335\n",
       "26         0.088     0.16                  99.89  3.506353  0.144211\n",
       "27         0.074     0.09                  99.98  3.756331  0.140277\n",
       "28         0.063     0.01                  99.99  3.988504  0.136719\n",
       "29         0.053     0.01                 100.00  4.237864  0.132999"
      ]
     },
     "execution_count": 155,
     "metadata": {},
     "output_type": "execute_result"
    }
   ],
   "source": [
    "data"
   ]
  },
  {
   "cell_type": "code",
   "execution_count": 138,
   "metadata": {},
   "outputs": [
    {
     "data": {
      "text/plain": [
       "Text(0.5, 1.0, 'Log-Normal Probability Density Function')"
      ]
     },
     "execution_count": 138,
     "metadata": {},
     "output_type": "execute_result"
    },
    {
     "data": {
      "image/png": "[encoded data removed]",
      "text/plain": [
       "<Figure size 432x288 with 1 Axes>"
      ]
     },
     "metadata": {},
     "output_type": "display_data"
    }
   ],
   "source": [
    "# Plot\n",
    "x = data.phi\n",
    "y = data.pdf\n",
    "\n",
    "plt.plot(x,y)\n",
    "\n",
    "plt.xlabel('Grain Size (phi scale)') \n",
    "plt.ylabel('Probability')\n",
    "plt.title('Log-Normal Probability Density Function')"
   ]
  },
  {
   "cell_type": "code",
   "execution_count": 210,
   "metadata": {},
   "outputs": [],
   "source": [
    "#cdf = integrate.cumtrapz((1/(std_phi*np.sqrt(2*np.pi)))*(np.e**((-(data.phi - M_dphi))/(2 * (std_phi**2)))))"
   ]
  },
  {
   "cell_type": "code",
   "execution_count": 177,
   "metadata": {},
   "outputs": [
    {
     "data": {
      "text/plain": [
       "Text(0.5, 1.0, 'Probability that a sand size is coarser than a given size')"
      ]
     },
     "execution_count": 177,
     "metadata": {},
     "output_type": "execute_result"
    },
    {
     "data": {
      "image/png": "[encoded data removed]",
      "text/plain": [
       "<Figure size 432x288 with 1 Axes>"
      ]
     },
     "metadata": {},
     "output_type": "display_data"
    }
   ],
   "source": [
    "# # Plot\n",
    "# x1 = pd.DataFrame(data.phi)\n",
    "# x1.drop(index=4, inplace = True)\n",
    "\n",
    "# x = x1\n",
    "# y = cdf\n",
    "\n",
    "# plt.plot(x,y)\n",
    "\n",
    "# plt.xlabel('Grain Size (phi scale)') \n",
    "# plt.ylabel('Probability')\n",
    "# plt.title('Probability that a sand size is coarser than a given size')"
   ]
  },
  {
   "cell_type": "code",
   "execution_count": 211,
   "metadata": {},
   "outputs": [],
   "source": [
    "#cdf"
   ]
  },
  {
   "cell_type": "code",
   "execution_count": 178,
   "metadata": {},
   "outputs": [
    {
     "data": {
      "text/plain": [
       "(0.6870418640438852, 7.627696963429078e-15)"
      ]
     },
     "execution_count": 178,
     "metadata": {},
     "output_type": "execute_result"
    }
   ],
   "source": [
    "integrate.quad(lambda x: (1/(std_phi*np.sqrt(2*np.pi)))*(np.e**((-(x - M_dphi))/(2 * (std_phi**2)))), 0, 4)"
   ]
  },
  {
   "cell_type": "code",
   "execution_count": 122,
   "metadata": {},
   "outputs": [],
   "source": [
    "x = np.arange(0,4.05,0.05)\n",
    "x = np.array(x)"
   ]
  },
  {
   "cell_type": "code",
   "execution_count": 126,
   "metadata": {},
   "outputs": [],
   "source": [
    "cdf = (1/(std_phi*np.sqrt(2*np.pi)))*(np.e**((-(x - M_dphi))/(2 * (std_phi**2))))"
   ]
  },
  {
   "cell_type": "code",
   "execution_count": 127,
   "metadata": {},
   "outputs": [
    {
     "data": {
      "text/plain": [
       "array([ 0.21256448,  0.21139176,  0.2102255 ,  0.20906567,  0.20791225,\n",
       "        0.20676518,  0.20562445,  0.20449001,  0.20336183,  0.20223987,\n",
       "        0.2011241 ,  0.20001449,  0.198911  ,  0.1978136 ,  0.19672225,\n",
       "        0.19563692,  0.19455759,  0.1934842 ,  0.19241674,  0.19135517,\n",
       "        0.19029945,  0.18924956,  0.18820546,  0.18716712,  0.18613451,\n",
       "        0.1851076 ,  0.18408635,  0.18307074,  0.18206073,  0.18105629,\n",
       "        0.18005739,  0.179064  ,  0.1780761 ,  0.17709364,  0.17611661,\n",
       "        0.17514497,  0.17417868,  0.17321773,  0.17226208,  0.1713117 ,\n",
       "        0.17036657,  0.16942664,  0.16849191,  0.16756233,  0.16663788,\n",
       "        0.16571853,  0.16480425,  0.16389502,  0.1629908 ,  0.16209158,\n",
       "        0.16119731,  0.16030797,  0.15942355,  0.158544  ,  0.1576693 ,\n",
       "        0.15679943,  0.15593436,  0.15507407,  0.15421852,  0.15336768,\n",
       "        0.15252155,  0.15168008,  0.15084325,  0.15001104,  0.14918342,\n",
       "        0.14836037,  0.14754186,  0.14672786,  0.14591836,  0.14511332,\n",
       "        0.14431272,  0.14351654,  0.14272475,  0.14193733,  0.14115426,\n",
       "        0.1403755 ,  0.13960104,  0.13883086,  0.13806492,  0.13730321,\n",
       "        0.1365457 ])"
      ]
     },
     "execution_count": 127,
     "metadata": {},
     "output_type": "execute_result"
    }
   ],
   "source": [
    "cdf"
   ]
  },
  {
   "cell_type": "code",
   "execution_count": 129,
   "metadata": {},
   "outputs": [
    {
     "data": {
      "text/plain": [
       "[<matplotlib.lines.Line2D at 0x10feb7748>]"
      ]
     },
     "execution_count": 129,
     "metadata": {},
     "output_type": "execute_result"
    },
    {
     "data": {
      "image/png": "[encoded data removed]",
      "text/plain": [
       "<Figure size 432x288 with 1 Axes>"
      ]
     },
     "metadata": {},
     "output_type": "display_data"
    }
   ],
   "source": [
    "plt.plot(x, cdf)"
   ]
  },
  {
   "cell_type": "code",
   "execution_count": 47,
   "metadata": {},
   "outputs": [],
   "source": [
    "def histogram_figure(df_target): \n",
    "    from matplotlib import rcParams\n",
    "    rcParams['axes.titlepad'] = 15\n",
    "    fig, ax = plt.subplots(1,1,figsize=(6, 4))\n",
    "    plt.rcParams[\"patch.force_edgecolor\"] = True\n",
    "    sns.distplot(df_target.values)\n",
    "    fig.text(0.5, 0.02, 'Grain Size (mm)', ha='center', va = 'top', fontsize = 18)\n",
    "    ax.set_title('Grain Size Distribution', fontsize = 25)\n",
    "    ax.tick_params(axis='both', which='major', labelsize=15)\n",
    "    #plt.savefig('targethist.png', dpi=600, bbox_inches = \"tight\")"
   ]
  },
  {
   "cell_type": "code",
   "execution_count": 48,
   "metadata": {},
   "outputs": [
    {
     "data": {
      "image/png": "[encoded data removed]",
      "text/plain": [
       "<Figure size 432x288 with 1 Axes>"
      ]
     },
     "metadata": {},
     "output_type": "display_data"
    }
   ],
   "source": [
    "df_target = data['GrainSize_mm']\n",
    "histogram_figure(df_target)"
   ]
  },
  {
   "cell_type": "code",
   "execution_count": null,
   "metadata": {},
   "outputs": [],
   "source": []
  }
 ],
 "metadata": {
  "kernelspec": {
   "display_name": "Python 3",
   "language": "python",
   "name": "python3"
  },
  "language_info": {
   "codemirror_mode": {
    "name": "ipython",
    "version": 3
   },
   "file_extension": ".py",
   "mimetype": "text/x-python",
   "name": "python",
   "nbconvert_exporter": "python",
   "pygments_lexer": "ipython3",
   "version": "3.6.5"
  }
 },
 "nbformat": 4,
 "nbformat_minor": 4
}
